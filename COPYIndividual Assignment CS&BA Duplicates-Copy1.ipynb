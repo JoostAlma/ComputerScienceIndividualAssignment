{
 "cells": [
  {
   "cell_type": "code",
   "execution_count": 1,
   "id": "06534bc0",
   "metadata": {},
   "outputs": [],
   "source": [
    "import json\n",
    "import numpy as np\n",
    "import matplotlib.pyplot as plt\n",
    "import sys\n",
    "import pandas as pd\n",
    "import requests\n",
    "from sklearn.utils import resample\n",
    "import math\n",
    "import re\n",
    "import time\n",
    "import random\n",
    "from sklearn.model_selection import train_test_split\n",
    "import kshingle as ks\n",
    "from sklearn.utils import shuffle"
   ]
  },
  {
   "cell_type": "markdown",
   "id": "dba1615a",
   "metadata": {},
   "source": [
    "## Individual Assignment Computer Science COPY\n",
    "\n",
    "Joost Alma\n",
    "577925ja\n",
    "\n",
    "\n",
    "# Goal: perform duplicate detection: Which product descriptions refer to the very same product.\n",
    "\n",
    "Propose a scalable solution for the involved computations by reducing the number of comparisons using LHS\n",
    "LHS: evaluate for efficacy (werkzaamheid) and efficiency\n",
    "\n",
    "ModelID only for training\n",
    "\n",
    "Use bootstrapping (with replacement) 63% training data, 37% test data\n",
    "Take at least 5 bootstraps (robustness)\n",
    "\n",
    "\n",
    "# Performance evaluation:\n",
    "1. Average (across bootstrapps) F1-measure (harmonic mean between precision and recall)\n",
    "\n",
    "\n",
    "Interpretation:\n",
    "- TP: The pairs of products that are predicted to be duplicates and are real duplicates. \n",
    "- FP: is given by the pairs of products that are predicted to be duplicates but are real non-duplicates. \n",
    "- TN: is given by pairs of products that are predicted to be nonduplicates and are real non-duplicates. \n",
    "- FN: The pairs of products that are predicted to be non-duplicates but are real duplicates"
   ]
  },
  {
   "cell_type": "markdown",
   "id": "18759ee0",
   "metadata": {},
   "source": [
    "# Importing dataset"
   ]
  },
  {
   "cell_type": "code",
   "execution_count": 2,
   "id": "b3156367",
   "metadata": {},
   "outputs": [],
   "source": [
    "with open(\"TVs-all-merged.json\") as jsonFile:\n",
    "    data = json.load(jsonFile)\n",
    "    \n",
    "#     jsonFile.close() #waarom nodig?\n",
    "#     data = json.dumps(data, indent=2, sort_keys=True) #make data more readable"
   ]
  },
  {
   "cell_type": "code",
   "execution_count": null,
   "id": "55a960c9",
   "metadata": {},
   "outputs": [],
   "source": [
    "\n"
   ]
  },
  {
   "cell_type": "markdown",
   "id": "a047cb97",
   "metadata": {},
   "source": [
    "# Create list to be filled with datafile"
   ]
  },
  {
   "cell_type": "code",
   "execution_count": 59,
   "id": "db157fae",
   "metadata": {},
   "outputs": [
    {
     "data": {
      "text/html": [
       "<div>\n",
       "<style scoped>\n",
       "    .dataframe tbody tr th:only-of-type {\n",
       "        vertical-align: middle;\n",
       "    }\n",
       "\n",
       "    .dataframe tbody tr th {\n",
       "        vertical-align: top;\n",
       "    }\n",
       "\n",
       "    .dataframe thead th {\n",
       "        text-align: right;\n",
       "    }\n",
       "</style>\n",
       "<table border=\"1\" class=\"dataframe\">\n",
       "  <thead>\n",
       "    <tr style=\"text-align: right;\">\n",
       "      <th></th>\n",
       "      <th>shop</th>\n",
       "      <th>url</th>\n",
       "      <th>modelID</th>\n",
       "      <th>featuresMap</th>\n",
       "      <th>title</th>\n",
       "    </tr>\n",
       "  </thead>\n",
       "  <tbody>\n",
       "    <tr>\n",
       "      <th>0</th>\n",
       "      <td>bestbuy.com</td>\n",
       "      <td>http://www.bestbuy.com/site/Philips+-+4000+Ser...</td>\n",
       "      <td>29PFL4508/F7</td>\n",
       "      <td>{'Screen Size Class': '29\"', 'DVI Inputs': '0'...</td>\n",
       "      <td>Philips 4000 Series 29\" Class 2812\" Diag. LED ...</td>\n",
       "    </tr>\n",
       "    <tr>\n",
       "      <th>1</th>\n",
       "      <td>newegg.com</td>\n",
       "      <td>http://www.newegg.com/Product/Product.aspx?Ite...</td>\n",
       "      <td>SC-3211</td>\n",
       "      <td>{'Headphone': 'Yes', 'Remote Control': 'Full F...</td>\n",
       "      <td>Newegg.com - SuperSonic 32\" 720p LED HDTV SC-3211</td>\n",
       "    </tr>\n",
       "    <tr>\n",
       "      <th>2</th>\n",
       "      <td>bestbuy.com</td>\n",
       "      <td>http://www.bestbuy.com/site/Sharp+-+AQUOS+-+90...</td>\n",
       "      <td>LC-90LE657U</td>\n",
       "      <td>{'Language Options': 'English, French, Spanish...</td>\n",
       "      <td>Sharp AQUOS 90\" Class 90\" Diag. LED 1080p 120H...</td>\n",
       "    </tr>\n",
       "    <tr>\n",
       "      <th>3</th>\n",
       "      <td>bestbuy.com</td>\n",
       "      <td>http://www.bestbuy.com/site/Philips+-+2000+Ser...</td>\n",
       "      <td>39PFL2908/F7</td>\n",
       "      <td>{'Meta Title': 'Philips Electronics 39PFL2908'...</td>\n",
       "      <td>Philips 2000 Series 39\" Class 3858\" Diag. LED ...</td>\n",
       "    </tr>\n",
       "    <tr>\n",
       "      <th>4</th>\n",
       "      <td>newegg.com</td>\n",
       "      <td>http://www.newegg.com/Product/Product.aspx?Ite...</td>\n",
       "      <td>LC70LE550U</td>\n",
       "      <td>{'Remote Control': 'Yes', 'Series': 'Aquos', '...</td>\n",
       "      <td>Newegg.com - Sharp Aquos 70\" Class (69.5\" Diag...</td>\n",
       "    </tr>\n",
       "    <tr>\n",
       "      <th>...</th>\n",
       "      <td>...</td>\n",
       "      <td>...</td>\n",
       "      <td>...</td>\n",
       "      <td>...</td>\n",
       "      <td>...</td>\n",
       "    </tr>\n",
       "    <tr>\n",
       "      <th>1619</th>\n",
       "      <td>bestbuy.com</td>\n",
       "      <td>http://www.bestbuy.com/site/Panasonic+-+VIERA+...</td>\n",
       "      <td>TC-P55GT31</td>\n",
       "      <td>{'Internet Connectable': 'Yes', 'Language Opti...</td>\n",
       "      <td>Panasonic - VIERA 55\"  Class / Plasma / 1080p ...</td>\n",
       "    </tr>\n",
       "    <tr>\n",
       "      <th>1620</th>\n",
       "      <td>newegg.com</td>\n",
       "      <td>http://www.newegg.com/Product/Product.aspx?Ite...</td>\n",
       "      <td>UN40EH5000FXZA</td>\n",
       "      <td>{'Component Video': '1 In', 'Energy Star Compl...</td>\n",
       "      <td>Samsung 40\" Class (40.0\" Diag.) 1080p 60Hz LED...</td>\n",
       "    </tr>\n",
       "    <tr>\n",
       "      <th>1621</th>\n",
       "      <td>newegg.com</td>\n",
       "      <td>http://www.newegg.com/Product/Product.aspx?Ite...</td>\n",
       "      <td>UN40EH5000FXZA</td>\n",
       "      <td>{'Component Video': '1 In', 'Energy Star Compl...</td>\n",
       "      <td>Samsung 40\" Class (40.0\" Diag.) 1080p 60Hz LED...</td>\n",
       "    </tr>\n",
       "    <tr>\n",
       "      <th>1622</th>\n",
       "      <td>bestbuy.com</td>\n",
       "      <td>http://www.bestbuy.com/site/Insignia%26%23153%...</td>\n",
       "      <td>NS-32E859A11</td>\n",
       "      <td>{'Internet Connectable': 'Yes', 'Language Opti...</td>\n",
       "      <td>Insignia - Connected TV 32\" Class / 1080p / 1...</td>\n",
       "    </tr>\n",
       "    <tr>\n",
       "      <th>1623</th>\n",
       "      <td>bestbuy.com</td>\n",
       "      <td>http://www.bestbuy.com/site/NEC+-+42%22+Class+...</td>\n",
       "      <td>E424</td>\n",
       "      <td>{'Meta Title': 'NEC Display Solutions E424', '...</td>\n",
       "      <td>NEC 42\" Class 42\" Diag. LEDLCD TV 1080p HDTV 1...</td>\n",
       "    </tr>\n",
       "  </tbody>\n",
       "</table>\n",
       "<p>1624 rows × 5 columns</p>\n",
       "</div>"
      ],
      "text/plain": [
       "             shop                                                url  \\\n",
       "0     bestbuy.com  http://www.bestbuy.com/site/Philips+-+4000+Ser...   \n",
       "1      newegg.com  http://www.newegg.com/Product/Product.aspx?Ite...   \n",
       "2     bestbuy.com  http://www.bestbuy.com/site/Sharp+-+AQUOS+-+90...   \n",
       "3     bestbuy.com  http://www.bestbuy.com/site/Philips+-+2000+Ser...   \n",
       "4      newegg.com  http://www.newegg.com/Product/Product.aspx?Ite...   \n",
       "...           ...                                                ...   \n",
       "1619  bestbuy.com  http://www.bestbuy.com/site/Panasonic+-+VIERA+...   \n",
       "1620   newegg.com  http://www.newegg.com/Product/Product.aspx?Ite...   \n",
       "1621   newegg.com  http://www.newegg.com/Product/Product.aspx?Ite...   \n",
       "1622  bestbuy.com  http://www.bestbuy.com/site/Insignia%26%23153%...   \n",
       "1623  bestbuy.com  http://www.bestbuy.com/site/NEC+-+42%22+Class+...   \n",
       "\n",
       "             modelID                                        featuresMap  \\\n",
       "0       29PFL4508/F7  {'Screen Size Class': '29\"', 'DVI Inputs': '0'...   \n",
       "1            SC-3211  {'Headphone': 'Yes', 'Remote Control': 'Full F...   \n",
       "2        LC-90LE657U  {'Language Options': 'English, French, Spanish...   \n",
       "3       39PFL2908/F7  {'Meta Title': 'Philips Electronics 39PFL2908'...   \n",
       "4         LC70LE550U  {'Remote Control': 'Yes', 'Series': 'Aquos', '...   \n",
       "...              ...                                                ...   \n",
       "1619      TC-P55GT31  {'Internet Connectable': 'Yes', 'Language Opti...   \n",
       "1620  UN40EH5000FXZA  {'Component Video': '1 In', 'Energy Star Compl...   \n",
       "1621  UN40EH5000FXZA  {'Component Video': '1 In', 'Energy Star Compl...   \n",
       "1622    NS-32E859A11  {'Internet Connectable': 'Yes', 'Language Opti...   \n",
       "1623            E424  {'Meta Title': 'NEC Display Solutions E424', '...   \n",
       "\n",
       "                                                  title  \n",
       "0     Philips 4000 Series 29\" Class 2812\" Diag. LED ...  \n",
       "1     Newegg.com - SuperSonic 32\" 720p LED HDTV SC-3211  \n",
       "2     Sharp AQUOS 90\" Class 90\" Diag. LED 1080p 120H...  \n",
       "3     Philips 2000 Series 39\" Class 3858\" Diag. LED ...  \n",
       "4     Newegg.com - Sharp Aquos 70\" Class (69.5\" Diag...  \n",
       "...                                                 ...  \n",
       "1619  Panasonic - VIERA 55\"  Class / Plasma / 1080p ...  \n",
       "1620  Samsung 40\" Class (40.0\" Diag.) 1080p 60Hz LED...  \n",
       "1621  Samsung 40\" Class (40.0\" Diag.) 1080p 60Hz LED...  \n",
       "1622  Insignia - Connected TV 32\" Class / 1080p / 1...  \n",
       "1623  NEC 42\" Class 42\" Diag. LEDLCD TV 1080p HDTV 1...  \n",
       "\n",
       "[1624 rows x 5 columns]"
      ]
     },
     "metadata": {},
     "output_type": "display_data"
    }
   ],
   "source": [
    "file = []\n",
    "\n",
    "##Add datafile to the list 'file'\n",
    "for i in range(len(list(data.values()))):\n",
    "    if len(list(data.values())[i]) ==1:\n",
    "        file.append(list(data.values())[i][0])\n",
    "    else:\n",
    "        for j in range(len(list(data.values())[i])):\n",
    "            file.append(list(data.values())[i][1:][0])\n",
    "    \n",
    "df = pd.DataFrame(file)\n",
    "display(df)\n"
   ]
  },
  {
   "cell_type": "code",
   "execution_count": 4,
   "id": "837cb4a8",
   "metadata": {},
   "outputs": [
    {
     "name": "stdout",
     "output_type": "stream",
     "text": [
      "Total ammount of duplicates: 329\n",
      "22LN4510 is contained in dupID 2 times\n"
     ]
    }
   ],
   "source": [
    "##extract all double modelID's from datafile\n",
    "dupID = df.pivot_table(columns=['modelID'], aggfunc='size')\n",
    "dupID = dupID[dupID > 1]\n",
    "print(\"Total ammount of duplicates:\", len(dupID))\n",
    "\n",
    "##Enter a productID to check whether and how many times it is in the dataset \n",
    "def duplicateControl(A):\n",
    "    if A in dupID:\n",
    "        print(A, 'is contained in dupID', dupID[A], 'times')\n",
    "    else:\n",
    "        print(A, 'is not more than once in the dataset')\n",
    "        \n",
    "duplicateControl('22LN4510')\n"
   ]
  },
  {
   "cell_type": "markdown",
   "id": "1395ce40",
   "metadata": {},
   "source": [
    "# Extract all words of the dataset and put in list to eliminate duplicates\n"
   ]
  },
  {
   "cell_type": "code",
   "execution_count": null,
   "id": "32ad094c",
   "metadata": {},
   "outputs": [],
   "source": []
  },
  {
   "cell_type": "code",
   "execution_count": null,
   "id": "9ccda69e",
   "metadata": {},
   "outputs": [],
   "source": []
  },
  {
   "cell_type": "markdown",
   "id": "87ac1a2d",
   "metadata": {},
   "source": [
    "# Bootstrapping, train & test datasets"
   ]
  },
  {
   "cell_type": "code",
   "execution_count": 5,
   "id": "61cd1794",
   "metadata": {},
   "outputs": [],
   "source": [
    "##seperate the x_data and y_data\n",
    "\n",
    "x_data = df[['shop', 'url', 'featuresMap', 'title']]\n",
    "y_data = df['modelID']"
   ]
  },
  {
   "cell_type": "code",
   "execution_count": 6,
   "id": "d0d3307d",
   "metadata": {
    "scrolled": false
   },
   "outputs": [
    {
     "name": "stdout",
     "output_type": "stream",
     "text": [
      "length xtrain 1023\n",
      "length ytrain 1023\n",
      "length xtest 601\n",
      "length ytest 601\n"
     ]
    }
   ],
   "source": [
    "##split x_data and y_data into x&y train & test data\n",
    "##Traindataset is roughly 63% of the original dataset\n",
    "x_train, x_test, y_train, y_test = train_test_split(x_data, y_data, test_size=0.37)\n",
    "print('length xtrain', len(x_train)); print('length ytrain', len(y_train))\n",
    "print('length xtest', len(x_test)); print('length ytest', len(y_test))"
   ]
  },
  {
   "cell_type": "code",
   "execution_count": null,
   "id": "55042231",
   "metadata": {},
   "outputs": [],
   "source": []
  },
  {
   "cell_type": "markdown",
   "id": "4571694f",
   "metadata": {},
   "source": [
    "# Keywords & convert titles to words\n",
    "\n",
    "Use title only for now"
   ]
  },
  {
   "cell_type": "code",
   "execution_count": 7,
   "id": "ee3bc039",
   "metadata": {},
   "outputs": [
    {
     "name": "stdout",
     "output_type": "stream",
     "text": [
      "philips 4000 series 29\" class 2812\" diag. led 720p 60hz hdtv 29pfl4508f7 - best buy\n",
      "29pfl4508/f7\n"
     ]
    }
   ],
   "source": [
    "##First, make a function which converts the titles into a strings \n",
    "#https://www.learndatasci.com/tutorials/building-recommendation-engine-locality-sensitive-hashing-lsh-python/\n",
    "\n",
    "##Function: input is the index number of the title to be converted into strings\n",
    "\n",
    "\n",
    "def textfunc(A, index_sample):\n",
    "    words = A.iloc[index_sample]\n",
    "#     words = re.sub(r'[^\\w\\s]','', words)\n",
    "    \n",
    "    units = words.split()\n",
    "    units = words.lower() #needed for modelID to be filtered\n",
    "    return str(units)\n",
    "\n",
    "print(textfunc(x_data['title'], 0)) #gives the title of the first product in x-trainset as strings\n",
    "print(textfunc(y_data, 0))\n"
   ]
  },
  {
   "cell_type": "code",
   "execution_count": 23,
   "id": "800ca6e6",
   "metadata": {},
   "outputs": [
    {
     "data": {
      "text/plain": [
       "['29pfl4508f7',\n",
       " 'sc3211',\n",
       " 'lc90le657u',\n",
       " '39pfl2908f7',\n",
       " 'lc70le550u',\n",
       " 'un40f6350a',\n",
       " 'hg40na577lf',\n",
       " 'un46f5000af',\n",
       " 'e463',\n",
       " 'un46es6580']"
      ]
     },
     "execution_count": 23,
     "metadata": {},
     "output_type": "execute_result"
    }
   ],
   "source": [
    "##create a list consisting of all modelID's to later filter them out of the titles for keywords\n",
    "listIDs = []\n",
    "for i in range(len(df)):\n",
    "    listIDs.append(textfunc(y_data, i))  \n",
    "    listIDs[i] = listIDs[i].replace('/', '')\n",
    "    listIDs[i] = listIDs[i].replace('-', '')\n",
    "listIDs[0:10]"
   ]
  },
  {
   "cell_type": "code",
   "execution_count": null,
   "id": "187bdc01",
   "metadata": {},
   "outputs": [],
   "source": []
  },
  {
   "cell_type": "markdown",
   "id": "75fd8694",
   "metadata": {},
   "source": [
    "# Combine all titles\n",
    "Create shingles from the titles"
   ]
  },
  {
   "cell_type": "code",
   "execution_count": 69,
   "id": "7d8542dd",
   "metadata": {},
   "outputs": [
    {
     "name": "stdout",
     "output_type": "stream",
     "text": [
      "['philips 4000 series 29inch class 2812inch led 720p 60hz hdtv 29pfl4508f7  best buy', 'newegg.com  supersonic 32inch 720p ledHdTv sc3211', 'sharp aquos 90inch class 90inch led 1080p 120hz smart3DHdtv lc90le657u  best buy', 'philips 2000 series 39inch class 3858inch led 1080p 60hz smartHdtv 39pfl2908f7  best buy', 'newegg.com  sharp aquos 70inch class (69.5inchonal) 1080p 120hz ledlcd hdtv  lc70le550u', 'newegg.com  refurbished: samsung 40inch 1080p 120hz smartLedHdtv  un40f6350a', 'samsung 40inch class 40inch ledlcd tv 1080p hdtv 1080p hg40na577lf  best buy', 'samsung 46inch class 46inch ledlcd tv 1080p hdtv 1080p rose black un46f5000af  best buy', 'nec refurbished 46inch class 46inch ledlcd tv 1080p hdtv 1080p e463  best buy', 'newegg.com  refurbished: samsung 46inch class (45.9inch) 1080p 240hz ledHdTv un46es6580', 'newegg.com  refurbished: samsung 46inch class (45.9inch) 1080p 240hz ledHdTv un46es6580', 'tcl 39inch class 3812inch led 1080p 60hz hdtv le39fhde3010  best buy', 'toshiba 32inch class (31.5inch) 720p 60hz ledlcd hdtv 32sl410u', 'toshiba 32inch class (31.5inch) 720p 60hz ledlcd hdtv 32sl410u', 'hisense 42inch 1080p 60hz lcd hdtv ltdn42v68us  newegg.com', 'sony bravia 40inch 1080p 60hz lcd hdtv kdl40bx420', 'sony bravia 40inch 1080p 60hz lcd hdtv kdl40bx420', 'samsung pn60e8000 60inch 1080p 600hz ultra slim plasma 3d hdtv (black) (2012 model)', 'samsung 40inch class 40inch ledlcd tv 1080p hdtv 1080p h40b  best buy', 'newegg.com  lg 26inch class (26.0inchonal) 720p 60hz ledlcd hdtv 26ln4500', 'newegg.com  lg 26inch class (26.0inchonal) 720p 60hz ledlcd hdtv 26ln4500', 'newegg.com  refurbished: sanyo 55inch 1080p 120hz ledlcd hdtv dp55441', 'newegg.com  sharp 70inch 1080p 120hz ledlcd hdtv  lc70le650u', 'samsung pn51e8000 51inch 1080p 600hz ultra slim plasma 3d hdtv (black) (2012 model)', 'newegg.com  samsung  64inch 1080p plasma tv', 'newegg.com  coby 32inch class (31.5inch measured) 720p 60hz ledlcd hdtv ledtv3226', 'panasonic 42inch class (41.6inch) 720p 600hz plasma hdtv tcp42x3', 'panasonic 42inch class (41.6inch) 720p 600hz plasma hdtv tcp42x3', 'newegg.com  sony bravia xbr65hx950 65inch 3d led hdtv', 'newegg.com  samsung 43inch 720p plasma hdtv  pn43f4500afxza', 'newegg.com  samsung 43inch 720p plasma hdtv  pn43f4500afxza', 'newegg.com  refurbished: lg 55inch class (54.6inch) 3d 1080p 240hz ledHdTv  55lm8600', 'newegg.com  refurbished: lg 55inch class (54.6inch) 3d 1080p 240hz ledHdTv  55lm8600', 'samsung 43inch class 43inch plasma 720p 600hz hdtv pn43e450a1fxza  best buy', 'rca 7inch widescreen portable dvd player with digital tv dpdm70r  best buy', 'newegg.com  toshiba 65” 4k ultra hd 240hz smart led tv with 3d bluray player and soundbar – 65l9300ubdx6400kit', 'newegg.com  refurbished: lg 55inch (54.6inchonal) 1080p 120hz cinema 3d smartHdtv  55la6200', 'newegg.com  refurbished: lg 55inch (54.6inchonal) 1080p 120hz cinema 3d smartHdtv  55la6200', 'newegg.com  refurbished: lg 42inch 1080p 60hz cinema 3d led tv 42lm3400', 'panasonic viera 50inch class 49910inch plasma 720p 600hz hdtv tcp50x60  best buy', 'newegg.com  samsung 46inch class (45.9inchonal size) 1080p 120hz ledlcd hdtv  un46fh6030fxza', 'samsung lcd hdtv ln32d403fxza  newegg.com', 'samsung pn60e550 60inch 1080p 600hz 3d slim plasma hdtv (black)', 'samsung refurbished 550 series 40inch class lcd 1080p 60hz hdtv ln40d550k1f  best buy', 'samsung 46inch 1080p 60hz ledlcd hdtv w/ 120cmr un46eh5000fxza  newegg.com', 'samsung 46inch 1080p 60hz ledlcd hdtv w/ 120cmr un46eh5000fxza  newegg.com', 'vizio mseries 65inch class 65inch led 1080p 240hz smart3DHdtv m651da2r  best buy', 'samsung 64inch class 64inch plasma 1080p 600hz smart3DHdtv pn64f8500afxza  best buy', 'lg 47g2 47inch cinema 3d 1080p 120hz ledlcd hdtv with google tv and six pairs of 3d glasses (2012 model)', 'lg 47g2 47inch cinema 3d 1080p 120hz ledlcd hdtv with google tv and six pairs of 3d glasses (2012 model)', 'lg 47g2 47inch cinema 3d 1080p 120hz ledlcd hdtv with google tv and six pairs of 3d glasses (2012 model)', 'newegg.com  refurbished: lg 42inch 1080p 120hz ledlcd hdtv  42ls5700', 'toshiba 24inch class (23.5inch) 1080p 60hz ledHdTv 24sl410u', 'toshiba 24inch class (23.5inch) 1080p 60hz ledHdTv 24sl410u', 'samsung pn58c680 58inch 1080p plasma 3d hdtv', 'newegg.com  philips 26inch 720p 60hz ledbacklit lcd hdtv 26pfl4507/f7', 'newegg.com  philips 26inch 720p 60hz ledbacklit lcd hdtv 26pfl4507/f7', 'samsung refurbished 51inch class 5034inch plasma 1080p 600hz hdtv pn51e530rb  best buy', 'newegg.com  sharp 60inch class 1080p 120hz smart led tv – lc60le650u', 'newegg.com  samsung 64inch class (64.01inch) 1080p 600hz plasma hdtv pn64d7000ffxza', 'newegg.com  lg 47inch 1080p 120hz lcd hdtv 47ld500', 'newegg.com  samsung 5500 32inch class (31.5inchonal size) 1080p clear motion rate 120 ledlcd hdtv  un32f5500afxza', 'newegg.com  samsung 5500 32inch class (31.5inchonal size) 1080p clear motion rate 120 ledlcd hdtv  un32f5500afxza', 'toshiba refurbished 55inch class 5458inch led 1080p 120hz smartHdtv tos55sl417ubx  best buy', 'naxa 7inch class 7inch lcd tv black nt7580  best buy', 'newegg.com  lg 47inch class (46.9inchonal) 1080p trumotion 120hz ledlcd hdtv 47ln5700', 'newegg.com  lg 47inch class (46.9inchonal) 1080p trumotion 120hz ledlcd hdtv 47ln5700', 'samsung 60inch class 60inch led 1080p 240hz smart3DHdtv un60f7100afxza  best buy', 'newegg.com  lg 42inch class (41.9inch actual size) 1080p trumotion 120hz ledlcd hdtv 42ln5400', 'newegg.com  lg 42inch class (41.9inch actual size) 1080p trumotion 120hz ledlcd hdtv 42ln5400', 'newegg.com  sharp aquos 60inch 1080p 120hz ledlcd hdtv lc60le820un', 'panasonic 42inch plasma display black th42ph30u  best buy', 'newegg.com  refurbished: samsung 40inch class (40.0inchonal) 1080p 120hz ledlcd hdtv  un40eh6030', 'newegg.com  sansui signature 32inch (31.5inch viewable) 1080p ledlcd hdtv sled3280', 'newegg.com  sansui signature 32inch (31.5inch viewable) 1080p ledlcd hdtv sled3280', 'newegg.com  toshiba 50 class (49.5inchonal widescreen) 1080p clearscan 240hz cloud led tv 50l7300u', 'newegg.com  toshiba 50 class (49.5inchonal widescreen) 1080p clearscan 240hz cloud led tv 50l7300u', 'newegg.com  samsung 75inch class (74.5inchonal size) 1080p 120hz ledlcd hdtv  un75f6400afxza', 'newegg.com  samsung 75inch class (74.5inchonal size) 1080p 120hz ledlcd hdtv  un75f6400afxza', 'coby 46inch 1080p 60hz ledlcd hdtv ledtv4626  newegg.com', 'coby 46inch 1080p 60hz ledlcd hdtv ledtv4626  newegg.com', 'samsung  51inch class / plasma / 720p / 600hz / hdtv', 'panasonic viera 60inch class 6018inch plasma 1080p 600hz smart3DHdtv tcp60st60  best buy', 'vizio 37inch class 37inch lcd tv 1080p hdtv 1080p e371vl  best buy', 'newegg.com  lg 26inch 720p lcd hdtv 26lh200c', 'newegg.com  refurbished: lg 37inch (36.6inchonal) commercial hospitiality lcd hdtv  37lt770h', 'newegg.com  viewsonic 22inch (21.5inch viewable) ledHdTv vt2215led', 'newegg.com  viewsonic 22inch (21.5inch viewable) ledHdTv vt2215led', 'newegg.com  refurbished: samsung 55inch class (54.6inchonal) 3d 1080p smartLedHdtv  un55es7003', 'newegg.com  refurbished: toshiba 65inch class (64.6inch) 1080p 120hz lcd hdtv  65ht2u', 'newegg.com  refurbished: toshiba 65inch class (64.6inch) 1080p 120hz lcd hdtv  65ht2u', 'newegg.com  sharp 70inch 1080p 240hz 3d smart led tv – lc70le857u', 'newegg.com  refurbished: lg 22inch class (21.5inch digaonal) 1080p 60hz ledHdTv  22ln4500', 'newegg.com  refurbished: lg 22inch class (21.5inch digaonal) 1080p 60hz ledHdTv  22ln4500', 'sony 40inch 1080p 60hz ledlcd internet hdtv nsx40gt1', 'sony 40inch 1080p 60hz ledlcd internet hdtv nsx40gt1', 'avue avk10s22w  best buy', 'philips 32inch class 32inch ledlcd tv 720p hdtv 32pfl4508  best buy', 'newegg.com  lg 60inch 1080p 600hz plasma hdtv 60pv450c', 'samsung  51inch class / plasma / 720p / 600hz / hdtv', 'samsung pn58c8000 58inch 1080p 3d plasma hdtv (black)', 'insignia 39inch class 3812inch led 1080p 60hz hdtv ns39d400na14  best buy', 'insignia 28inch class 2712inch led 720p 60hz hdtv ns28e200na14  best buy', 'lg 42pw350 42inch 720p 600hz active 3d plasma hdtv', 'sony 55inch class 5458inch led 1080p 240hz smart3DHdtv kdl55w900a  best buy', 'sunbritetv signature 32inch class 32inch lcd tv 720p hdtv white 3260hd  best buy', 'samsung 40inch class 40inch ledlcd tv 1080p hdtv 1080p glossy black un40f5000af  best buy', 'samsung pn64e7000 64inch 1080p 600hz 3d ultra slim plasma hdtv (black)', 'panasonic 64.5inch class 64.5inch ledlcd tv 1080p hdtv 1080p glossy black th65lru60  best buy', 'newegg.com  refurbished: samsung 55inch class (54.6inchonal size) 1080p 120hz smartLedHdtv  un55f6350', 'newegg.com  samsung 19inch class 720p led tv – un19f4000afxza', 'newegg.com  samsung 19inch class 720p led tv – un19f4000afxza', 'insignia 32inch class 3112inch led 720p 60hz hdtv ns32d120a13  best buy', 'newegg.com  refurbished: toshiba 40inch 40l2200u led 1080p full hd hdtv television slim', 'newegg.com  refurbished: toshiba 40inch 40l2200u led 1080p full hd hdtv television slim', 'magnavox 24inch class 2358inch led 720p 60hz hdtv 24me403v  best buy', 'samsung 46inch class 45910inch led 1080p 240hz smart3DHdtv un46f7500afxza  best buy', 'panasonic viera 32inch class (31.5inch) 1080p 60hz lcd hdtv tcl32u3', 'panasonic viera 32inch class (31.5inch) 1080p 60hz lcd hdtv tcl32u3', 'newegg.com  refurbished: vizio 26inch 720p 60hz razor ledHdTv  e261va', 'newegg.com  refurbished: vizio 26inch 720p 60hz razor ledHdTv  e261va', 'newegg.com  lg 32inch class (31.5inch) 1080p 120hz ledlcd hdtv 32le5300', 'samsung  59inch class / plasma / 1080p / 600hz / 3d / hdtv', 'newegg.com  lg 37inch 1080p 60hz lcd hdtv 37ld450c', 'samsung  19inch class / led / 720p / 60hz / hdtv', 'samsung 55inch class 5458inch led 1080p 120hz 3d hdtv un55eh6030fxza  best buy', 'newegg.com  samsung  40inch 1080p lcd tv', 'newegg.com  refurbished: sanyo 26inch 720p 60hz lcd hdtv  dp26671', 'samsung refurbished 60inch class 60inch led 1080p 120hz smart3DHdtv un60f7050arb  best buy', 'lg 19inch lcd monitor black e1910tbn  best buy', 'jvc refurbished blackcrystal 47inch class 47inch ledlcd tv 1080p 120hz hdtv 1080p jle47bc3500  best buy', 'newegg.com  philips 32inch 720p 60hz ledlcd hdtv 32pfl4507/f7', 'samsung 75inch class 7412inch led 1080p 240hz smart3DHdtv un75f7100afxza  best buy', 'newegg.com  refurbished: sony 32inch 720p 60hz ledHdTv  kdl32r400a', 'newegg.com  refurbished: sony 32inch 720p 60hz ledHdTv  kdl32r400a', 'newegg.com  samsung 5000 32inch class (31.5inchdiagonal size) 1080p clear motion rate 120 ledlcd hdtv  un32f5000afxza', 'newegg.com  samsung 5000 32inch class (31.5inchdiagonal size) 1080p clear motion rate 120 ledlcd hdtv  un32f5000afxza', 'newegg.com  samsung un60f7100 60inch 1080p 240hz led 3d tv', 'newegg.com  lg 22inch class (21.6inch) 720p 60hz ledlcd hdtv 22lv2500', 'toshiba refurbished 40inch class 40inch ledlcd tv 1080p 120hz hdtv 1080p black 40l5200u  best buy', 'newegg.com  lg 60inch class (59.5inchonal) 1080p trumotion 120hz 3d smart tv  60la6200', 'newegg.com  lg 60inch class (59.5inchonal) 1080p trumotion 120hz 3d smart tv  60la6200', 'samsung refurbished 50inch class 49910inch plasma 1080p 600hz smart3DHdtv pn50c8000rb  best buy', 'newegg.com  lg 55inch class (54.6inch) 1080p 480hz ledlcd hdtv 55lw9800', 'newegg.com  refurbished: samsung 6150 series 55inch class (54.6inch) 1080p ledlcd hdtv  un55es6150', 'newegg.com  lg infinia 50inch 1080p 600hz plasma hdtv 50pk950', 'panasonic viera 46inch 600hz (subfield drive) plasma hdtv tcp46s30', 'panasonic viera 46inch 600hz (subfield drive) plasma hdtv tcp46s30', 'sharp aquos 60inch class 60132inch led 1080p 120hz smart3DHdtv lc60le745u  best buy', 'toshiba 58inch class 5712inch led 1080p 120hz smartHdtv 58l4300u  best buy', 'newegg.com  samsung 60inch class (60.0inch) 1080p 240hz ledHdTv un60es7500fxza', 'newegg.com  samsung 60inch class (60.0inch) 1080p 240hz ledHdTv un60es7500fxza', 'samsung un46d6400 46inch 1080p 120hz 3d ledHdTv (black) [2011 model] (2011 model)', 'newegg.com  sharp 70inch class 1080p 240hz smart led tv  lc70le750u', 'samsung 40inch class 40inch led 1080p 120hz hdtv un40eh5050  best buy', 'toshiba 65inch class 6412inch led 4k ultraHdTv 2160p 240hz smart3DHdtv 65l9300u  best buy', 'newegg.com  vizio razor 47inch class (46.96inch) 120hz smart led tv m470sl', 'newegg.com  vizio razor 47inch class (46.96inch) 120hz smart led tv m470sl', 'insignia 32inch class led 1080p 60hz hdtv ns32e440a13  best buy', 'philips 4000 series 24inch class 2358inch led 720p 60hz hdtv 24pfl4508f7  best buy', 'lg 50pm9700 50inch 1080p 600hz active 3d plasma hdtv with trublack filter (2012 model)', 'lg 50pm9700 50inch 1080p 600hz active 3d plasma hdtv with trublack filter (2012 model)', 'lg 50pm9700 50inch 1080p 600hz active 3d plasma hdtv with trublack filter (2012 model)', 'newegg.com  toshiba 50inch class 120hz led tv  50l1350u', 'newegg.com  toshiba 50inch class 120hz led tv  50l1350u', 'newegg.com  refurbished: samsung 60inch 1080p 120hz ledlcd hdtv  un60f6350a', 'samsung refurbished 32inch class 32inch ledlcd tv hdtv h32b  best buy', 'panasonic viera 60inch 1080p 600hz plasma hdtv tcp60gt30', 'panasonic viera 60inch 1080p 600hz plasma hdtv tcp60gt30', 'samsung un46d6500 46inch 1080p 120hz 3d led tv (black) [2011 model]', 'toshiba  32inch class / 1080p / 60hz / lcd hdtv', 'newegg.com  haier 50inch 1080p 60hz ledlcd hdtv  le50f2280', 'newegg.com  haier 50inch 1080p 60hz ledlcd hdtv  le50f2280', 'optoma th1060p dlp projector  1080p  16:9  th1060p  lcd tvs  optoma technology lcd tvs  thenerds.net', 'nec refurbished 70inch widescreen lcd monitor 1080p 420 cdm2 2000:1 60hz 16:9 dvi, vga black p701avt  best buy', 'sharp  aquos 70inch class / led / 1080p / 120hz / hdtv', 'newegg.com  samsung 5000 40inch 1080p clear motion rate 120 ledlcd hdtv  un40f5000afxza', 'panasonic viera 50inch class 49910inch plasma 1080p 600hz smartHdtv tcp50s60  best buy', 'vizio 55inch class (54.6inch) 1080p 240hz ledlcd hdtv xvt553sv  newegg.com', 'lg 60inch class 60inch led 1080p 240hz smart3DHdtv 60lm7200  best buy', 'vizio 70inch class 6912inch led 1080p 120hz smartHdtv e701ia3  best buy', 'samsung un65c8000 65inch 1080p 240hz led 3d hdtv', 'toshiba 84inch class 84inch led 4k ultraHdTv 2160p 240hz smart3DHdtv 84l9300u  best buy', 'newegg.com  open box: samsung 7100 55inch class (54.6inchonal size) 1080p 240hz ledlcd hdtv  un55f7100afxza', 'newegg.com  open box: samsung 7100 55inch class (54.6inchonal size) 1080p 240hz ledlcd hdtv  un55f7100afxza', 'newegg.com  refurbished: sharp aquos quattron 70inch 1080p 240hz led smart tv lc70c7500u', 'newegg.com  refurbished: lg 32inch (31.5inchonally) hospital grade lcd hdtv with hdppv capability  32lq630h', 'newegg.com  refurbished: proscan 24inch 1080p 60hz ledlcd hdtv  pled2435a', 'vizio e470ia0 47inch 1080p ledlcd tv  16:9  hdtv 1080p  120hz  e470ia0  lcd tvs  vizio, inc. lcd tvs  thenerds.net', 'vizio e470ia0 47inch 1080p ledlcd tv  16:9  hdtv 1080p  120hz  e470ia0  lcd tvs  vizio, inc. lcd tvs  thenerds.net', 'samsung 51inch class 5034inch plasma 1080p 600hz hdtv pn51f5300afxza  best buy', 'venturer underthecabinet dvd player with 10inch tftlcd display klv39103  best buy', 'newegg.com  lg 26lt560c 26inch 720p ledlcd tv  hdtv  led tv', 'newegg.com  lg 26lt560c 26inch 720p ledlcd tv  hdtv  led tv', 'jvc 42inch class (42inch) 1080p 60hz lcd hdtv jlc42bc3002  newegg.com', 'jvc 42inch class (42inch) 1080p 60hz lcd hdtv jlc42bc3002  newegg.com', 'coby 40inch 1080p lcd hdtv tftv4028  newegg.com', 'lg 42inch 1080p 120hz ledlcd hdtv 42lv5500', 'lg 42inch 1080p 120hz ledlcd hdtv 42lv5500', 'newegg.com  lg 50inch 720p 600hz plasma hdtv 50pt350c', 'newegg.com  refurbished: samsung 40inch 1080p smartLedHdtv with wifi  un40es6150', \"newegg.com  samsung un46c7000 46' 3d 1080p ledlcd tv  16:9  hdtv 1080p\", \"newegg.com  samsung un46c7000 46' 3d 1080p ledlcd tv  16:9  hdtv 1080p\", 'samsung pn51e6500 51inch 1080p 600hz 3d slim plasma hdtv (black)', \"newegg.com  samsung un32d4000 32' 720p ledlcd tv  16:9  hdtv\", 'vizio eseries 29inch class 29inch led 720p 60hz smartHdtv e291ia1  best buy', 'newegg.com  samsung 51inch class ( 50.73inch) 720p 600hz active 3d plasma hdtv pn51e490b4fxza', 'newegg.com  samsung 51inch class ( 50.73inch) 720p 600hz active 3d plasma hdtv pn51e490b4fxza', 'samsung un75es9000 75inch 1080p 240hz 3d slim ledHdTv (gold)', 'rca 16inch class 1558inch led 720p 60hz hdtv detk156r  best buy', 'newegg.com  samsung 60inch class (59.9inch) 1080p 600hz plasma hdtv pn60e530a3fxza', 'newegg.com  refurbished: samsung 24inch class (23.6inch) full hd 1080p 60hz ledHdTv t24c550nd', 'newegg.com  refurbished: samsung 24inch class (23.6inch) full hd 1080p 60hz ledHdTv t24c550nd', 'samsung un55d6500 55inch 1080p 120hz 3d led tv (black) [2011 model] (2011 model)', 'newegg.com  toshiba  29l1350u 29 inch clearscan 720p led, high', 'westinghouse  60inch class / 1080p / 120hz / lcd hdtv', 'insignia\\x99  46inch class / lcd / 1080p / 120hz / hdtv', 'sharp aquos quattron 70inch class 6912inch led 1080p 240hz smart3DHdtv lc70le755u  best buy', 'sony bravia kdl55hx820 55inch 1080p 3d ledHdTv with builtin wifi, black (2011 model)', 'sharp aquos quattron 70inch class 6912inch led 1080p 240hz smart3DHdtv lc70le757u  best buy', 'newegg.com  philips 40inch 1080p 60hz ledbacklit lcd hdtv 40pfl4707/f7', 'newegg.com  sansui 24inch 1080p ledlcd hdtv sled2480', 'newegg.com  lg 50inch class (49.5inchonal) 1080p trumotion 120hz cinema 3d smart tv 50la6200', 'newegg.com  lg 50inch class (49.5inchonal) 1080p trumotion 120hz cinema 3d smart tv 50la6200', 'sony bravia 32inch class (31.5inch) 1080p 60hz lcd hdtv kdl32bx420', 'sony bravia 32inch class (31.5inch) 1080p 60hz lcd hdtv kdl32bx420', 'hisense refurbished 39inch class 39inch lcd 1080p 60hz hdtv f39v77c  best buy', 'insignia\\x99  55inch class / 1080p / 120hz / lcd hdtv', 'coby 40inch class 4018inch led 1080p 60hz hdtv ledtv4026  best buy', 'supersonic 15inch class 15inch ledlcd tv 720p hdtv sc1511  best buy', 'newegg.com  lg 50inch class (49.5inchonal) 1080p trumotion 120hz google tv  50ga6400', 'newegg.com  lg 50inch class (49.5inchonal) 1080p trumotion 120hz google tv  50ga6400', 'newegg.com  toshiba 65inch class(64.5inchonal) 1080p clearscn 240hz ledlcd hdtv 65l7350u', 'newegg.com  toshiba 65inch class(64.5inchonal) 1080p clearscn 240hz ledlcd hdtv 65l7350u', 'newegg.com  toshiba 42inch 1080p 120hz ledlcd hdtv 42sl417u', 'samsung  46inch class / led / 1080p / 120hz / 3d / hdtv', 'lg infinia 55lw6500 55inch cinema 3d 1080p 240hz ledlcd hdtv with smart tv and four pairs of 3d glasses (2011 model)', 'lg infinia 55lw6500 55inch cinema 3d 1080p 240hz ledlcd hdtv with smart tv and four pairs of 3d glasses (2011 model)', 'lg infinia 55lw6500 55inch cinema 3d 1080p 240hz ledlcd hdtv with smart tv and four pairs of 3d glasses (2011 model)', 'samsung 40inch 1080p 240hz ledlcd hdtv un40eh6000f  newegg.com', 'toshiba 47tl515u 47inch natural 3d 1080p 240hz ledlcd hdtv with net tv, black', 'samsung ln46c750 46inch 1080p 3d lcd hdtv (black)', 'newegg.com  refurbished: jvc 32inch (31.5inchonal) 720p ledHdTv  em32t', 'newegg.com  refurbished: jvc 32inch (31.5inchonal) 720p ledHdTv  em32t', 'panasonic viera tcl47dt50 47inch 1080p 240hz 3d full hd ips ledlcd tv', 'insignia 32inch class 3112inch led 720p 60hz hdtv ns32e321a13  best buy', 'samsung refurbished 55inch class 5458inch led 1080p 600hz smart3DHdtv un55d6900rb  best buy', 'sony bravia kdl55hx750 55inch 240hz 1080p 3d led internet tv, black', 'newegg.com  lg  23inch  1080p  lcd widescreen monitor tv (m2362dpem)', 'vizio refurbished 32inch class 32inch lcd tv 1080p hdtv 1080p e321me  best buy', 'samsung 22inch class (21.5inch) 1080p ledlcd hdtv un22d5003bf', 'samsung 22inch class (21.5inch) 1080p ledlcd hdtv un22d5003bf', 'newegg.com  lg 55inch 1080p 240hz ledlcd hdtv 55la8600', 'newegg.com  lg 55inch 1080p 240hz ledlcd hdtv 55la8600', 'vizio xvt3d424sv 42inch full hd 3d edge lit razor led with smart dimming lcd hdtv 480hz sps with vizio internet apps', 'newegg.com  sharp 70inch thx 4k ultra hd ledHdTv, smart, 3d', 'lg 60inch class 5978inch plasma 1080p 600hz hdtv 60pn5300  best buy', 'newegg.com  toshiba  58l4300u 58 inch clearscan 1080p, 120hz', 'philips 32inch class 32inch ledlcd tv 720p hdtv 32pfl4908  best buy', 'samsung un55es6500 55inch 1080p 120hz 3d slim ledHdTv (black) (2012 model)', 'insignia 24inch class 2358inch led 720p 60hz hdtv ns24e200na14  best buy', 'vizio m3d420sr 42inch 1080p 3d lcd tv (black)', 'philips 2000 series 39inch class 3858inch led 1080p 60hz hdtv 39pfl2708f7  best buy', 'samsung  32inch class / led / 1080p / 60hz / hdtv', 'insignia 32inch class 3112inch led 720p 60hz hdtv ns32d200na14  best buy', 'pyle 42inch class 42inch lcd tv 1080p hdtv 1080p ptc42lc  best buy', 'panasonic 47inch 1080p ledlcd 3d hdtv tcl47et5  newegg.com', 'panasonic 47inch 1080p ledlcd 3d hdtv tcl47et5  newegg.com', 'newegg.com  samsung 51inch class (50.7inch) 1080p 600hz full hd 3d plasma smart tv pn51e6500efxza', 'samsung un50es6580 50inch 1080p 120hz 3d slim ledHdTv (black) (2012 model)', 'rca  46inch class / 1080p / 120hz / lcd hdtv', 'panasonic viera tcl47wt50 47inch 1080p 240hz 3d full hd ips ledlcd tv (2012 model)', 'panasonic viera tcl47wt50 47inch 1080p 240hz 3d full hd ips ledlcd tv (2012 model)', 'panasonic viera tcl47wt50 47inch 1080p 240hz 3d full hd ips ledlcd tv (2012 model)', 'newegg.com  sharp 80inch class 1080p 120hz smart led tv – lc80le650u', 'vizio 19inch class (18.5inch) 720p 60hz ledlcd hdtv m190mv  newegg.com', 'newegg.com  refurbished: vizio 32” widescreen led lcd hdtv – 720p 60hz e320a0 tv', 'newegg.com  refurbished: vizio 32” widescreen led lcd hdtv – 720p 60hz e320a0 tv', 'newegg.com  refurbished: vizio 32” widescreen led lcd hdtv – 720p 60hz e320a0 tv', 'dynex\\x99  32inch class / 720p / 60hz / lcd hdtv dvd combo', 'panasonic viera tcp65vt30 65inch 1080p 3d plasma hdtv, black (2011 model)', 'panasonic viera tcp65vt30 65inch 1080p 3d plasma hdtv, black (2011 model)', 'newegg.com  samsung 50 class (49.5inchonal size) 1080p 120hz ledlcd hdtv  un50f6400afxza', 'newegg.com  samsung 50 class (49.5inchonal size) 1080p 120hz ledlcd hdtv  un50f6400afxza', 'magnavox 32inch class 3112inch led 720p 60hz hdtv 32me403v  best buy', 'toshiba 55l6200u 55inch 1080p 120hz 3dp smart tv (black) (2012 model)', 'toshiba 55l6200u 55inch 1080p 120hz 3dp smart tv (black) (2012 model)', 'toshiba 55l6200u 55inch 1080p 120hz 3dp smart tv (black) (2012 model)', 'newegg.com  lg 42inch class (41.9inchonal) 1080p trumotion 120hz cinema 3d smart tv 42la6200', 'newegg.com  lg 42inch class (41.9inchonal) 1080p trumotion 120hz cinema 3d smart tv 42la6200', 'dynex\\x99  19inch class / 720p / 60hz / lcd hdtv dvd combo', 'newegg.com  samsung  46inch 1080p 60hz lcd tv', 'newegg.com  60inch plasma 3,000,000:1 1080p', 'newegg.com  jvc blackcrystal 47inch 1080p 120hz lcd hdtv jlc47bc3000', 'samsung un55c8000 55inch 1080p 240hz 3d ledHdTv', 'newegg.com  sharp  60inch 3d 1080p led tv', 'newegg.com  sharp  60inch 3d 1080p led tv', 'newegg.com  haier 22inch 1080p 60hz ledlcd hdtv  le22d3380', 'nec accusync 22inch lcd monitor black as221wm  best buy', 'newegg.com  samsung 6400 55 class (54.6inchonal size) 1080p 120hz ledlcd hdtv  un55f6400afxza', 'newegg.com  samsung 6400 55 class (54.6inchonal size) 1080p 120hz ledlcd hdtv  un55f6400afxza', 'coby lcd hdtv tftv3925  newegg.com', 'panasonic 39inch class 39inch ledlcd tv 1080p hdtv 1080p glossy black th39lru60  best buy', 'newegg.com  refurbished: lg 55inch 1080p 120hz cinema 3d led tv  55lm4600', 'sharp aquos quattron 80inch class 80inch led 1080p 240hz smart3DHdtv lc80le844u  best buy', 'newegg.com  refurbished: samsung 6300 46inch class (45.9inchonal size) 1080p 120hz ledlcd hdtv  un46f6300', 'vizio m3d550sr 55inch 1080p lcd tv (black)', 'newegg.com  refurbished: vizio eseries 24inch razor 1080p 60hz led smartHdtv with builtin wifi | e241ia1', 'newegg.com  refurbished: vizio eseries 24inch razor 1080p 60hz led smartHdtv with builtin wifi | e241ia1', 'newegg.com  lg class 32inch (31.5inch measured diagonally) 720p 60hz ledlcd hdtv 32ls349c', 'newegg.com  lg class 32inch (31.5inch measured diagonally) 720p 60hz ledlcd hdtv 32ls349c', 'samsung 60inch class 60inch led 1080p 120hz hdtv un60fh6003fxza  best buy', 'newegg.com  refurbished: sanyo 50inch 720p plasma hdtv  dp50710', 'vizio 42inch 60hz ledlcd hdtv m420nv  newegg.com', 'samsung 50inch class 4912inch led 1080p 60hz smartHdtv un50eh5300f  best buy', 'panasonic refurbished smart viera 55inch class 5458inch led 1080p 60hz smartHdtv tc55le54rb  best buy', 'panasonic viera 50inch 1080p 600hz plasma hdtv tcp50s30', 'panasonic viera 50inch 1080p 600hz plasma hdtv tcp50s30', 'newegg.com  sceptre 40” class 1080p lcd hdtv w/ mhl port – x405bvfmd', 'samsung 27inch class 27inch ledlcd tv 1080p hdtv 1080p rose black t27b350nd  best buy', 'dynex\\x99  19inch class / led / 720p / 60hz / hdtv', 'vizio e390ia1 39inch 1080p ledlcd tv  16:9  hdtv 1080p  120hz  e390ia1  lcd tvs  vizio, inc. lcd tvs  thenerds.net', 'samsung pn59d8000 59inch 1080p 600hz 3d plasma hdtv (black)', 'samsung pn43d450 43inch 720p 600hz plasma hdtv (black) [2011 model] (2011 model)', 'newegg.com  samsung un55es6600 55inch 3d 1080p led tv  16:9  hdtv 1080p', 'newegg.com  samsung un55es6600 55inch 3d 1080p led tv  16:9  hdtv 1080p', 'newegg.com  samsung 75inch class (74.5inchonal size) 1080p 240hz ledlcd hdtv un75f8000afxza', 'newegg.com  samsung 75inch class (74.5inchonal size) 1080p 240hz ledlcd hdtv un75f8000afxza', 'toshiba 46inch 1080p 120hz ledHdTv 46l5200u  newegg.com', 'sharp aquos 60inch 1080p 240hz ledlcd hdtv lc60le835u', 'sharp aquos 60inch 1080p 240hz ledlcd hdtv lc60le835u', 'sharp aquos 60inch 1080p 240hz ledlcd hdtv lc60le835u', 'tcl 32inch class 3112inch led 720p 60hz hdtv le32hde5310  best buy', 'newegg.com  philips 55inch 1080p 120hz ledlcd hdtv 55pfl4706/f7', 'samsung un60d7000 60inch 1080p 240hz 3d ledHdTv, silver [2011 model] (2011 model)', 'insignia\\x99  22inch class/ led / 1080p / 60hz /hdtv', 'nec 55inch class 55inch ledlcd tv 1080p 120hz hdtv 1080p e553  best buy', 'newegg.com  toshiba 65inch 1080p clearscan 240hz ledlcd hdtv 65l7300u', 'newegg.com  toshiba 65inch 1080p clearscan 240hz ledlcd hdtv 65l7300u', 'newegg.com  lg ezsign 42inch 1080p 60hz ledlcd hdtv 42lv355b', 'westinghouse 40inch class 40inch led 1080p 120hz hdtv uw40t8lw  best buy', 'panasonic 37inch class 37inch lcd tv 1080p hdtv 1080p black th37lru50  best buy', 'lg  55inch class /  led / 1080p / 120hz / 3d / hdtv 3d bluray player bundle', 'samsung refurbished 40in black lcd monitor wtv tuner, lan 400cxn  best buy', 'newegg.com  lg 60inch class (59.8inch) 1080p 600hz 3d smart plasma hdtv 60pz950', 'newegg.com  lg 60inch class (59.8inch) 1080p 600hz 3d smart plasma hdtv 60pz950', 'newegg.com  lg 50inch 1080p 600hz plasma hdtv 50pz550', 'samsung  59inch class / plasma / 1080p / 600hz / 3d / hdtv', 'magnavox 32inch class 32inch ledlcd tv 720p hdtv 32me303v  best buy', 'newegg.com  sunbritetv 46inch class (46inch) 1080p 60hz lcd hdtv sb4610hd', 'newegg.com  viewsonic 16inch (15.6inch viewable) 720p ledHdTv vt1601led', 'newegg.com  viewsonic 16inch (15.6inch viewable) 720p ledHdTv vt1601led', 'panasonic  46inch class / plasma / 720p / 600hz / smartHdtv', 'panasonic viera tcp54vt25 54inch 1080p 3d plasma hdtv, black', 'newegg.com  refurbished: vizio 24inch class (23.54inchonal) 1080p 60hz ledlcd hdtv  e241a1', 'lg 55inch class (54.6inch) 1080p 480hz ledlcd hdtv 55lm9600  newegg.com', 'lg 55inch class (54.6inch) 1080p 480hz ledlcd hdtv 55lm9600  newegg.com', 'newegg.com  sony 55inch class (54.6inch) 1080p 240hz ledHdTv kdl55hx750', 'samsung refurbished 65inch class 6412inch led 1080p 240hz hdtv un65eh6000  best buy', 'newegg.com  lg 55inch 1080p 120hz ledlcd tv 55le5500', 'newegg.com  sharp aquos 70inch 1080p ledHdTv lc70le640u', 'samsung pn59d7000 59inch class 3d plasma hdtv 1080p  600hz  4 hdmi inputs [2011 model]', 'newegg.com  samsung 58inch 1080p 600hz (subfield motion) plasma hdtv pn58c8000yf', 'vizio mseries 32inch class 3112inch led 1080p 120hz smartHdtv m321ia2  best buy', 'samsung  55inch class / led / 1080p / 120hz / 3d / hdtv', 'toshiba refurbished 40inch class lcd 1080p 60hz hdtv 40e220u  best buy', 'samsung 75inch class 742750inch led 1080p 240hz smart3DHdtv rose gold un75es9000fxza  best buy', 'samsung un40es6580 40inch 1080p 120hz 3d slim ledHdTv (black) (2012 model)', 'sharp refurbished aquos 60inch class 60inch lcd 1080p 120hz hdtv lc60e69u  best buy', 'insignia\\x99  42inch class / 1080p / 120hz / lcd hdtv', 'samsung 55inch class (54.6inch) 1080p 120hz ledlcd hdtv un55d6000sf', 'samsung 55inch class (54.6inch) 1080p 120hz ledlcd hdtv un55d6000sf', 'mitsubishi wd65738 65inch 3d dlp hdtv (2010 model)', 'toshiba 55tl515u 55inch natural 3d 1080p 240hz ledlcd hdtv with net tv, black', 'mitsubishi laservue 75inch class dlp 1080p 120hz smart3DHdtv l75a96  best buy', 'newegg.com  samsung  19inch 720p led tv', 'newegg.com  toshiba 23inch class (23.0inchonal screensize) 1080p 60hz ledlcd hdtv  23l1350u', 'newegg.com  toshiba 23inch class (23.0inchonal screensize) 1080p 60hz ledlcd hdtv  23l1350u', 'newegg.com  toshiba  32l2300u 32 inch clearscan  (120hz)', 'newegg.com  42inch led tv', 'newegg.com  open box: lg 47inch class ( 47inch) 1080p 120hz lcd hdtv 47cs570', 'newegg.com  open box: lg 47inch class ( 47inch) 1080p 120hz lcd hdtv 47cs570', 'sharp lc40le835u quattron 40inch 1080p 240hz 3d ledlcd hdtv, black', 'toshiba refurbished regza 46inch class 46inch ledlcd tv 1080p 120hz hdtv 1080p black 46vx700u  best buy', 'lg  47inch class / led / 1080p / 120hz / hdtv', 'sunbritetv 46inch class 46inch lcd tv 4610hd  best buy', 'philips  32inch class / 720p / 60hz / lcd hdtv', 'newegg.com  refurbished: samsung 60inch 3d smartLedHdtv  un60es8000', 'supersonic sc1911 19inch 720p ledHdTv  newegg.com', 'supersonic sc1911 19inch 720p ledHdTv  newegg.com', 'newegg.com  lg 60inch 1080p 120hz ledlcd hdtv 60ls579c', 'philips 46inch class lcd 1080p 60hz hdtv 46pfl3706f7  best buy', 'samsung refurbished 590 series 58inch class 58inch plasma 1080p 60hz hdtv pn58c590rb  best buy', 'nec 42inch class 42inch ledlcd tv 1080p hdtv 1080p e423  best buy', 'newegg.com  samsung  55inch 1080p led 3d tv', 'insignia 22inch class 2112inch led 1080p 60hz hdtv ns22e400na14  best buy', 'newegg.com  refurbished: samsung 55inch class (54.6inchonal) 1080p ledlcd hdtv  un55eh6050', 'newegg.com  refurbished: samsung 55inch class (54.6inchonal) 1080p ledlcd hdtv  un55eh6050', 'newegg.com  coby 32inch class  ( 31.5inch) 720p 60hz lcd hdtv tftv3229', 'newegg.com  coby 32inch class  ( 31.5inch) 720p 60hz lcd hdtv tftv3229', 'newegg.com  toshiba  23l1350u 23 inch  1080p led, high gloss b', 'newegg.com  sony  55inch 1080p led internet 3d tv', 'toshiba  40inch class / led / 1080p / 60hz / hdtv', 'newegg.com  haier le39f32800 39 1080p 60hz direct led roku(r) ready hdtv', 'samsung 65inch 1080p ledlcd hdtv un65eh6000fxza  newegg.com', 'samsung 65inch 1080p ledlcd hdtv un65eh6000fxza  newegg.com', 'sony kdl65hx729 240hz 65inch class (64.5inch) led hx729series internet tv', 'samsung 40inch class 40inch ledlcd tv me40b  best buy', 'newegg.com  lg 42inch 720p 600hz plasma hdtv 42pn4500', 'newegg.com  lg 42inch 720p 600hz plasma hdtv 42pn4500', 'newegg.com  philips 26inch 720p 60hz ledbacklit lcd hdtv 26pfl4907/f7', 'samsung  59inch class / plasma / 1080p / 600hz / 3d / hdtv', 'dynex 32inch class 3112inch lcd 720p 60hz hdtv dx32l200na14  best buy', 'sony  55inch class / lcd / 1080p / 120hz / hdtv', 'toshiba 65ul610u cinema series 65inch 1080p 480hz local dimming 3d ledlcd hdtv with net tv, black', 'newegg.com  samsung 6003 60inch 1080p 120hz ledHdTv un60eh6003fxza', 'newegg.com  samsung 6003 60inch 1080p 120hz ledHdTv un60eh6003fxza', 'newegg.com  samsung 478 series 32inch directlit hospitality ledHdTv hg32na478pfxza', 'newegg.com  samsung 60inch class (60.0inch) 1080p 240hz ledHdTv un60es8000fxza', 'newegg.com  samsung 60inch class (60.0inch) 1080p 240hz ledHdTv un60es8000fxza', 'rca 32inch class 3112inch led 720p 60hz hdtv led32b30rq  best buy', 'samsung refurbished 58inch class 58inch plasma 1080p 600hz smartHdtv pn58c6500rb  best buy', 'newegg.com  samsung  65inch 1080p led 3d tv', 'sunbritetv signature 46inch class 46inch lcd tv 1080p hdtv 1080p white 4660hd  best buy', 'newegg.com  samsung 55inch 1080p 240hz slim smartLedHdtv un55f6300', 'newegg.com  lg 55inch class (54.6inch) 1080p 120hz ledlcd hdtv 55ls5700', 'newegg.com  lg 55inch class (54.6inch) 1080p 120hz ledlcd hdtv 55ls5700', 'lg 50inch 1080p 600hz plasma hdtv 50pv400', 'lg 50inch 1080p 600hz plasma hdtv 50pv400', 'newegg.com  refurbished: sanyo 58inch class (57.5inchonal) 1080p 120hz ledlcd hdtv  dp58d33', 'philips 50inch class lcd 1080p 60hz hdtv 50pfl3707f7  best buy', 'philips 50inch 1080p 60hz lcd hdtv 50pfl3807/f7  newegg.com', 'insignia\\x99  46inch class / led / 1080p / 120hz / hdtv', 'curtisyoung 32 inch lcd tv lcd3227a  best buy', 'newegg.com  lg 42inch class (41.6inch) 720p 600hz plasma hdtv 42pt350c', 'newegg.com  samsung  55inch 1080p led 3d tv', 'newegg.com  sony  50inch 1080p led 3d tv', 'newegg.com  sony  50inch 1080p led 3d tv', 'newegg.com  refurbished: lg 47inch 47ln5750 led smart tv 1080p hdtv builtin wifi internet apps 120hz', 'philips 50pfl3707 50inch 1080p lcd tv  16:9  50pfl3707f7  lcd tvs  philips lcd tvs  thenerds.net', 'samsung 46inch class 45910inch led 1080p 120hz 3d hdtv un46fh6030afxza  best buy', 'samsung 65inch class 6412inch led 4k ultraHdTv 2160p 120hz smart3DHdtv un65f9000afxza  best buy', 'newegg.com  samsung 75inch 1080p 240hz 3d smart led tv un75f7100', 'newegg.com  lg  42inch  600hz  plasma widescreen commercial hdtv 42pj350c', 'newegg.com  lg 60inch class (59.8inchonal) 1080p 120hz ledlcd hdtv 60ls5750', 'newegg.com  open box: lg 60inch class (59.8inch) 1080p 600hz slim 3d plasma tv with smart tv 60pm6700', 'newegg.com  open box: lg 60inch class (59.8inch) 1080p 600hz slim 3d plasma tv with smart tv 60pm6700', 'lg 55inch class 5458inch oled 1080p smart3DHdtv 55ea9800  best buy', 'newegg.com  lg 47inch 1080p 60hz ledlcd hdtv 47lv3700', 'newegg.com  toshiba 32inch class 720p clearscan 120hz led tv – 32l1350u', 'newegg.com  toshiba 32inch class 720p clearscan 120hz led tv – 32l1350u', 'samsung  59inch class / plasma / 1080p / 600hz / 3d / hdtv', 'newegg.com  haier le39f2280 39inch 1080p 60hz ledHdTv', 'newegg.com  lg 60inch class 1080p 120hz led tv', 'newegg.com  lg 60inch class 1080p 120hz led tv', 'vizio 50inch class 50inch ledlcd tv 1080p 120hz 3d hdtv 1080p e500da0  best buy', 'panasonic viera 42inch class 41910inch plasma 720p 600hz hdtv tcp42x60  best buy', 'newegg.com  lg 55inch class 1080p 60hz smart led tv   55ln5600', 'newegg.com  lg 55inch class 1080p 60hz smart led tv   55ln5600', 'newegg.com  toshiba  65l7350u 65 inch clearscan 240hz, slim be', 'samsung 55inch class 5458inch led 1080p 120hz 3d hdtv un55fh6030fxza  best buy', 'lg refurbished 26inch class 26inch led 720p 60hz hdtv 26ls3500  best buy', 'samsung pn59d6500 59inch 1080p 600hz 3d plasma hdtv (black) [2011 model]', 'newegg.com  refurbished: sharp 60inch 1080p 120hz ledlcd hdtv lc60le657u', 'newegg.com  sharp lc60le757u', 'newegg.com  samsung 22inch class (21.5inchdiagonal size) 1080p 60hz ledlcd hdtv  un22f5000afxza', 'newegg.com  samsung 22inch class (21.5inchdiagonal size) 1080p 60hz ledlcd hdtv  un22f5000afxza', 'newegg.com  lg 55inch class (54.6inchonal) 1080p trumotion 120hz cinema 3d smart tv 55la6900', 'philips electronics 50pfl5907  best buy', 'toshiba  46inch 1080p led tv  newegg.com', 'samsung refurbished 55inch class 5458inch led 1080p 240hz smartHdtv un55es6150  best buy', 'panasonic viera tcp65st50 65inch 1080p 600hz full hd 3d plasma tv (2012 model)', 'lg 47inch class 46910inch led 1080p 120hz smart3DHdtv 50la6900  best buy', 'newegg.com  lg 55inch class (54.6inchonal) 1080p trumotion 120hz 3d google tv 55ga6400', 'newegg.com  toshiba  39l2300u 39 inch clearscan 1080p, 120hz', 'samsung 55inch class 55inch ledlcd tv 1080p 240hz hdtv un55eh6000  best buy', 'sharp 70inch class 6912inch led 1080p 240hz smart3DHdtv black, brushed aluminum lc70le847u  best buy', 'samsung  40inch class / led / 1080p / 120hz / 3d / hdtv', 'panasonic viera tcl55wt50 55inch 1080p 240hz 3d full hd ips led tv (2012 model)', 'panasonic viera tcp50gt30 50inch 1080p 3d plasma hdtv', 'panasonic viera tcp50gt30 50inch 1080p 3d plasma hdtv', 'lg 55g2 55inch cinema 3d 1080p 120hz ledlcd hdtv with google tv and six pairs of 3d glasses (2012 model)', 'lg 55g2 55inch cinema 3d 1080p 120hz ledlcd hdtv with google tv and six pairs of 3d glasses (2012 model)', 'lg 55g2 55inch cinema 3d 1080p 120hz ledlcd hdtv with google tv and six pairs of 3d glasses (2012 model)', 'sharp aquos 40inch class 40inch led 1080p 60hz hdtv lc40le550u  best buy', 'sony bravia 46inch 1080p 120hz ledlcd hdtv kdl46nx720', 'sony bravia 46inch 1080p 120hz ledlcd hdtv kdl46nx720', 'sony bravia 46inch 1080p 120hz ledlcd hdtv kdl46nx720', 'lg 60inch class 5912inch led 1080p 120hz hdtv 60ln5710  best buy', 'compaq 17inch lcd monitor carbonite le1711  best buy', 'samsung pn64e8000 64inch 1080p 600hz ultra slim plasma 3d hdtv (black) (2012 model)', 'newegg.com  lg 42inch 1080p lcd hdtv 42ld450', 'samsung un55es7100 55inch 1080p 240hz 3d slim ledHdTv (silver) (2012 model)', 'newegg.com  jvc blackcrystal 32inch class (31.55inch) 1080p 60hz ledHdTv jle32bc3001', 'toshiba 55ul610u cinema series 55inch 1080p 480hz local dimming 3d ledlcd hdtv with net tv, black (2011 model)', 'newegg.com  28inch lcd apple tv 27.5inch active matrix tft lcd hann', 'newegg.com  28inch lcd apple tv 27.5inch active matrix tft lcd hann', 'vizio e500ia1 50inch 1080p ledlcd tv  16:9  120hz  e500ia1  lcd tvs  vizio, inc. lcd tvs  thenerds.net', 'philips refurbished 3000 series 50inch class 4912inch led 1080p 60hz hdtv 50pfl3708f7  best buy', 'sony  46inch class / led / 1080p / 120hz / 3d / hdtv', 'panasonic viera 60inch class plasma 1080p 600hz smart3DHdtv tcp60st50  best buy', 'newegg.com  lg 60inch 1080p 600hz plasma hdtv 60pv450', 'newegg.com  refurbished: lg 32inch class(31.5inch) 60hz ledlcd hdtv  32ln549e', 'newegg.com  refurbished: lg 32inch class(31.5inch) 60hz ledlcd hdtv  32ln549e', 'lg 37inch 1080p 60hz lcd hdtv 37lk450', 'lg 37inch 1080p 60hz lcd hdtv 37lk450', 'newegg.com  samsung  75inch 1080p led 3d tv', 'newegg.com  sansui 19inch class (18.5inch viewable size) 720p 60hz ledlcd hdtv  sled1937', 'newegg.com  sansui 19inch class (18.5inch viewable size) 720p 60hz ledlcd hdtv  sled1937', 'samsung  55inch class / led / 1080p / 120hz / hdtv', 'sceptre e465bvfhdd 46inch 3d 1080p 60hz ledHdTv (glossy black)', 'panasonic viera tcp55ut50 55inch 1080p 600hz full hd 3d plasma tv (2012 model)', 'newegg.com  upstar 31.5inch ledlcd hdtv  p32ewy', 'philips 42pfl5907 42inch 1080p ledlcd tv  16:9  hdtv 1080p  42pfl5907f7  lcd tvs  philips lcd tvs  thenerds.net', 'rca 32inch class 3112inch led 720p 60hz hdtv dvd combo led32b30rqd  best buy', 'panasonic viera tcp55vt50 55inch 1080p full hd 3d plasma tv (2012 model)', 'supersonic 4.3inch class 4.3inch lcd tv sc431  best buy', 'samsung pn51d7000 51inch 1080p 600hz 3d plasma hdtv (black) [2011 model] (2011 model)', 'insignia 19inch class 1812inch led 720p 60hz hdtv dvd combo ns19ed200na14  best buy', 'lg refurbished 55inch class 5458inch led 1080p 120hz hdtv 55ls4500rb  best buy', 'newegg.com  sharp  70inch 1080p led tv', 'newegg.com  sharp  70inch 1080p led tv', 'vizio e370a0 37inch 720p ledlcd tv  16:9  hdtv  e370a0  lcd tvs  vizio, inc. lcd tvs  thenerds.net', 'vizio e370a0 37inch 720p ledlcd tv  16:9  hdtv  e370a0  lcd tvs  vizio, inc. lcd tvs  thenerds.net', 'newegg.com  sharp lc80le650u', 'newegg.com  sharp lc80le650u', 'samsung 60inch class 59910inch plasma 1080p 600hz smart3DHdtv pn60f8500afxza  best buy', 'newegg.com  lg 32inch class  ( 31.5inch) 1080p 60hz lcd hdtv 32cs560', 'newegg.com  lg 32inch class  ( 31.5inch) 1080p 60hz lcd hdtv 32cs560', 'vizio mseries razor led 70inch class 6912inch led 1080p 240hz smart3DHdtv m701da3r  best buy', 'newegg.com  toshiba  32l4300u 32 inch clearscan 1080p, 120hz', 'sharp  aquos / 70inch class / led / 1080p / 120hz / hdtv', 'newegg.com  lg 42inch 720p plasma tv 42pn450p', 'newegg.com  lg 42inch 720p plasma tv 42pn450p', 'newegg.com  refurbished: lg cinema 3d 47inch 1080p 120hz ledHdTv  47lm4700', 'newegg.com  refurbished: lg cinema 3d 47inch 1080p 120hz ledHdTv  47lm4700', 'samsung  40inch class / 1080p / 120hz / lcd hdtv', 'newegg.com  refurbished: toshiba  55l7200ub 55inch 3d (passive) led, 1080p, 2', 'samsung  60inch class / led / 1080p / 240hz / 3d / smartHdtv', 'coby electronics ledtv5028 50inch led 1080p 60hz  newegg.com', 'samsung 40inch 1080p 60hz refurbished lcd hdtv ln40d550  newegg.com', 'toshiba 19inch class (18.5inch) 720p 60hz ledlcd hdtv 19sl410u', 'toshiba 19inch class (18.5inch) 720p 60hz ledlcd hdtv 19sl410u', 'newegg.com  upstar 23.6inch 1080p 60hz ledlcd hdtv  p24ewt', 'vizio e470a0 47inch 1080p ledlcd tv  16:9  hdtv 1080p  e470a0  lcd tvs  vizio, inc. lcd tvs  thenerds.net', 'vizio e470a0 47inch 1080p ledlcd tv  16:9  hdtv 1080p  e470a0  lcd tvs  vizio, inc. lcd tvs  thenerds.net', 'newegg.com  refurbished: samsung t22b350nd 21.5inch tn widescreen led backlight lcd tv with usb hub  1080p  1000:1/5000000:1 (dynamic)  250 cd/m2  5 ms  60hz  hdmi, vga  black', 'rca 3.5inch portable led digital atsc tv dht235a  best buy', 'newegg.com  refurbished: lg ezsign tv 37inch class (36.6inch measured diagonally) 60hz ledlcd hdtv 37lt560e', 'samsung 50inch class 4912inch led 1080p 120hz smartHdtv un50f6300afxza  best buy', 'insignia\\x99  37inch class / 1080p / 60hz / lcd hdtv', 'newegg.com  coby 32inch 720p ledHdTv ledtv3217', 'sony 65inch class 6412inch led 1080p 120hz smart3DHdtv kdl65s990a  best buy', 'naxa 3.5inch class 3.5inch lcd tv black nt301  best buy', 'insignia 46inch class 46inch led 1080p 60hz hdtv ns46d400na14  best buy', 'sony bravia 46inch 1080p 60hz lcd hdtv kdl46bx420', 'sony bravia 46inch 1080p 60hz lcd hdtv kdl46bx420', 'sony 47inch class 47inch led 1080p 120hz smart3DHdtv kdl47w802a  best buy', 'newegg.com  refurbished: lg class 32inch (31.5inch measured diagonally) 720p 60hz ledlcd hdtv 32ls349crb', 'tcl 39inch class 3812inch led 1080p 60hz hdtv le39fhde3000  best buy', 'newegg.com  refurbished: lg 22inch 60hz ledlcd hdtv  22lt560c', 'newegg.com  refurbished: lg 22inch 60hz ledlcd hdtv  22lt560c', 'newegg.com  lg 47inch 1080p trumotion 120hz ledlcd hdtv + sound bar 47ln5790', 'newegg.com  sharp aquos 40inch 1080p 120hz ledlcd hdtv lc40le810un', 'insignia 50inch class 4912inch led 1080p 120hz hdtv ns50e440na14  best buy', 'samsung  46inch class / led / 1080p / 120hz / hdtv', 'newegg.com  samsung  55inch 1080p led 3d tv', 'vizio xvt series 21:9 cinemawide 58inch class led smart tv with theater 3d', 'newegg.com  lg 26inch 720p ledlcd hdtv 26le5300', 'newegg.com  samsung  60inch 1080p slim led tv', 'newegg.com  lg 55inch class (54.6inchonal) 1080p trumotion 240hz 3d google tv  55ga7900', 'newegg.com  lg 55inch class (54.6inchonal) 1080p trumotion 240hz 3d google tv  55ga7900', 'panasonic viera 47inch class led 1080p 120hz smartHdtv tcl47e50  best buy', 'newegg.com  toshiba 39inch 1080p 120hz ledlcd hdtv 39l1350u', 'newegg.com  toshiba 39inch 1080p 120hz ledlcd hdtv 39l1350u', 'samsung pn50c490 50inch 720p plasma 3d hdtv', 'newegg.com  samsung  43inch 720p plasma tv', 'philips 22inch 720p 60hz ledlcd hdtv 22pfl4507/f7  newegg.com', 'philips 22inch 720p 60hz ledlcd hdtv 22pfl4507/f7  newegg.com', 'newegg.com  sony  65inch 4k led tv', 'newegg.com  sony  65inch 4k led tv', 'sansui accu 22inch class 22inch ledlcd tv 1080p hdtv 1080p black sled2237  best buy', 'newegg.com  panasonic viera 55inch 1080p ledlcd 3d hdtv tcl55et5', 'newegg.com  panasonic viera 55inch 1080p ledlcd 3d hdtv tcl55et5', 'newegg.com  sansui 39inch 1080p 60hz ledlcd hdtv sled3900', 'newegg.com  sansui 39inch 1080p 60hz ledlcd hdtv sled3900', 'philips electronics 32pfl3506  best buy', 'vizio e390a1 39inch 1080p ledlcd tv  16:9  hdtv 1080p  e390a1  lcd tvs  vizio, inc. lcd tvs  thenerds.net', 'vizio e390a1 39inch 1080p ledlcd tv  16:9  hdtv 1080p  e390a1  lcd tvs  vizio, inc. lcd tvs  thenerds.net', 'sony 55inch class 5458inch led 1080p 120hz smart3DHdtv kdl55w802a  best buy', 'panasonic 42inch class 42inch lcd tv 1080p hdtv 1080p black th42lru5  best buy', 'dynex\\x99  24inch class / 1080p / 60hz / lcd hdtv dvd combo', 'mitsubishi wd82738 82inch 3d dlp hdtv (2010 model)', 'newegg.com  refurbished: samsung 46inch class (45.9inchonal) 1080p 240hz ledlcd hdtv  un46es6150', 'newegg.com  refurbished: samsung 46inch class (45.9inchonal) 1080p 240hz ledlcd hdtv  un46es6150', 'newegg.com  samsung 5300 64inch 1080p 600hz plasma hdtv  pn64f5300afxza', 'newegg.com  samsung 5300 64inch 1080p 600hz plasma hdtv  pn64f5300afxza', 'vizio e291a1 29inch 720p ledlcd tv  16:9  hdtv  e291a1  lcd tvs  vizio, inc. lcd tvs  thenerds.net', 'vizio e291a1 29inch 720p ledlcd tv  16:9  hdtv  e291a1  lcd tvs  vizio, inc. lcd tvs  thenerds.net', 'newegg.com  lg 42inch 1080p 60hz lcd hdtv 42lk451c', 'tcl 50inch class 4912inch led 1080p 120hz hdtv le50fhde3010  best buy', 'samsung un60d8000 60inch 1080p 240hz 3d ledHdTv (silver) [2011 model] (2011 model)', 'newegg.com  haier  19inch 720p led/dvd tv', 'sharp 60inch class 60132inch led 1080p 240hz smart3DHdtv black, brushed aluminum lc60le847u  best buy', 'toshiba 32inch 720p 60hz lcd hdtv 32c110', 'toshiba 32inch 720p 60hz lcd hdtv 32c110', 'azend group, corp hr702  best buy', 'vizio e650ia2 65inch 1080p ledlcd tv  16:9  hdtv 1080p  120hz  e650ia2  lcd tvs  vizio, inc. lcd tvs  thenerds.net', 'vizio e650ia2 65inch 1080p ledlcd tv  16:9  hdtv 1080p  120hz  e650ia2  lcd tvs  vizio, inc. lcd tvs  thenerds.net', 'samsung pn60e6500 60inch 1080p 600hz 3d slim plasma hdtv (black)', 'tcl 46inch class 4512inch led 1080p 60hz hdtv le46fhde5300  best buy', 'sony 40inch class lcd 1080p 60hz hdtv kdl40bx450  best buy', 'dynex\\x99  46inch class / 1080p / 60hz / lcd hdtv', 'lg 42inch class 42inch plasma tv 720p 600hz hdtv glossy black 42pa450c  best buy', 'samsung  40inch class / 1080p / 60hz / lcd hdtv', 'newegg.com  refurbished: samsung 65inch 1080p 240hz 3d smartLedHdtv  un65f7050a', 'sharp aquos 70inch class 70inch ledlcd tv 1080p 240hz 3d hdtv 1080p black lc70c8470u  best buy', 'sansui 24inch 720p 60hz ledlcd hdtv sled2400  newegg.com', 'sansui 24inch 720p 60hz ledlcd hdtv sled2400  newegg.com', 'insignia 39inch class 3812inch led 1080p 60hz hdtv ns39e400na14  best buy', 'insignia 24inch class 2358inch led 720p 60hz hdtv dvd combo ns24ed200na14  best buy', 'newegg.com  refurbished: sceptre 32inch 720p lcd hdtv  x322bv', 'nec 46inch class 46inch ledlcd tv 1080p hdtv 1080p x462savt  best buy', 'samsung pn51d490 51inch 720p 600hz 3d plasma hdtv (black) [2011 model] (2011 model)', 'newegg.com  panasonic viera 65inch class (64.7inch) 1080p full hd smart3DPlasmatv tcp65gt50', 'newegg.com  panasonic viera 65inch class (64.7inch) 1080p full hd smart3DPlasmatv tcp65gt50', 'samsung 26inch 720p 60hz ledlcd hdtv un26d4003bd', 'samsung 26inch 720p 60hz ledlcd hdtv un26d4003bd', 'newegg.com  samsung  29inch 720p led tv', 'newegg.com  toshiba  50l1350u 50 inch clearscan 1080p, 120hz l', 'samsung  60inch class/ led / 1080p / 120hz / smartHdtv', 'lg 50inch class 50inch plasma tv 1080p 600hz hdtv 1080p glossy black 50pa550c  best buy', 'newegg.com  samsung 65 class (64.5 diagonal size) 1080p 240hz ledlcd hdtv  un65f7100afxza', 'newegg.com  samsung 65 class (64.5 diagonal size) 1080p 240hz ledlcd hdtv  un65f7100afxza', 'lg 32inch class (31.5inch) 1080p 60hz lcd hdtv 32lk450', 'lg 32inch class (31.5inch) 1080p 60hz lcd hdtv 32lk450', 'coby refurbished 32inch class 32inch tvdvd combo 720p hdtv tfdvd3299  best buy', 'newegg.com  sony 32inch 1080p 60hz ledlcd hdtv kdl32w650', 'panasonic viera 32inch class (31.5inch) 1080p 60hz ledlcd hdtv tcl32e3', 'panasonic viera 32inch class (31.5inch) 1080p 60hz ledlcd hdtv tcl32e3', 'sceptre e425bvfhdd 42inch 3d 1080p 60hz ledHdTv (black)', 'sony bravia kdl46nx810 46inch 1080p 240 hz 3dready ledHdTv, black (2010 model)', 'dynex\\x99  15inch class / led / 720p / 60hz / hdtv', \"newegg.com  samsung un55c6300 55' 1080p ledlcd tv  16:9  hdtv 1080p\", 'samsung pn51d8000 51inch 1080p 3d ready plasma hdtv [2011 model]', 'newegg.com  toshiba 84” 4k ultra hd 240hz smart led tv with 3d bluray player and soundbar – 84l9300ubdx6400kit', 'newegg.com  samsung 65inch 3d ready 1080p 240hz slim led smart tv and  soundbar un65es8000/hwe450', 'sony bravia kdl46hx850 46inch 240hz 1080p 3d led internet tv, black', 'rca 24inch class 24inch led 1080p 60hz hdtv led24c45rq  best buy', 'westinghouse  37inch class / 1080p / 60hz / lcd hdtv', 'vizio 55inch class 55inch ledlcd tv 1080p 120hz hdtv 1080p m550sl  best buy', 'panasonic viera 42inch 1080p 60hz ledlcd hdtv tcl42e3', 'panasonic viera 42inch 1080p 60hz ledlcd hdtv tcl42e3', 'newegg.com  lg 47inch class (46.9inchonal) 1080p trumotion 120hz cinema 3d smart tv 47la6900', 'newegg.com  lg 47inch class (46.9inchonal) 1080p trumotion 120hz cinema 3d smart tv 47la6900', 'lg 55inch class (54.6inch) 1080p 120hz ledlcd hdtv 55lv5500', 'lg 55inch class (54.6inch) 1080p 120hz ledlcd hdtv 55lv5500', 'newegg.com  refurbished: lg 55inch class (54.6inchonal) 1080p trumotion 120hz smart tv  55ln5700', 'newegg.com  refurbished: lg 55inch class (54.6inchonal) 1080p trumotion 120hz smart tv  55ln5700', 'newegg.com  refurbished: seiki 39inch class (38.5inchonal screen) 1080p 60hz lcd hdtv  sc391ts', 'newegg.com  lg infinia 60inch 1080p 600hz plasma hdtv 60pz750', 'lg refurbished 42inch class 42inch led 1080p 60hz hdtv 42ls3400rb  best buy', 'newegg.com  refurbished: panasonic viera 50inch class (49.9inch) 1080p full hd 3d plasma tv  tcp50ut50', 'newegg.com  refurbished: toshiba  29l1350ub 29 inch clearscan 720p led, hig', 'newegg.com  42inch class (41.9inch measured diagonally) the lg ezsign tv led commercial widescreen', 'newegg.com  42inch class (41.9inch measured diagonally) the lg ezsign tv led commercial widescreen', 'newegg.com  toshiba  32l1350u 32 inch clearscan led, high glos', 'panasonic viera tcp55st50 55inch 1080p 600hz full hd 3d plasma tv (2012 model)', 'panasonic 50inch class 50inch ledlcd tv 1080p hdtv 1080p glossy black th50lru60  best buy', 'haier 46inch class led 1080p 60hz hdtv le46f2280  best buy', 'sharp refurbished aquos 50inch class 50inch ledlcd tv 1080p hdtv 1080p black lc50le442u  best buy', 'newegg.com  refurbished: lg 24inch class (23.5inch actual size) 720p 60hz ledlcd hdtv  24ln4510', 'newegg.com  refurbished: lg 24inch class (23.5inch actual size) 720p 60hz ledlcd hdtv  24ln4510', 'magnavox 22inch class 2158inch led 720p 60hz hdtv 22me402v  best buy', 'insignia\\x99  42inch class / 1080p / 120hz / ledlcd hdtv', 'sony bravia kdl55ex720 55inch 1080p 3d ledHdTv, black (2011 model)', 'samsung un46es7100 46inch 1080p 240hz 3d slim ledHdTv (silver) (2012 model)', 'samsung un46es7100 46inch 1080p 240hz 3d slim ledHdTv (silver) (2012 model)', 'samsung  51inch class / plasma / 1080p / 600hz / 3d / hdtv', 'newegg.com  sansui 46inch 1080p ledlcd hdtv sled4680', 'newegg.com  sansui 46inch 1080p ledlcd hdtv sled4680', 'newegg.com  refurbished: lg 55inch (54.6inchonal) 120hz 1080p ledHdTv  55lv5300', 'vizio mseries razor led 60inch class 60inch led 1080p 240hz smart3DHdtv m601da3r  best buy', 'samsung 32inch class 32inch ledlcd tv hdtv hg32na470pf  best buy', 'newegg.com  sony 32inch class (31.5inchonally) 1080p ledlcd hdtv kdl32w650a', 'newegg.com  sony 32inch class (31.5inchonally) 1080p ledlcd hdtv kdl32w650a', 'nec 55inch class 55inch ledlcd tv 1080p 120hz hdtv 1080p e554  best buy', 'newegg.com  refurbished: sony 70inch 1080p 120hz ledlcd hdtv  kdl70r550a', 'insignia 55inch class 5458inch led 1080p 120hz hdtv ns55d440na14  best buy', 'panasonic viera 47inch class led 1080p 240hz smart3DHdtv tcl47dt50  best buy', 'newegg.com  refurbished: vizio e601ia3 razor 60inch 1080p 120hz led smart hdtv w/ builtin wifi', 'newegg.com  sharp  80inch 3d 1080p led tv', 'newegg.com  sharp  80inch 3d 1080p led tv', 'rca 46inch 1080p 60hz lcd hdtv 46la45rq', 'rca 46inch 1080p 60hz lcd hdtv 46la45rq', 'newegg.com  lg 26inch 720p 60hz lcd hdtv 26ld352c', 'newegg.com  lg 47inch 1080p 60hz lcd tv hdtv 47ld450c', 'newegg.com  sceptre 32” class 1080p ledHdTv w/ mhl port – e325bvfmd', 'newegg.com  refurbished: lg 32inch (31.7inchonal) commercial hospitiality hdtv  32lt670h', 'philips 40inch class 40inch ledlcd tv 1080p hdtv 1080p 40pfl4908  best buy', 'rca  24inch class / led / 1080p / 60hz / hdtv', 'lg 50pm4700 50inch 720p 600hz active 3d plasma hdtv (2012 model)', 'newegg.com  refurbished: samsung 46inch class (45.9inch) 1080p 60hz ledHdTv  un46eh5300', 'newegg.com  refurbished: samsung 46inch class (45.9inch) 1080p 60hz ledHdTv  un46eh5300', 'panasonic tcl47et5  best buy', 'panasonic viera 60inch 1080p 600hz plasma hdtv tcp60s30', 'panasonic viera 60inch 1080p 600hz plasma hdtv tcp60s30', 'panasonic viera tcp50ut50 50inch 1080p 600hz full hd 3d plasma tv (2012 model)', 'newegg.com  lg 47inch class (46.9inch) 1080p 120hz ledlcd hdtv 47ls5700', 'vizio eseries 42inch class 42inch led 1080p 120hz smartHdtv e420ia0  best buy', 'newegg.com  toshiba 50 class (49.5inchonal widescreen) 1080p clearscan 120hz ledlcd hdtv 50l4300u', 'newegg.com  toshiba 50 class (49.5inchonal widescreen) 1080p clearscan 120hz ledlcd hdtv 50l4300u', 'panasonic viera tcp55gt50 55inch 1080p 600hz full hd 3d plasma tv (2012 model)', 'toshiba  46inch class / led / 1080p / 120hz / hdtv', 'sansui signature 42inch class 42inch ledlcd tv 1080p 120hz hdtv 1080p black sled4280  best buy', 'samsung 46inch 1080p 120hz lcd hdtv ln46d630m3f', 'samsung 46inch 1080p 120hz lcd hdtv ln46d630m3f', 'coby 40inch 1080p lcd hdtv tftv4025  newegg.com', 'newegg.com  sharp  60inch 1080p led tv', 'newegg.com  sharp  60inch 1080p led tv', 'newegg.com  sharp  60inch 1080p led tv', 'newegg.com  toshiba 47inch 1080p 240hz 3d led smart tv 47l7200u', 'panasonic viera 32inch class 3112inch led 720p 60hz hdtv tcl32b6  best buy', 'philips electronics 50pfl3807  best buy', 'panasonic viera tcp50st50 50inch 1080p 600hz full hd 3d plasma tv (2012 model)', 'newegg.com  toshiba  58l7300u 58 inch clearscan 240hz, slim be', 'newegg.com  lg 55inch 1080p 240hz ledlcd hdtv 55lx6500', 'newegg.com  lg 55inch 1080p 240hz ledlcd hdtv 55lx6500', 'dynex\\x99  42inch class / led / 1080p / 60hz / hdtv', 'newegg.com  refurbished: sony bravia 42inch 1080p ledHdTv, kdl42ex440', 'newegg.com  sony 32inch 720p 60hz lcd hdtv kdl32r400a', 'sharp aquos 70inch 1080p 240hz ledlcd hdtv lc70le735u', 'sharp aquos 70inch 1080p 240hz ledlcd hdtv lc70le735u', 'samsung un65es6500 65inch 1080p 120hz 3d slim ledHdTv (black) (2012 model)', 'insignia\\x99  24inch class / led / 1080p / 60hz /  hdtv', 'newegg.com  refurbished: craig 18.5inch 720p lcd hdtv clc504', 'rca 42inch 1080p lcd hdtv 42la45rq  newegg.com', 'rca 42inch 1080p lcd hdtv 42la45rq  newegg.com', 'contex 39inch class 3812inch led 1080p 60hz hdtv le39d3  best buy', 'newegg.com  samsung 64inch class (64.01inch) 1080p 600hz plasma hdtv pn64e550d1fxza', 'newegg.com  samsung 64inch class (64.01inch) 1080p 600hz plasma hdtv pn64e550d1fxza', 'tcl 48inch class 4758inch led 1080p 120hz hdtv le48fhdf3310  best buy', 'philips 29inch class 29inch ledlcd tv 720p hdtv 29pfl4908  best buy', 'lg 60inch class 60inch plasma tv 1080p 600hz hdtv 1080p 60pv250  best buy', 'jvc 42inch 1080p 120hz ledlcd hdtv jle42bc3500  newegg.com', 'jvc 42inch 1080p 120hz ledlcd hdtv jle42bc3500  newegg.com', 'samsung un55es6580 55inch 1080p 120hz 3d slim ledHdTv (black) (2012 model)', 'newegg.com  lg 42inch 1080p widescreen integrated full hd with led backlighting ledlcd hdtv 42le530c', 'toshiba 42inch 3d ready 1080p 240hz ledlcd hdtv 42tl515u  newegg.com', 'toshiba 42inch 3d ready 1080p 240hz ledlcd hdtv 42tl515u  newegg.com', 'sceptre 32inch class (31.5inch) 720p 60hz ledHdTv e328bvhdh  newegg.com', 'newegg.com  refurbished: samsung 6070 series 46inch class (45.9inch) 1080p ledlcd hdtv  un46eh6070', 'haier 55inch class 55inch lcd tv 1080p 120hz hdtv 1080p black l55b2181  best buy', 'panasonic viera 32inch class 3112inch led 720p 60hz hdtv tcl32xm6  best buy', 'newegg.com  lg infinia 50inch 1080p 600hz plasma hdtv 50pz750', 'newegg.com  lg infinia 50inch 1080p 600hz plasma hdtv 50pz750', 'sansui 46inch class lcd 1080p 60hz hdtv hdlcd4650  best buy', 'newegg.com  samsung 7100 46inch class (45.9inchonal size) 1080p 240hz ledlcd hdtv  un46f7100afxza', 'newegg.com  samsung 7100 46inch class (45.9inchonal size) 1080p 240hz ledlcd hdtv  un46f7100afxza', 'newegg.com  samsung 6300 40inch 1080p 120hz ledlcd hdtv  un40f6300afxza', 'newegg.com  samsung 6300 40inch 1080p 120hz ledlcd hdtv  un40f6300afxza', 'samsung pn64e550 64inch 1080p 600hz 3d slim plasma hdtv (black)', 'newegg.com  refurbished: lg 50inch (49.5inchonally) 1080p 60hz smartLedHdtv  50ln5750', 'affinity 19inch class 1812inch led 720p 60hz hdtv le1931  best buy', 'sharp  aquos / 60inch class / lcd / 1080p / 120hz / hdtv', 'lg 50inch class 50inch plasma tv 720p 600hz hdtv glossy black 50pa450c  best buy', 'vizio 22inch class (21.5inch) 1080p 60hz ledlcd hdtv m220mv  newegg.com', 'nec 55inch class 55inch lcd tv 1080p hdtv 1080p p552avt  best buy', 'samsung  55inch class / led / 1080p / 240hz / 3d/ hdtv', 'newegg.com  32inch led 60hz 720p refurb', 'nec 42inch class 42inch ledlcd tv 1080p hdtv 1080p v423avt  best buy', 'samsung un60es7100 60inch 1080p 240hz 3d slim ledHdTv (2012 model)', 'lg 32inch class 3112inch led 1080p 60hz hdtv 32ln5310  best buy', 'newegg.com  samsung  40inch 1080p led tv', 'hiteker 32inch class 32inch led 720p 60hz hdtv dvd combo tl32z10edtp  best buy', 'vizio 24inch class 24inch ledlcd tv 1080p hdtv 1080p e241a1  best buy', 'newegg.com  lg 55ld520c  55inch 120hz lcd commercial widescreen integrated full 1080p hdtv', 'newegg.com  sharp 32inch class 720p 60hz ledHdTv – lc32le450u', 'samsung un55d8000 55inch 1080p 240hz 3d ledHdTv (silver) [2011 model] (2011 model)', 'sanyo refurbished 50inch class lcd 1080p 60hz hdtv dp50842b  best buy', 'samsung  22inch class / led / 1080p / 60hz / hdtv', 'samsung refurbished 59inch class 59inch plasma 1080p 600hz smart3DHdtv pn59d8000rb  best buy', 'newegg.com  refurbished: vizio 42inch class (42.02inch) 1080p 120hz lcd smart tv  e422vl', 'toshiba 23inch class 23inch ledlcd tv 1080p hdtv 1080p gunmetal 23l2300u  best buy', \"samsung 32'' class (31.5inch) 720p 60hz lcd hdtv ln32d403\", \"samsung 32'' class (31.5inch) 720p 60hz lcd hdtv ln32d403\", 'vizio eseries 50inch class 50inch led 1080p 120hz smartHdtv e500ia1  best buy', 'samsung  60inch class / led / 1080p / 120hz / 3d / hdtv', 'newegg.com  proscan  32inch 720p dled tv (factory recertified)', 'samsung refurbished 60inch class 60inch ledlcd tv 1080p 3d hdtv 1080p black un60es7500f  best buy', 'newegg.com  refurbished: sanyo 52inch 1080p 120hz lcd hdtv dp52440', 'newegg.com  refurbished: sanyo 52inch 1080p 120hz lcd hdtv dp52440', 'samsung  32inch class / 720p / 60hz / lcd hdtv', 'seiki 55inch class 55inch ledlcd tv 1080p 120hz hdtv 1080p se551gs  best buy', 'lg cinema screen 55lm7600 55inch cinema 3d 1080p 240hz ledlcd hdtv with smart tv and six pairs of 3d glasses (2012 model)', 'panasonic viera tcp60ut50 60inch 1080p 600hz full hd 3d plasma tv (2012 model)', 'samsung 51inch 1080p 600hz plasma hdtv pn51d530', 'samsung 51inch 1080p 600hz plasma hdtv pn51d530', 'panasonic 50inch class 4912inch led 1080p 120hz smartHdtv tcl50e60  best buy', 'newegg.com  refurbished: lg 47 class (46.9inch actual size) 1080p 120hz ledlcd hdtv  47ln5400', 'newegg.com  refurbished: lg 47 class (46.9inch actual size) 1080p 120hz ledlcd hdtv  47ln5400', 'nec 46inch class 46inch ledlcd tv 1080p hdtv 1080p e464  best buy', 'samsung un46d7000 46inch 1080p 240hz 3d ledHdTv (silver) [2011 model] (2011 model)', 'sunbritetv pro 32inch class 32inch lcd tv 720p hdtv black, powder coated aluminum 3220hd  best buy', 'sony  bravia / 32inch class / led / 1080p / 120hz / 3d / hdtv', 'coby 15inch class (15.6inch) 720p ledlcd hdtv ledtv1526', 'coby 15inch class (15.6inch) 720p ledlcd hdtv ledtv1526', 'contex 39inch class 3812inch led 1080p 60hz hdtv le39d2  best buy', 'proscan 32inch class 32inch ledlcd tv 720p hdtv plded3273a  best buy', 'coby  29inch 720p led tv  newegg.com', 'coby  29inch 720p led tv  newegg.com', 'sansui 32inch class 32inch ledlcd tv 720p hdtv black sled3200  best buy', 'newegg.com  lg 26inch 720p 60hz ledlcd hdtv 26lv255c', 'toshiba 55inch class (54.6inch) 1080p 120hz ledlcd hdtv 55sl417u', 'toshiba 55inch class (54.6inch) 1080p 120hz ledlcd hdtv 55sl417u', 'lg refurbished 60inch class 5978inch led 1080p 120hz smartHdtv 60ls5750rb  best buy', 'newegg.com  24 inch supersonic sc2412 12 volt ac/dc led 1080p digital hdtv w/ dvd player', 'samsung un46es6600 46inch 1080p 120hz 3d slim ledHdTv (black)', 'samsung un46es6600 46inch 1080p 120hz 3d slim ledHdTv (black)', 'samsung un46es6600 46inch 1080p 120hz 3d slim ledHdTv (black)', 'samsung pn50c7000 50inch 1080p 3d plasma hdtv (black)', 'newegg.com  lg 32inch class (31.5inch) 720p 60hz ledlcd hdtv 32lv2500', 'newegg.com  samsung 55inch class (54.6inch) 1080p 120hz ledHdTv un55eh6000fxza', 'sanyo refurbished 55inch class 5458inch led 1080p 120hz smartHdtv dp55360  best buy', 'newegg.com  lg 42inch 1080p 60hz lcd hdtv 42cs560', 'newegg.com  lg 42inch 1080p 60hz lcd hdtv 42cs560', 'vizio 47inch 1080p 60hz lcd hdtv e470vle  newegg.com', 'samsung 39inch class 3858inch led 1080p 60hz hdtv un39fh5000fxza  best buy', 'newegg.com  lg 37inch 1080p 120hz ledlcd hdtv 37le5300', 'lg refurbished 32inch class 3112inch led 720p 60hz hdtv 32ls3400  best buy', 'samsung un55d6400 55inch 1080p 120hz 3d ledHdTv (black) [2011 model] (2011 model)', 'sony  bravia / 46inch class / led / 1080p / 240hz / 3d / hdtv', 'panasonic viera 55inch class 5518inch plasma 1080p 600hz smart3DHdtv tcp55vt60  best buy', 'haier 55inch 1080p 120hz ledlcd hdtv le55b1381  newegg.com', 'haier 55inch 1080p 120hz ledlcd hdtv le55b1381  newegg.com', 'newegg.com  samsung  46inch 1080p led smart 3d tv', 'sony bravia kdl55nx720 55inch 1080p 3d ledHdTv with builtin wifi, black (2011 model)', 'sony bravia kdl55nx720 55inch 1080p 3d ledHdTv with builtin wifi, black (2011 model)', 'newegg.com  philips 5000 series 46inch 1080p 240hz ledlcd hdtv 46pfl5907/f7', 'newegg.com  philips 5000 series 46inch 1080p 240hz ledlcd hdtv 46pfl5907/f7', 'newegg.com  lg 32inch class (31.5inchonal) 720p 60hz ledlcd hdtv 32ln530b', 'newegg.com  lg 32inch class (31.5inchonal) 720p 60hz ledlcd hdtv 32ln530b', 'samsung 32inch class (31.5inch) 1080p 120hz ledlcd hdtv un32eh5000fxza  newegg.com', 'samsung 32inch class (31.5inch) 1080p 120hz ledlcd hdtv un32eh5000fxza  newegg.com', 'newegg.com  samsung 533 series 64inch class (64.0inch) 1080p 600hz plasma hdtv pn64e533d2fxza', 'toshiba 32inch class (31.5inch) 720p 60hz ledlcd hdtv 32sl415  newegg.com', 'nec 65inch class 65inch ledlcd tv 1080p hdtv 1080p v652avt  best buy', 'newegg.com  refurbished: toshiba  24v4210ub 24inch 1080p full hd led/dvd comb', 'contex 24inch class 2358inch led 1080p 60hz hdtv le2420  best buy', 'newegg.com  sharp  60inch 1080p led tv', 'newegg.com  sharp  60inch 1080p led tv', 'vizio xvt3d474sv 47inch full hd 3d full array truled lcd hdtv 480hz sps with vizio internet apps', 'samsung  19inch class / 720p / 60hz / lcd hdtv', 'samsung refurbished 46inch class 45910inch lcd 1080p 60hz hdtv ln46e550rb  best buy', 'samsung 40inch class 40inch ledlcd tv 1080p 3d hdtv 1080p black un40f6400af  best buy', 'newegg.com  refurbished: samsung 6050 series 60inch class (60.0inch) 1080p 120hz ledlcd hdtv  un60eh6050', 'newegg.com  refurbished: samsung 6050 series 60inch class (60.0inch) 1080p 120hz ledlcd hdtv  un60eh6050', 'insignia 46inch class 46inch led 1080p 120hz hdtv ns46e440na14  best buy', 'newegg.com  samsung 578 series 40inch directlit hospitality ledHdTv hg40na578lfxza', 'philips electronics 40pfl3706  best buy', 'newegg.com  sony 47inch 1080p 120hz ledlcd hdtv kdl47w802a', 'newegg.com  47inch led tv 1080p', 'samsung 40inch 1080p 60hz ledlcd smart tv un40eh5300fxza  newegg.com', 'newegg.com  lg 42inch class (41.6inch) 720p 600hz plasma hdtv 42pt350', 'insignia\\x99  50inch class / plasma / 720p / 600hz / hdtv', 'newegg.com  refurbished: lg 47inch class cinema 3d 1080p 120hz led tv with smarttv with wifi (46.9inchonal) 47lm6400', 'newegg.com  refurbished: lg 47inch class cinema 3d 1080p 120hz led tv with smarttv with wifi (46.9inchonal) 47lm6400', 'newegg.com  refurbished: samsung 40inch 1080p 60hz silm ledlcd hdtv un40f5000', 'newegg.com  haier 39inch 1080p 60hz lcd hdtv l39b2180', 'newegg.com  haier 39inch 1080p 60hz lcd hdtv l39b2180', 'panasonic viera tcp50gt25 50inch 1080p 3d plasma hdtv, black (2010 model)', 'vizio mseries 55inch class 5458inch led 1080p 240hz smart3DHdtv m551da2r  best buy', 'samsung  40inch class / led / 1080p / 60hz / hdtv', 'newegg.com  lg 55inch 1080p 60hz direct led commercial widescreen integrated hdtv 55ln541c', 'newegg.com  refurbished: samsung 55inch class (54.6inch) 1080p 120hz ledHdTv un55es6580f', 'supersonic 22inch class 22inch ledlcd tv 1080p hdtv 1080p sc2211  best buy', 'newegg.com  lg 55inch class (54.6inch) 1080p 60hz ledlcd hdtv 55lv3700', 'samsung  65inch class / led / 1080p / 240hz / 3d / hdtv', 'samsung pn50c8000 50inch 1080p 3d plasma hdtv', 'samsung 40inch 1080p 60hz lcd hdtv ln40d503', 'samsung 40inch 1080p 60hz lcd hdtv ln40d503', 'samsung pn51d6500 51inch 1080p 600hz 3d plasma hdtv (black) [2011 model]', 'lg ezsign 47inch 1080p lcd hdtv 47ld452b  newegg.com', 'newegg.com  refurbished: vizio eseries v701ia3kgb 70inch class razor (69.51inchonal) 1080p 120hz smartLedHdtv', 'insignia 28inch class 2712inch led 720p 60hz hdtv dvd combo ns28ed200na14  best buy', 'hisense lcd hdtv ltdn42v77us  newegg.com', 'toshiba 32inch class (31.5inch) 720p 60hz lcd hdtv 32dt2u', 'toshiba 32inch class (31.5inch) 720p 60hz lcd hdtv 32dt2u', 'newegg.com  samsung  60inch 1080p plasma tv', 'lg cinema screen 47lm7600 47inch cinema 3d 1080p 240hz ledlcd hdtv with smart tv and six pairs of 3d glasses (2012 model)', 'lg cinema screen 47lm7600 47inch cinema 3d 1080p 240hz ledlcd hdtv with smart tv and six pairs of 3d glasses (2012 model)', 'newegg.com  refurbished: lg 60inch class 1080p 120hz led tv with smarttv, 60ls5700', 'newegg.com  refurbished: lg 60inch class 1080p 120hz led tv with smarttv, 60ls5700', 'naxa nt1506 16 in. widescreen hd led television w builtin digital tv tuner shiny black nt1506  best buy', 'newegg.com  refurbished: vizio 24inch 1080p led w /wifi  e241la1', 'newegg.com  lg 60inch 1080p 120hz ledlcd hdtv 60ga6400', 'newegg.com  lg 60inch 1080p 120hz ledlcd hdtv 60ga6400', 'samsung pn63c8000 63inch 1080p 3d plasma hdtv', 'toshiba refurbished 24inch class 24inch ledlcd tv 1080p hdtv 1080p black, silver 24l4200u  best buy', 'lg  55inch class / led / 1080p / 120hz / hdtv', 'newegg.com  proscan 32inch 720p 60hz lcd hdtv plcd3273a', 'newegg.com  refurbished: samsung 60inch 480hz 1080p 3d wifi ledHdTv  un60es6500', 'newegg.com  refurbished: samsung 60inch 480hz 1080p 3d wifi ledHdTv  un60es6500', 'lg 26inch 720p 60hz ledlcd hdtv 26lv2500', 'lg 26inch 720p 60hz ledlcd hdtv 26lv2500', 'lg 26inch 720p 60hz ledlcd hdtv 26lv2500', 'newegg.com  samsung 65inch class (64.5inchonal size) 1080p 240hz ledlcd hdtv un65f8000bfxza', 'newegg.com  samsung 65inch class (64.5inchonal size) 1080p 240hz ledlcd hdtv un65f8000bfxza', 'sharp aquos 60inch class 60inch ledlcd tv 1080p 240hz 3d hdtv 1080p black lc60c8470u  best buy', 'sony bravia kdl55hx850 55inch 240hz 1080p 3d led internet tv, black', 'newegg.com  refurbished: vizio e320a1 32inch 720p 60hz led hdtv', 'newegg.com  toshiba 32inch 1080p 120hz ledlcd hdtv 32l4300u', 'newegg.com  toshiba 32inch 1080p 120hz ledlcd hdtv 32l4300u', 'newegg.com  refurbished: proscan 37inch 60hz lcd hdtv  plcd3717a', 'newegg.com  toshiba  50l2300u 50 inch clearscan 1080p, 120hz', 'samsung 40inch class 40inch ledlcd tv 1080p hdtv 1080p hg40na570lf  best buy', 'samsung 46inch class 45910inch led 1080p 120hz smart3DHdtv un46f6400afxza  best buy', 'panasonic viera 58inch class 5712inch led 1080p 120hz smartHdtv tcl58e60  best buy', 'samsung refurbished 55inch class 5458inch led 1080p 240hz smart3DHdtv un55f7050arb  best buy', 'newegg.com  philips 7000 40inch 1080p 120hz ledlcd hdtv 40pfl7705dv/f7', 'newegg.com  55inch eled 1080p 120hz', 'newegg.com  lg 60inch 1080p 240hz ledlcd hdtv 60la7400', 'newegg.com  lg 60inch 1080p 240hz ledlcd hdtv 60la7400', 'newegg.com  sansui hdlcd5050 sansui 50inch widescreen 60hz 1080p lcd hdtv', 'newegg.com  sansui hdlcd5050 sansui 50inch widescreen 60hz 1080p lcd hdtv', 'newegg.com  rca 3.5inch led portable digital tv dht235ab', 'newegg.com  toshiba 42inch 1080p 120hz smart 3d ledlcd tv 42l6200u', 'samsung refurbished series 8 46inch class 46inch lcd 1080p 120hz hdtv ln46a860rb  best buy', 'newegg.com  samsung 8500 51inch class (50.7inchonal size) 1080p 600hz plasma hdtv  pn51f8500afxza', 'tcl 55inch class 5458inch led 1080p 120hz hdtv le55fhdf3310  best buy', 'rca  32inch class / 720p / 60hz / lcd hdtv dvd combo', 'newegg.com  refurbished: lg 55inch 1080p 120hz ledHdTv  55ls4500', 'lg 55lm6200 55inch cinema 3d 1080p 120hz ledlcd hdtv with smart tv and six pairs of 3d glasses (2012 model)', 'vizio e3d470vx 47inch class theater 3d lcd hdtv with internet apps', 'samsung un40c7000 40inch 1080p 240hz 3d ledHdTv (black)', 'sony kdl70r520a 70 1080p 120hz internet ledHdTv black, chrome kdl70r520a  best buy', 'newegg.com  sharp 70inch class 1080p 240hz 3d smart led tv – lc70le757u', 'newegg.com  lg 47inch 1080p 120hz lcd hdtv 47lk451c', 'vizio e291ia1 29inch 720p ledlcd tv  16:9  hdtv  e291ia1  lcd tvs  vizio, inc. lcd tvs  thenerds.net', 'newegg.com  haier le58f3281 58 1080p 120hz direct led roku(r) ready hdtv', 'newegg.com  samsung  60inch 1080p plasma smart tv', 'sharp  aquos / 60inch class / led / 1080p / 120hz / hdtv', 'insignia 32inch class 3112inch led 1080p 60hz hdtv ns32e400na14  best buy', 'nec 65inch class 65inch ledlcd tv 1080p 120hz hdtv 1080p e654  best buy', 'samsung syncmaster 40inch class 40inch lcd tv 1080p hdtv 1080p glossy black 400cxn2  best buy', 'newegg.com  refurbished: lg 32inch class (31.5inchonal) 1080p 60hz ledlcd hdtv  32ln5300', 'newegg.com  refurbished: lg 32inch class (31.5inchonal) 1080p 60hz ledlcd hdtv  32ln5300', 'newegg.com  refurbished: lg ezsign 32inch class ( 31.5inch) 720p lcd hdtv 32ld452brb', 'coby 55inch 1080p 120hz ledlcd hdtv ledtv5536  newegg.com', 'panasonic tyew3d2mmk2 3d avatar kit', 'panasonic tyew3d2mmk2 3d avatar kit', 'panasonic tyew3d2mmk2 3d avatar kit', 'newegg.com  50inch eled 1080p 120hz', 'samsung 50inch 1080p 60hz led smart tv with builtin wifi un50eh5300fxza  newegg.com', 'newegg.com  lg 60 class (59.5inch actual size) 1080p 120hz ledlcd hdtv 60ln6150', 'newegg.com  lg 60 class (59.5inch actual size) 1080p 120hz ledlcd hdtv 60ln6150', 'panasonic viera 42inch class (41.6inch) 1080p 600hz plasma hdtv tcp42s30', 'panasonic viera 42inch class (41.6inch) 1080p 600hz plasma hdtv tcp42s30', 'samsung 55inch class 5458inch led 1080p 240hz smart3DHdtv un55f8000bfxza  best buy', 'newegg.com  samsung 60inch 1080p 120hz ledlcd hdtv  un60f6400afxza', 'newegg.com  samsung 60inch 1080p 120hz ledlcd hdtv  un60f6400afxza', 'newegg.com  open box: lg 50inch class (49.5inch actual size) 1080p trumotion 120hz ledlcd hdtv 50ln5400', 'newegg.com  open box: lg 50inch class (49.5inch actual size) 1080p trumotion 120hz ledlcd hdtv 50ln5400', 'samsung 46inch class (45.9inch) 1080p 120hz ledlcd hdtv un46d6000sf', 'samsung 46inch class (45.9inch) 1080p 120hz ledlcd hdtv un46d6000sf', 'haier 24inch class lcd 720p 60hz hdtv l24b2120  best buy', 'panasonic viera 55inch 1080p 600hz plasma hdtv tcp55gt30', 'panasonic viera 55inch 1080p 600hz plasma hdtv tcp55gt30', 'newegg.com  lg 32inch class (31.5inch) 720p 60hz lcd commercial widescreen integrated hdtv 32ld350c', 'samsung 50inch 1080p 120hz slim led smart tv un50es6100fxza  newegg.com', 'rca 42inch class 42inch led 1080p 60hz hdtv dvd combo led42c45rqd  best buy', 'newegg.com  refurbished: samsung 55inch un55f7050af 3d led smart tv 1080p hdtv builtin wifi internet apps', 'sony refurbished bravia 32inch class 32inch lcd tv 720p hdtv black kdl32bx310  best buy', 'newegg.com  refurbished: lg 47inch 60hz lcd hdtv 47lt560erb', 'samsung  32inch class / led / 720p / 60hz / hdtv', 'sony 60inch class 60inch led 1080p 120hz smart3DHdtv kdl60r550a  best buy', 'newegg.com  toshiba 47inch class (46.96inch) 1080p 120hz ledHdTv 47l6200u', 'samsung  32inch class/ led / 1080p / 120hz / hdtv', 'insignia\\x99  42inch class / plasma / 720p / 600hz / hdtv', 'newegg.com  lg 47inch 1080p 120hz cinema 3d led tv 47lm4600', 'newegg.com  lg 47inch 1080p 120hz cinema 3d led tv 47lm4600', 'newegg.com  samsung 6300 32inch class (31.5inchdiagonal size) 1080p 120hz ledlcd hdtv  un32f6300afxza', 'newegg.com  samsung 6300 32inch class (31.5inchdiagonal size) 1080p 120hz ledlcd hdtv  un32f6300afxza', 'toshiba 32inch class 3112inch lcd 720p 60hz hdtv 32c120u  best buy', 'newegg.com  panasonic 50inch plasma tv th50ph30u', 'sony bravia xbr55hx929 55inch 1080p 3d localdimming ledHdTv with builtin wifi (black) (2011 model)', 'sony bravia xbr55hx929 55inch 1080p 3d localdimming ledHdTv with builtin wifi (black) (2011 model)', 'philips refurbished 3000 series 46inch class 46inch led 1080p 60hz hdtv 46pfl3708f7  best buy', 'westinghouse 42inch 1080p 120hz ledlcd hdtv ld4258', 'westinghouse 42inch 1080p 120hz ledlcd hdtv ld4258', 'panasonic viera 65inch class 6434inch plasma 1080p 600hz smart3DHdtv tcp65zt60  best buy', 'lg 47inch class (46.9inch) 1080p lcd hdtv 47lm6700  newegg.com', 'lg 47inch class (46.9inch) 1080p lcd hdtv 47lm6700  newegg.com', 'newegg.com  samsung 40inch 1080p 120hz ledlcd hdtv  un40fh6030fxza', 'newegg.com  samsung 40inch 1080p 120hz ledlcd hdtv  un40fh6030fxza', 'epson powerlite lcd projector 1080p hdtv 16:10 4855wu  best buy', 'samsung 64inch 3d ready 1080p 600hz plasma hdtv pn64d8000fxza  newegg.com', 'samsung  55inch class / led / 1080p / 240hz / 3d / hdtv', 'newegg.com  refurbished: samsung 550 series 40inch 1080p lcd hdtv ln40e550f7fxza', 'newegg.com  lg 50pn450p 50inch 720p plasma tv  16:9  hdtv', 'newegg.com  lg 50pn450p 50inch 720p plasma tv  16:9  hdtv', 'newegg.com  refurbished: samsung 65inch 1080p 240hz silm ledlcd hdtv un65es8000', 'newegg.com  refurbished: samsung 65inch 1080p 240hz silm ledlcd hdtv un65es8000', 'sony  55inch class / led / 1080p / 120hz / 3d / hdtv', 'sony  40inch class / led / 1080p / 120hz / 3d / hdtv', 'rca 22inch class 2112inch led 1080p 60hz hdtv dvd combo led22b45rqd  best buy', 'newegg.com  refurbished: lg cinema 3d 42inch 1080p 60hz ledlcd hdtv 42lm3700', 'newegg.com  refurbished: lg cinema 3d 42inch 1080p 60hz ledlcd hdtv 42lm3700', 'newegg.com  sharp 60inch 1080p 240hz lcd hdtv lc60e88un', 'sony 65inch class 6412inch led 4k ultraHdTv 2160p 120hz smart3DHdtv xbr65x850a  best buy', 'sharp aquos 60inch 1080p 120hz ledlcd hdtv lc60le632u', 'sharp aquos 60inch 1080p 120hz ledlcd hdtv lc60le632u', 'philips 5000 series 50 class (49.6inch) 1080p 240hz ledlcd hdtv 50pfl5907/f7  newegg.com', 'toshiba refurbished 50inch class 4918inch led 1080p 60hz hdtv 50l2200u  best buy', 'newegg.com  samsung  60inch 1080p led 3d tv', 'panasonic viera 50inch class plasma 1080p 600hz smart3DHdtv tcp50st60  best buy', 'lg 47inch 1080p 120hz ledlcd hdtv 47lw5300', 'lg 47inch 1080p 120hz ledlcd hdtv 47lw5300', 'lg 47inch 1080p 120hz ledlcd hdtv 47lw5300', 'vizio 47inch class 47inch ledlcd tv 1080p 120hz m471ia2  best buy', 'newegg.com  refurbished: hisense 50inch class (49.6inchonally) 1080p 120hz ledlcd hdtv  50k360g', 'newegg.com  lg 47inch 1080p 240hz ledlcd hdtv 47lx6500', 'newegg.com  lg 47inch 1080p 240hz ledlcd hdtv 47lx6500', 'panasonic viera 65inch class 6434inch plasma 1080p 600hz smart3DHdtv tcp65vt60  best buy', 'newegg.com  sharp  50inch 1080p led tv', 'samsung refurbished 46inch class 45910inch led 1080p 120hz 3d hdtv dvd combo un46eh6070rb  best buy', 'newegg.com  lg 42inch class (41.9inchonal) 1080p 60hz ledlcd hdtv 42ln5300', 'newegg.com  lg 42inch class (41.9inchonal) 1080p 60hz ledlcd hdtv 42ln5300', 'magnavox 26inch class 26inch lcd 720p 60hz hdtv 26mf321b  best buy', 'sharp aquos 70inch class 6912inch led 1080p 120hz hdtv lc70le600u  best buy', 'philips 42inch class 42inch led 1080p 240hz smartHdtv 42pfl5907f7  best buy', 'naxa 19inch class 19inch ledlcd tv 720p hdtv black nt1902  best buy', 'newegg.com  refurbished: sanyo 39inch class 1080p 60hz lcd hdtv, dp39843', 'newegg.com  samsung  65inch 1080p led 3d tv', 'lg 32inch class (31.5inch) 720p 60hz lcd hdtv 32lk330', 'lg 32inch class (31.5inch) 720p 60hz lcd hdtv 32lk330', 'newegg.com  lg 50inch plasma hdtv 50pn5300', 'newegg.com  sony  55inch 1080p led 3d tv', 'newegg.com  toshiba  50l4300u 50 inch clearscan 1080p, 120hz', 'vizio mseries 80inch class 80inch led 1080p 240hz smart3DHdtv m801da3  best buy', 'newegg.com  sharp lc80le757u', 'insignia 50inch class 4912inch lcd 1080p 120hz hdtv ns50l440na14  best buy', 'newegg.com  samsung 46inch class (45.9inchonal size) 1080p 240hz ledlcd hdtv un46f8000bfxza', 'newegg.com  samsung 46inch class (45.9inchonal size) 1080p 240hz ledlcd hdtv un46f8000bfxza', 'newegg.com  samsung 6300 55inch class (54.6inchonal size) 1080p 120hz ledlcd hdtv  un55f6300afxza', 'newegg.com  samsung 6300 55inch class (54.6inchonal size) 1080p 120hz ledlcd hdtv  un55f6300afxza', 'newegg.com  refurbished: vizio 24inch class (23.5inchonal) 1080p 60hz led smart tv', 'newegg.com  samsung 50inch class (49.9inch) 1080p 600hz (subfield motion) plasma hdtv pn50c7000yf', 'sony 55inch class 5458inch led 4k ultraHdTv 2160p 120hz smart3DHdtv xbr55x900a  best buy', 'lg 55inch class (54.6inch) 1080p 120hz ledlcd hdtv 55lw5600', 'lg 55inch class (54.6inch) 1080p 120hz ledlcd hdtv 55lw5600', 'lg 55inch class (54.6inch) 1080p 120hz ledlcd hdtv 55lw5600', 'lg 55inch class (54.6inch) 1080p 120hz ledlcd hdtv 55lw5600', 'tcl 58inch class 5712inch led 1080p 120hz hdtv le58fhde3010  best buy', 'lg 47inch 3d 1080p 60hz lcd hdtv 47cm565  newegg.com', 'newegg.com  refurbished: vizio 47inch class razor led smart tv with theater 3d  m3d470kde', 'newegg.com  refurbished: vizio 47inch class razor led smart tv with theater 3d  m3d470kde', 'newegg.com  refurbished: vizio 47inch class razor led smart tv with theater 3d  m3d470kde', 'samsung refurbished 50inch class 50inch led 1080p 60hz smartHdtv un50eh5300rb  best buy', 'newegg.com  lg 47inch  class (46.9inchonal) 1080p trumotion 120hz 3d google tv 47ga6400', 'newegg.com  lg 47inch  class (46.9inchonal) 1080p trumotion 120hz 3d google tv 47ga6400', 'newegg.com  lg 50inch 1080p 600hz plasma hdtv 50ps60c', 'sunbritetv signature 32inch class 3112inch lcd 720p 60hz outdoor hdtv sb3260hdsl  best buy', 'sony 46inch 1080p 60hz ledlcd internet hdtv nsx46gt1', 'sony 46inch 1080p 60hz ledlcd internet hdtv nsx46gt1', 'newegg.com  samsung un46f5500 46inch 1080p 230hz slim led tv', 'samsung 65inch class 6412inch led 1080p 120hz smart3DHdtv un65f6400afxza  best buy', 'newegg.com  lg 60inch class 1080p 600hz smart plasma tv  60pn5700', 'newegg.com  lg 60inch class 1080p 600hz smart plasma tv  60pn5700', 'lg 24inch widescreen flatpanel led multifunction hdtv monitor m2452d  best buy', 'newegg.com  samsung 55inch class (54.6inch) 1080p 120hz ledlcd hdtv un55c6800uf', 'rca 42inch class 42inch led 1080p 60hz hdtv led42c45rq  best buy', 'newegg.com  refurbished: samsung 40inch 3d 1080p 120hz smartLedHdtv  un40es6500', 'newegg.com  refurbished: samsung 40inch 3d 1080p 120hz smartLedHdtv  un40es6500', 'newegg.com  toshiba 50inch class (49.5inchonal widescreen) 1080p ledlcd hdtv 50l2300u', 'newegg.com  toshiba 50inch class (49.5inchonal widescreen) 1080p ledlcd hdtv 50l2300u', 'sceptre lcd hdtv x408bvfhd  newegg.com', 'newegg.com  lg 22inch class (21.5inchonal) 1080p 60hz ledlcd hdtv 22ln4510', 'newegg.com  lg 22inch class (21.5inchonal) 1080p 60hz ledlcd hdtv 22ln4510', 'philips 46inch class 46inch ledlcd tv 1080p hdtv 1080p 46pfl3908  best buy', 'newegg.com  samsung 60inch 1080p 240hz ledlcd hdtv un60f8000bfxza', 'newegg.com  samsung 60inch 1080p 240hz ledlcd hdtv un60f8000bfxza', 'samsung un55es8000 55inch 1080p 240hz 3d slim ledHdTv (silver) (2012 model)', 'samsung un55es8000 55inch 1080p 240hz 3d slim ledHdTv (silver) (2012 model)', 'samsung un55es8000 55inch 1080p 240hz 3d slim ledHdTv (silver) (2012 model)', 'samsung 40inch 1080p 120hz ledlcd hdtv un40d6300sf + wifi adapter bundle', 'samsung 40inch 1080p 120hz ledlcd hdtv un40d6300sf + wifi adapter bundle', 'newegg.com  lg 47inch 1080p 120hz ledlcd hdtv 47le530c', 'tcl 32inch class 3112inch led 720p 60hz hdtv le32hdf3010  best buy', 'sansui accu 32inch class 32inch ledlcd tv 720p hdtv black sled3228  best buy', 'newegg.com  haier 40inch 1080p 120hz ledlcd hdtv  le40d3281', 'newegg.com  haier 40inch 1080p 120hz ledlcd hdtv  le40d3281', 'newegg.com  sharp lc70le650u', 'newegg.com  sharp lc70le650u', 'newegg.com  sharp lc70le650u', 'newegg.com  open box: samsung 60inch class plasma with hwf450 soundbar  pn60f8500/hwf450', 'dynex 60inch class 60inch led 1080p 120hz hdtv dx60d260a13  best buy', 'newegg.com  refurbished: lg 50inch 720p 600hz plasma hdtv  50pn4500', 'newegg.com  refurbished: lg 50inch 720p 600hz plasma hdtv  50pn4500', 'newegg.com  sharp 80inch class 1080p 240hz 3d smart led tv – lc80le757u', 'newegg.com  sharp 80inch class 1080p 240hz 3d smart led tv – lc80le757u', 'sharp aquos 40inch 1080p 120hz ledlcd hdtv lc40le830u', 'sharp aquos 40inch 1080p 120hz ledlcd hdtv lc40le830u', 'sony  60inch class / led / 1080p / 120hz / 3d / hdtv', 'samsung un46c8000 46inch 1080p 3d 240hz ledHdTv', 'newegg.com  philips 32inch 720p 60hz ledlcd hdtv 32pfl4907/f7', 'newegg.com  philips 32inch 720p 60hz ledlcd hdtv 32pfl4907/f7', 'westinghouse 32inch class (31.5inch) 1080p ledlcd hdtv ld3280', 'westinghouse 32inch class (31.5inch) 1080p ledlcd hdtv ld3280', 'rca 22inch class lcd 1080p 60hz hdtv 22lb45rq  best buy', 'newegg.com  philips 40inch 1080p 60hz ledlcd hdtv 40pfl4706/f7', 'samsung un50eh6000fxza 50inch 1080p led tv  16:9  hdtv 1080p  120hz  newegg.com', 'samsung un50eh6000fxza 50inch 1080p led tv  16:9  hdtv 1080p  120hz  newegg.com', 'newegg.com  samsung 55inch class 4k ultra hd smart led tv – un55f9000', 'samsung refurbished 55inch class 5458inch led 1080p 120hz smart3DHdtv un55es7003rb  best buy', 'newegg.com  lg 37inch 1080p 60hz lcd hdtv 37ld452c', 'samsung 32inch class ( 31.5inch) 720p 60hz led tv un32eh4003f  newegg.com', 'newegg.com  toshiba 32inch class (31.5inchonal widescreen) 720p 120hz ledlcd hdtv 32l2300u', 'newegg.com  toshiba 32inch class (31.5inchonal widescreen) 720p 120hz ledlcd hdtv 32l2300u', 'vizio e241ia1 24inch 1080p ledlcd tv  16:9  hdtv 1080p  e241ia1  lcd tvs  vizio, inc. lcd tvs  thenerds.net', 'vizio e241ia1 24inch 1080p ledlcd tv  16:9  hdtv 1080p  e241ia1  lcd tvs  vizio, inc. lcd tvs  thenerds.net', 'vizio e3d420vx 42 inch class theater 3d lcd hdtv with vizio internet apps', 'newegg.com  samsung 64inch class (64.01inch) 1080p 600hz plasma hdtv pn64e7000ffxza', 'newegg.com  samsung 64inch class (64.01inch) 1080p 600hz plasma hdtv pn64e7000ffxza', 'vizio eseries 55inch class 5458inch led 1080p 120hz smartHdtv e550ia0  best buy', 'newegg.com  toshiba  65l7300u 65 inch clearscan 240hz, slim be', 'panasonic 50inch 720p 600hz plasma hdtv tcp50x3', 'panasonic 50inch 720p 600hz plasma hdtv tcp50x3', 'newegg.com  samsung 46inch class (45.9inch) 1080p 240hz ledHdTv un46es7500fxza', 'newegg.com  samsung 46inch class (45.9inch) 1080p 240hz ledHdTv un46es7500fxza', 'sharp aquos 42inch class 42inch ledlcd tv 1080p hdtv 1080p lbt422u  best buy', 'samsung refurbished 55inch class 5458inch led 1080p 240hz hdtv un55eh6000rb  best buy', 'newegg.com  coby 55inch 1080p 120hz ledlcd hdtv  led3dtv5586', 'newegg.com  coby 55inch 1080p 120hz ledlcd hdtv  led3dtv5586', 'lg 50inch 720p 600hz plasma hdtv 50pt350', 'lg 50inch 720p 600hz plasma hdtv 50pt350', 'newegg.com  samsung  46inch 1080p led tv', 'sony  bravia / 55inch class / led / 1080p / 240hz / 3d / hdtv', 'newegg.com  sony 60inch 1080p 120hz ledHdTv kdl60r550a', 'insignia\\x99  55inch class / led / 1080p / 120hz / hdtv', 'samsung un55c7000 55inch 1080p 240hz 3d ledHdTv (black)', 'newegg.com  samsung 6300 60inch 1080p 120hz ledlcd hdtv  un60f6300afxza', 'newegg.com  samsung 6300 60inch 1080p 120hz ledlcd hdtv  un60f6300afxza', 'newegg.com  samsung 450 series 51inch class (50.73inch) 720p 600hz plasma hdtv pn51e450a1fxza', 'newegg.com  samsung 450 series 51inch class (50.73inch) 720p 600hz plasma hdtv pn51e450a1fxza', 'newegg.com  sony 55inch class (54.6inch) 1080p 240hz ledlcd hdtv kdl55w900a', 'samsung 32inch class (31.5inch) 1080p 60hz ledlcd smart tv un32eh5300fxza  newegg.com', 'vizio 47inch 1080p 120hz lcd hdtv e470va  newegg.com', 'sharp aquos quattron 60inch class 60132inch led 1080p 240hz smart3DHdtv lc60le755u  best buy', 'sony bravia kdl55hx800 55inch 1080p 240hz 3dready ledHdTv, black', 'newegg.com  samsung 59inch 1080p 600hz plasma hdtv pn59d7000ff', 'dynex\\x99  32inch class / 720p / 60hz / lcd hdtv', 'newegg.com  lg 37inch 1080p ledlcd hdtv 37lv3500', 'newegg.com  samsung 7003 55inch class (54.6inch) 1080p 240hz led tv un55es7003fxza', 'dynex\\x99  32inch class / led / 720p / 60hz / hdtv', 'toshiba 32inch class 32inch ledlcd tv 720p 32sl415u  best buy', 'hp 22inch lcd monitor la2205wg  best buy', 'newegg.com  lg infinia 50inch 1080p 600hz plasma 50pk750', 'supersonic 13.3inch class 13.3inch ledlcd tv 720p hdtv sc1311  best buy', 'newegg.com  sharp aquos 60inch 1080p 120hz lcd hdtv lc60e77un', 'newegg.com  lg 37inch 720p 60hz lcd hdtv 37lh200c', 'newegg.com  refurbished: vizio e470ia0 47inch 1080p 120hz smart led hdtv with builtin wifi internet apps', 'samsung  51inch class / plasma / 1080p / 600hz / 3d / hdtv', 'sharp aquos quattron 60inch class 60inch led 1080p 240hz smartHdtv lc60le750u  best buy', 'newegg.com  panasonic 55inch 1080p 60hz ledlcd hdtv th55lru50', 'newegg.com  toshiba 58” 4k ultra hd 240hz smart led tv with 3d bluray player and soundbar – 58l9300ubdx6400kit', 'lg 47inch 1080p 240hz ledlcd hdtv 47lw6500', 'lg 47inch 1080p 240hz ledlcd hdtv 47lw6500', 'newegg.com  refurbished: 42inch class 1080p pro:centric lcd hdtv with applications platform 42lt670h', 'newegg.com  toshiba 29inch 720p 60hz ledlcd hdtv 29l1350u', 'newegg.com  toshiba 29inch 720p 60hz ledlcd hdtv 29l1350u', 'samsung 46inch class 45910inch led 1080p 120hz 3d hdtv un46eh6030fxza  best buy', 'newegg.com  refurbished: lg 55inch (54.6inchonal) 1080p 120hz ledlcd hdtv  55ls4600', 'newegg.com  refurbished: vizio 47inch class (46.96 diag.) 1080p 240hz ledlcd hdtv, c grade scratch, crack and dent xvt473svc', 'elo 15inch openframe lcd touchscreen monitor 1541l  best buy', 'samsung 75inch class 7412inch led 1080p 120hz smartHdtv un75f6300afxza  best buy', 'newegg.com  samsung 7500 60inch 1080p 240hz ledlcd hdtv  un60f7500afxza', 'newegg.com  samsung 7500 60inch 1080p 240hz ledlcd hdtv  un60f7500afxza', 'lg  42inch class / 1080p / 120hz / lcd hdtv', 'newegg.com  coby 32inch class (31.5inch) 720p 60hz lcd hdtv tftv3227', 'newegg.com  coby 32inch class (31.5inch) 720p 60hz lcd hdtv tftv3227', 'lg cinema screen 55lm6700 55inch cinema 3d 1080p 120hz ledlcd hdtv with smart tv and six pairs of 3d glasses (2012 model)', 'lg 55inch class 5458inch led 4k ultraHdTv 2160p 240hz smart3DHdtv 55la9650  best buy', 'newegg.com  lg 47inch class (46.9inch) 1080p 240hz ledlcd hdtv 47lm8600', 'newegg.com  lg 47inch class (46.9inch) 1080p 240hz ledlcd hdtv 47lm8600', 'newegg.com  lg 55inch 1080p trumotion 120hz ledlcd hdtv + sound bar 55ln5790', 'newegg.com  lg 55inch 1080p trumotion 120hz ledlcd hdtv + sound bar 55ln5790', 'newegg.com  samsung 65inch class (64.5inchonal size) 1080p 120hz ledlcd hdtv  un65f6300afxza', 'newegg.com  samsung 65inch class (64.5inchonal size) 1080p 120hz ledlcd hdtv  un65f6300afxza', 'newegg.com  toshiba  39l4300u 39 inch clearscan 1080p, 120hz', 'newegg.com  lg 47inch 3d ready 1080p 240hz lcd commercial widescreen hdtv 47ld950c', 'newegg.com  refurbished: vizio 42inch 1080p 60hz lcd hdtv, c grade scratch, crack and dent e422vac', 'newegg.com  coby 31.5inch 720p 60hz ledlcd hdtv  ledtv3256', 'newegg.com  proscan 19inch 720p 60hz ledlcd hdtv  pled1960a', 'newegg.com  lg 19inch 720p ledlcd hdtv 19le5300', 'samsung pn58c7000 58inch 1080p 3d plasma hdtv', 'panasonic viera 65inch class 6434inch plasma 1080p 600hz smart3DHdtv tcp65st60  best buy', 'toshiba 40inch 1080p 60hz lcd hdtv 40e210', 'toshiba 40inch 1080p 60hz lcd hdtv 40e210', 'toshiba 40inch 1080p 60hz lcd hdtv 40e210', 'newegg.com  refurbished: samsung 32inch ledlcd hdtv un32eh4003fxza', 'newegg.com  refurbished: samsung 32inch ledlcd hdtv un32eh4003fxza', 'newegg.com  refurbished: samsung 60inch ledlcd hdtv  un60eh6002', 'newegg.com  lg 29 class (28.5inch actual size) 720p 60hz ledlcd hdtv 29ln4510', 'newegg.com  lg 29 class (28.5inch actual size) 720p 60hz ledlcd hdtv 29ln4510', 'sunbritetv signature 65inch class 65inch lcd tv 1080p 240hz hdtv 1080p powder coated aluminum, silver 6560hd  best buy', 'newegg.com  refurbished: samsung 55inch 1080p 240hz slim ledlcd hdtv un55es8000', 'samsung 46inch 1080p 60hz led smart tv un46eh5300fxza  newegg.com', 'westinghouse  40inch class / lcd / 1080p / 60hz / hdtv', 'newegg.com  lg 42inch 1080p 60hz lcd hdtv 42ld452c', 'westinghouse  22inch class / 720p / 60hz / lcd hdtv', 'samsung 32inch class 32inch lcd tv black md32b  best buy', 'westinghouse  46inch class/ led / 1080p / 120hz /hdtv', 'panasonic viera 32inch class (31.5inch) 720p 60hz lcd hdtv tcl32c3', 'panasonic viera 32inch class (31.5inch) 720p 60hz lcd hdtv tcl32c3', 'insignia 19inch class 1812inch led 720p 60hz hdtv ns19e310a13  best buy', 'lg 32inch class (31.5inch measured) 720p 60hz ledlcd hdtv 32lv2400', 'lg 32inch class (31.5inch measured) 720p 60hz ledlcd hdtv 32lv2400', 'newegg.com  haier 24inch 720p 60hz ledlcd hdtv  le24c3320', 'newegg.com  haier 24inch 720p 60hz ledlcd hdtv  le24c3320', 'westinghouse 40inch class 40inch lcd 1080p 60hz hdtv cw40t2rw  best buy', 'samsung  51inch class / plasma / 1080p / 600hz / 3d /hdtv', 'sony refurbished bravia 46inch class led 1080p 60hz smartHdtv kdl46ex523  best buy', 'samsung un46d8000 46inch 1080p 240hz 3d ledHdTv (silver)', 'newegg.com  sharp aquos 52inch 1080p 240hz ledlcd hdtv lc52le920un', 'sony 32inch class (31.5inch) 720p 60hz lcd hdtv kdl32bx330  newegg.com', 'sunbritetv marquee 55inch class 55inch lcd tv 1080p 120hz hdtv 1080p powder coated aluminum, silver 5507estl  best buy', 'sony bravia kdl55nx810 55inch 1080p 240hz 3dready ledHdTv, black', 'newegg.com  refurbished: panasonic 50inch smart viera tc50le64 led full 1080p hd 120hz', 'newegg.com  philips 55inch 1080p ledlcd hdtv 55pfl5907/f7', 'pyle pt659du dual cassette deck  pt659du  lcd tvs  pyle lcd tvs  thenerds.net', 'newegg.com  lg 39 class (38.5inch actual size) 1080p 60hz ledlcd hdtv 39ln5300', 'newegg.com  lg 39 class (38.5inch actual size) 1080p 60hz ledlcd hdtv 39ln5300', 'lg 65lm6200 65inch cinema 3d 1080p 120hz ledlcd hdtv with smart tv and six pairs of 3d glasses (2012 model)', 'newegg.com  refurbished: lg 47inch (46.9inchonal) cinema 3d 1080p 120hz led tv with smart tv', 'newegg.com  refurbished: lg 47inch (46.9inchonal) cinema 3d 1080p 120hz led tv with smart tv', 'newegg.com  refurbished: vizio e390ia1 39inch 1080p 120hz smartLedHdtv with hdmi builtin wifi internet apps', 'samsung refurbished 39inch class 3858inch led 1080p 60hz hdtv un39eh5003  best buy', 'newegg.com  refurbished: toshiba  40ft2ub 40inch 1080p 60hz lcd tv', 'newegg.com  refurbished: vizio 32inch 720p lcd hdtv  vw32l', 'lg 65inch 3d ready 1080p 120hz ledlcd hdtv 65lw6500', 'lg 65inch 3d ready 1080p 120hz ledlcd hdtv 65lw6500', 'lg 65inch 3d ready 1080p 120hz ledlcd hdtv 65lw6500', 'lg 65inch 3d ready 1080p 120hz ledlcd hdtv 65lw6500', 'insignia 39inch class 3812inch lcd 1080p 60hz hdtv ns39l400na14  best buy', 'coby 23inch 1080p widescreen ledHdTv ledtv2326', 'coby 23inch 1080p widescreen ledHdTv ledtv2326', 'coby 23inch 1080p widescreen ledHdTv ledtv2326', 'coby 23inch 1080p widescreen ledHdTv ledtv2326', 'samsung pn64d7000 64inch 1080p 600hz 3d plasma hdtv (black) [2011 model]', 'newegg.com  refurbished: samsung un40eh5300 40inch 1080p led full hdtv smart tv built in wifi', 'newegg.com  refurbished: samsung un40eh5300 40inch 1080p led full hdtv smart tv built in wifi', 'newegg.com  rca 3.5inch led portable digital tv dht235aw', 'newegg.com  refurbished: hisense k316 series 46inch 1080p 120hz ledlcd hdtv  46k316', 'insignia 65inch class 6412inch led 1080p 120hz hdtv ns65d260a13  best buy', 'samsung 32inch class 32inch ledlcd tv hdtv hg32na478pf  best buy', 'toshiba  40inch class / lcd / 1080p / 60hz / hdtv', 'panasonic  viera / 55inch class/ plasma / 1080p / 600hz / 3d / hdtv', 'newegg.com  refurbished: samsung 50inch (49.5inch) 1080p 120hz led smart wifi tv', 'hannspree 23inch class 23inch lcd tv st6323u1000  best buy', 'lg 42lm6200 42inch cinema 3d 1080p 120hz ledlcd hdtv with smart tv and six pairs of 3d glasses (2012 model)', 'newegg.com  toshiba  58l7350u 58 inch clearscan 240hz, slim be', 'newegg.com  lg infinia 60inch 1080p 600hz plasma 60pk750', 'samsung  51inch class / plasma / 720p / 600hz / 3d/ hdtv', 'newegg.com  refurbished: lg 60inch 1080p 600hz plasma hdtv  60pn6500', 'newegg.com  refurbished: lg 60inch 1080p 600hz plasma hdtv  60pn6500', 'newegg.com  refurbished: vizio 42inch 1080p class theater 3d edge lit razor led tv with vizio internet apps m3d421sr', 'newegg.com  refurbished: vizio 42inch 1080p class theater 3d edge lit razor led tv with vizio internet apps m3d421sr', 'newegg.com  viewsonic 19inch class (18.5inch) 720p 60hz ledHdTv vt1901led', 'samsung 51inch class 5034inch plasma 1080p 600hz smart3DHdtv pn51f5500afxza  best buy', 'newegg.com  samsung 26inch 720p 60hz ledlcd hdtv un26eh4000fxza', 'newegg.com  samsung  65inch 1080p led tv', 'sony bravia 40inch 16:9 1080p 120hz lcd hdtv  kdl40ex500', 'sony bravia 40inch 16:9 1080p 120hz lcd hdtv  kdl40ex500', 'sony bravia 40inch 16:9 1080p 120hz lcd hdtv  kdl40ex500', 'newegg.com  westinghouse 46inch 1080p 120hz ledlcd hdtv dw46f1y1', 'panasonic 55inch class 55inch ledlcd tv 1080p hdtv 1080p glossy black th55lru50  best buy', 'newegg.com  refurbished: samsung 46inch un46f6350a led full hdtv 1080p clear motion rate 240hz builtin wifi', 'newegg.com  samsung 46inch 1080p 120hz ledlcd hdtv w/ 240cmr un46eh6000fxza', 'newegg.com  samsung 46inch 1080p 120hz ledlcd hdtv w/ 240cmr un46eh6000fxza', 'samsung pn51d550 51inch 1080p 600hz 3d plasma hdtv (black) [2011 model] (2011 model)', 'tcl 39inch class 3812inch led 1080p 60hz hdtv glossy black le39fhdf3300  best buy', 'newegg.com  hannspree st28hmub 28inch 1080p lcd tv  16:10  hdtv 1080p', 'samsung 55inch class 5458inch led 1080p 120hz hdtv un55fh6003fxza  best buy', 'newegg.com  samsung  65inch 1080p led 3d tv', 'contex 32inch class 3112inch led 720p 60hz hdtv le32d3  best buy', 'newegg.com  refurbished: vizio e420a0 42inch full hd 1080p 60hz led tv slim frame', 'newegg.com  refurbished: vizio e420a0 42inch full hd 1080p 60hz led tv slim frame', 'newegg.com  refurbished: vizio e420a0 42inch full hd 1080p 60hz led tv slim frame', 'samsung refurbished 60inch class 60inch led 1080p 240hz smart3DHdtv un60es7150  best buy', 'hello kitty 18.5inch class 18.5inch lcd tv 720p hdtv kt2219  best buy', 'insignia 40inch class 40inch led 1080p 60hz hdtv ns40d40sna14  best buy', 'newegg.com  haier 29inch 720p 60hz ledlcd hdtv le29f2320', 'newegg.com  haier 29inch 720p 60hz ledlcd hdtv le29f2320', 'newegg.com  sharp 40inch class 1080p led tv – lc40le550u', 'panasonic 42inch class (41.6inch) 1080p 600hz plasma hdtv tcp42st30', 'panasonic 42inch class (41.6inch) 1080p 600hz plasma hdtv tcp42st30', 'newegg.com  refurbished: seiki 24inch class (23.6inchonal screen) 1080p 60hz ledlcd hdtv  se242ts', 'lg refurbished ls4600 series 47inch class 46910inch led 1080p 120hz hdtv lge47ls4600x  best buy', 'magnavox 39inch class 3858inch led 1080p 60hz hdtv 39me313v  best buy', 'samsung un55d7000 55inch 1080p 240hz 3d ledHdTv (silver) [2011 model] (2011 model)', 'sony 40inch class 40inch led 1080p 60hz hdtv kdl40r450a  best buy', 'gpx 39inch class 3812inch led 1080p 60hz hdtv te3913b  best buy', 'supersonic 24inch class 24inch ledlcd tv 1080p hdtv 1080p sc2411  best buy', 'panasonic viera 65inch class (64.7inch) 1080p 600hz plasma hdtv tcp65st30', 'panasonic viera 65inch class (64.7inch) 1080p 600hz plasma hdtv tcp65st30', 'panasonic viera 65inch class (64.7inch) 1080p 600hz plasma hdtv tcp65st30', 'newegg.com  sharp aquos series 70inch class (69.5inchonal) 240hz ledlcd hdtv lc70le847u', 'vizio xvt3d554sv 55inch 1080p 480hz 3d ledHdTv with  full array truled, smart dimming and vizio internet apps', 'newegg.com  lg 22inch class (21.6inch) 720p 60hz lcd hdtv 22ld350c', 'lg 47inch 1080p 120hz lcd hdtv 47lk520', 'lg 47inch 1080p 120hz lcd hdtv 47lk520', 'sony bravia 32inch class (31.5inch) 720p 60hz lcd hdtv kdl32bx320', 'sony bravia 32inch class (31.5inch) 720p 60hz lcd hdtv kdl32bx320', 'samsung  32inch class/ led / 720p / 60hz / hdtv', 'newegg.com  lg 32inch 720p 60hz led tv 32ls3450', 'nec 46inch class 46inch lcd tv 1080p hdtv 1080p p462avt  best buy', 'newegg.com  refurbished: lg 42inch class (41.9inchonal) 1080p trumotion 120hz 3d google tv 42ga6400', 'newegg.com  refurbished: lg 42inch class (41.9inchonal) 1080p trumotion 120hz 3d google tv 42ga6400', 'newegg.com  lg 47inch class (46.9inchonal) 1080p trumotion 240hz cinema 3d smart tv  47la7400', 'newegg.com  lg 47inch class (46.9inchonal) 1080p trumotion 240hz cinema 3d smart tv  47la7400', 'newegg.com  sunbritetv 32inch class (31.5inch) 720p 240hz lcd hdtv sb3220hd', 'newegg.com  sunbritetv 32inch class (31.5inch) 720p 240hz lcd hdtv sb3220hd', 'newegg.com  jvc blackcrystal 42inch 1080p 120hz ledbacklit lcd hdtv jle42bc3001', 'panasonic viera tcl37dt30 37inch 1080p 3d ledHdTv', 'samsung pn64d550 64inch 1080p 600hz 3d plasma hdtv (black) [2011 model]', 'newegg.com  samsung 40inch 1080p 60hz ledlcd hdtv  un40f5500afxza', 'newegg.com  samsung 40inch 1080p 60hz ledlcd hdtv  un40f5500afxza', 'samsung 40inch 1080p 120hz ledlcd hdtv un40d6000sf', 'samsung 40inch 1080p 120hz ledlcd hdtv un40d6000sf', 'insignia\\x99  42inch class / led / 1080p / 60hz / hdtv', 'samsung 51inch class 5034inch plasma 1080p 600hz hdtv pn51e530a3fxza  best buy', 'samsung  19inch class / led / 720p / 60hz / hdtv', 'sharp  26inch class / led / 1080p / 60hz / hdtv', 'newegg.com  lg 50inch class (49.5inchonal) 1080p trumotion 120hz smart tv 50ln5700', 'newegg.com  lg 50inch class (49.5inchonal) 1080p trumotion 120hz smart tv 50ln5700', 'newegg.com  lg 42inch 1080p 120hz ledlcd tv 42le5500', 'sony bravia kdl46hx750 46inch 240hz 1080p 3d led internet tv, black', 'newegg.com  lg ezsign 42inch 1080p lcd hdtv 42ld452b', 'newegg.com  jvc 55inch 3d ready 1080p 120hz ledlcd hdtv jle55sp4000', 'newegg.com  jvc 55inch 3d ready 1080p 120hz ledlcd hdtv jle55sp4000', 'toshiba 55inch class (54.6inch) 1080p clearframe 120hz lcd hdtv 55g310u', 'toshiba 55inch class (54.6inch) 1080p clearframe 120hz lcd hdtv 55g310u', 'samsung un46es6500 46inch 1080p 120hz 3d slim ledHdTv (black) (2012 model)', 'lg 42inch 1080p 120hz ledlcd hdtv 42lv4400', 'lg 42inch 1080p 120hz ledlcd hdtv 42lv4400', 'vizio mseries 50inch class 4912inch led 1080p 240hz smart3DHdtv m501da2r  best buy', 'newegg.com  panasonic viera 32inch class (31.5inch) 720p 60hz ledlcd hdtv tcl32x5', 'newegg.com  panasonic viera 32inch class (31.5inch) 720p 60hz ledlcd hdtv tcl32x5', 'lg 47inch 1080p 120hz ledlcd hdtv 47lv5500', 'lg 47inch 1080p 120hz ledlcd hdtv 47lv5500', 'insignia\\x99  32inch class / 720p / 60hz / ledlcd hdtv', 'newegg.com  samsung 470 series 32inch directlit hospitality ledHdTv hg32na470pfxza', 'vizio 19inch class (18.5inch) 720p 60hz ledlcd hdtv m190vaw  newegg.com', 'vizio 19inch class (18.5inch) 720p 60hz ledlcd hdtv m190vaw  newegg.com', 'newegg.com  lg 42inch 1080p 60hz lcd hdtv 42ld450c', 'toshiba 24slv411u 24inch class (23.5inch) 1080p 60hz tv/dvd combo', 'toshiba 24slv411u 24inch class (23.5inch) 1080p 60hz tv/dvd combo', 'newegg.com  toshiba 58inch 1080p clearscan 240hz cloud led tv 58l7300u', 'newegg.com  toshiba 58inch 1080p clearscan 240hz cloud led tv 58l7300u', 'lg 32inch class 3112inch led 720p 60hz hdtv 32ls3410  best buy', 'samsung  46inch class / 1080p / 60hz / lcd hdtv', 'newegg.com  samsung 39inch 1080p 60hz led tv un39eh5003fxza', 'samsung 64inch class plasma 1080p 600hz smart3DHdtv pn64d8000f  best buy', 'samsung 64inch class plasma 1080p 600hz smart3DHdtv pn64d8000f  best buy', 'newegg.com  sony 46inch class (46inch) 1080p 240hz ledHdTv kdl46hx750', 'newegg.com  lg 47inch 1080p 120hz ledlcd hdtv 47le5500', 'sony bravia 60inch 1080p 120hz ledlcd hdtv kdl60nx720', 'sony bravia 60inch 1080p 120hz ledlcd hdtv kdl60nx720', 'coby 37inch 1080p 60hz lcd hdtv tftv3728  newegg.com', 'coby 37inch 1080p 60hz lcd hdtv tftv3728  newegg.com', 'samsung  43inch class / plasma / 720p / 600hz / hdtv', 'panasonic viera 65inch class (64.7inch) 1080p 600hz plasma hdtv tcp65gt30', 'panasonic viera 65inch class (64.7inch) 1080p 600hz plasma hdtv tcp65gt30', 'panasonic viera 65inch class (64.7inch) 1080p 600hz plasma hdtv tcp65gt30', 'newegg.com  rca 3.5inch led portable digital tv dht235ar', 'newegg.com  refurbished: sony 40inch kdl40r450a 1080p 60hz led full hd 3x hdmi', 'newegg.com  refurbished: sony 40inch kdl40r450a 1080p 60hz led full hd 3x hdmi', 'dynex\\x99  55inch class / lcd / 1080p / 120hz / hdtv', 'newegg.com  samsung 65inch class 4k ultra hd smart led tv  un65f9000', 'lg ezsign 32inch 720p lcd hdtv 32ld452b  newegg.com', 'lg ezsign 32inch 720p lcd hdtv 32ld452b  newegg.com', 'toshiba refurbished g310 series 55inch class 5458inch lcd 1080p 120hz hdtv tos55g310ubx  best buy', 'dynex\\x99  37inch class / lcd / 720p / 60hz / hdtv', 'newegg.com  sony 55inch class (54.6inch) 1080p 60hz ledHdTv kdl55ex640', 'magnavox 22md311b  best buy', 'nec 55inch class 55inch ledlcd tv 1080p hdtv 1080p v552avt  best buy', 'samsung pn63c7000 63inch 1080p 3d plasma hdtv', 'newegg.com  samsung 577 series 40inch directlit hospitality ledHdTv hg40na577lfxza', 'samsung pn59d550 59inch 1080p 600hz 3d plasma hdtv (black) [2011 model] (2011 model)', 'newegg.com  samsung 60inch class (59.9inchonal size) 1080p 600hz plasma hdtv  pn60f5300afxza', 'newegg.com  samsung 60inch class (59.9inchonal size) 1080p 600hz plasma hdtv  pn60f5300afxza', \"newegg.com  vizio e260va 26' 720p ledlcd tv  16:9  hdtv\", 'newegg.com  refurbished: lg 55inch class (54.6inchonal) 1080p trumotion 120hz ledlcd hdtv  55ln5400', 'newegg.com  refurbished: lg 55inch class (54.6inchonal) 1080p trumotion 120hz ledlcd hdtv  55ln5400', 'pyle 19inch class 19inch lcd tv 720p hdtv ptc19lc  best buy', 'newegg.com  lg 84inch 2k 240hz ledlcd ultra definition 3d smart tv 84lm9600', 'newegg.com  lg 84inch 2k 240hz ledlcd ultra definition 3d smart tv 84lm9600', 'panasonic viera 60inch class 6018inch plasma 1080p 600hz smart3DHdtv tcp60zt60  best buy', 'toshiba 46inch 1080p 120hz lcd hdtv 46g310u', 'toshiba 46inch 1080p 120hz lcd hdtv 46g310u', 'affinity 19inch class 1812inch led 720p 60hz hdtv dvd combo le1939d  best buy', 'vizio e3d320vx 32inch class theater 3d lcd hdtv with internet apps', 'sunbritetv marquee 47inch class 47inch lcd tv 1080p hdtv 1080p powder coated aluminum, silver 4707estl  best buy', 'sony 50inch class 4912inch led 1080p 60hz hdtv kdl50r450a  best buy', 'newegg.com  lg 60inch 1080p 240hz ledlcd hdtv 60la8600', 'newegg.com  lg 60inch 1080p 240hz ledlcd hdtv 60la8600', 'newegg.com  toshiba 58inch class (57.5inchonal) 1080p clearscan 240hz 3d ultraslim cloud led tv 58l7350u', 'newegg.com  toshiba 58inch class (57.5inchonal) 1080p clearscan 240hz 3d ultraslim cloud led tv 58l7350u', 'viore 24inch class 2358inch led 1080p 60hz hdtv le24vf20  best buy', 'elite  60inch class / led / 1080p / 240hz / 3d / hdtv', 'newegg.com  sigmac 15.3inch 720p 60hz ledlcd hdtv  le15ab', 'newegg.com  samsung un65d8000 65inch 3d 1080p ledlcd tv  16:9  hdtv 1080p', 'sharp aquos 70inch class 6912inch led 1080p 120hz smart3DHdtv black, brushed aluminum lc70le745u  best buy', 'sharp aquos quattron 70inch class 6912inch led 1080p 240hz smart3DHdtv lc70le857u  best buy', 'newegg.com  sharp 60inch class 1080p 120hz led tv – lc60le550u', 'seiki 32inch class 32inch lcd tv 1080p hdtv 1080p lc32g82  best buy', 'newegg.com  lg 42inch 1080p 120hz lcd hdtv 42ld550', 'sharp aquos quattron 60inch class 60inch led 1080p 240hz smart3DHdtv lc60le757u  best buy', 'lg 65inch class 6412inch led 4k ultraHdTv 2160p 240hz smart3DHdtv 65la9650  best buy', 'seiki 46inch class 46inch lcd tv 1080p hdtv 1080p sc462tc  best buy', 'vizio eseries 24inch class 2312inch led 1080p 60hz smartHdtv e241ia1w  best buy', 'newegg.com  refurbished: samsung un32eh5300 32inch class (31.5inch) 1080p 60hz led smart tv', 'panasonic viera tcl55dt50 55inch 1080p 240hz 3d full hd ips ledlcd tv (2012 model)', 'panasonic viera tcl55dt50 55inch 1080p 240hz 3d full hd ips ledlcd tv (2012 model)', 'newegg.com  lg 27inch 1080p lcd widescreen monitor tv m2762dpem', 'newegg.com  lg 47inch class (46.9inchonal) 1080p trumotion 120hz 3d smart tv 47la6200', 'newegg.com  lg 47inch class (46.9inchonal) 1080p trumotion 120hz 3d smart tv 47la6200', 'newegg.com  samsung 570 series 40inch ledlcd hdtv hg40na570lfxza', 'lg refurbished 22inch class 2112inch led 720p 60hz hdtv 22ls3500  best buy', 'panasonic 32inch class 32inch lcd tv hdtv matte black th32lrh30u  best buy', 'sharp aquos 52inch 1080p 120hz ledlcd hdtv lc52le830u', 'sharp aquos 52inch 1080p 120hz ledlcd hdtv lc52le830u', 'sony bravia kdl46hx820 46inch 1080p 3d ledHdTv with builtin wifi, black', 'refurbished 47inch class 47inch lcd tv 1080p hdtv 1080p e471vle  best buy', 'toshiba cinema series 47inch class 47inch led 1080p 240hz smart3DHdtv black, silver 47l7200u  best buy', 'panasonic viera 60inch class 6018inch plasma 1080p 600hz smart3DHdtv tcp60vt60  best buy', 'sansui 29inch 720p 60hz ledlcd hdtv sled2900  newegg.com', 'sansui 29inch 720p 60hz ledlcd hdtv sled2900  newegg.com', 'westinghouse 32inch class (31.5inch) 720p 60hz ledlcd hdtv ld3235', 'westinghouse 32inch class (31.5inch) 720p 60hz ledlcd hdtv ld3235', 'coby 32inch class 3112inch lcd 1080p 120hz hdtv tftv3247  best buy', \"newegg.com  vizio razorled e190va 19' 720p ledlcd tv  16:9  hdtv\", 'samsung  46inch class / led / 1080p / 120hz / 3d / hdtv', 'newegg.com  viewsonic 24inch class (23.6inch) 1080p 60hz ledHdTv vt2405led', 'newegg.com  viewsonic 24inch class (23.6inch) 1080p 60hz ledHdTv vt2405led', 'sony bravia kdl40ex720 40inch 1080p 3d ledHdTv, black (2011 model)', 'tcl 40inch class 40inch led 1080p 60hz hdtv le40fhde3010  best buy', 'samsung un55es7500 55inch 1080p 240hz 3d slim ledHdTv (black) (2012 model)', 'samsung un46d7900 46inch 1080p 240hz 3d ledHdTv (silver) [2011 model]', 'samsung un55d7900 55inch 1080p 240hz 3d ledHdTv (silver) [2011 model]', 'newegg.com  samsung  60inch 1080p led 3d tv', 'newegg.com  refurbished: lg 42inch class (41.9inchonal) 1080p trumotion 120hz smart tv  42ln5700', 'newegg.com  refurbished: lg 42inch class (41.9inchonal) 1080p trumotion 120hz smart tv  42ln5700', 'dynex\\x99  40inch class / 1080p / 60hz / lcd hdtv', 'newegg.com  lg 47inch 1080p 240hz ledlcd hdtv 47ga7900', 'newegg.com  lg 47inch 1080p 240hz ledlcd hdtv 47ga7900', 'newegg.com  lg 32inch class (31.5inch) 720p 60hz lcd hdtv 32lh200c', 'panasonic 50inch 1080p 600hz plasma hdtv tcp50st30', 'panasonic 50inch 1080p 600hz plasma hdtv tcp50st30', 'vizio mseries 40inch class 40inch led 1080p 120hz smartHdtv m401ia3  best buy', 'newegg.com  lg 39inch class (38.5inchonal) 1080p trumotion 120hz ledlcd hdtv  39ln5700', 'newegg.com  lg 39inch class (38.5inchonal) 1080p trumotion 120hz ledlcd hdtv  39ln5700', 'dynex\\x99  19inch class / lcd / 720p / 60hz / hdtv', 'sunbritetv signature series 46inch class 46inch lcd 1080p 60hz outdoor hdtv black sb4660hdbl  best buy', 'newegg.com  samsung 55inch class (54.6inch) 1080p 120hz 3d slim led smart tv un55es6500fxza', 'sharp 70inch class 6912inch led 4k ultraHdTv 2160p 120hz smart3DHdtv lc70ud1u  best buy', 'newegg.com  toshiba 39inch 1080p 120hz cloud led tv 39l4300u', 'newegg.com  toshiba 39inch 1080p 120hz cloud led tv 39l4300u', 'lg 47inch 1080p 120hz ledlcd hdtv 47lw5600', 'lg 47inch 1080p 120hz ledlcd hdtv 47lw5600', 'lg 47inch 1080p 120hz ledlcd hdtv 47lw5600', 'lg 47inch 1080p 120hz ledlcd hdtv 47lw5600', 'panasonic viera tcp60st50 60inch 1080p 600hz full hd 3d plasma tv', 'sunbritetv, llc 4660hd  best buy', 'newegg.com  refurbished: westinghouse 40inch 1080p 120hz ledHdTv  ew40t4fw', 'newegg.com  toshiba 55inch class (54.64inch) 1080p 240hz smart 3d ledHdTv 55l7200u', 'newegg.com  refurbished: lg 55inch class (54.6inchonal) 1080p trumotion 240hz cinema 3d smart tv  55la7400', 'newegg.com  refurbished: lg 55inch class (54.6inchonal) 1080p trumotion 240hz cinema 3d smart tv  55la7400', 'samsung refurbished 64inch class 64inch plasma 1080p 120hz hdtv pn64e533d2rb  best buy', 'haier 32inch class 32inch ledlcd tv 1080p glossy black le32n1620  best buy', 'newegg.com  haier 32inch 720p 60hz lcd hdtv l32b1120', 'newegg.com  haier 32inch 720p 60hz lcd hdtv l32b1120', 'sanyo refurbished 47inch class 47inch lcd 1080p 60hz hdtv dp47840  best buy', 'newegg.com  lg 50inch class 1080p 60hz smart led tv  50ln5600', 'panasonic viera 60inch 1080p 600hz plasma hdtv tcp60st30', 'panasonic viera 60inch 1080p 600hz plasma hdtv tcp60st30', 'panasonic viera 60inch 1080p 600hz plasma hdtv tcp60st30', 'newegg.com  refurbished: lg 50inch class (49.9inch) 720p 600hz plasma hdtv  50pa4500', 'newegg.com  refurbished: sharp aquos 60inch 1080p 120hz ledlcd hdtv lc60c6500u', 'newegg.com  refurbished: samsung 50inch  class ( 49.5 inch) 1080p 120hz 3d slim ledHdTv  un50es6500', 'newegg.com  refurbished: samsung 50inch  class ( 49.5 inch) 1080p 120hz 3d slim ledHdTv  un50es6500', 'panasonic 32inch class 32inch ledlcd tv 1080p hdtv 1080p glossy black th32lru60  best buy', 'samsung  37inch class / 1080p / 60hz / lcd hdtv', 'newegg.com  refurbished: samsung 7050 series 60inch 1080p 120hz smartLedHdtv  un60f7050a', 'vizio, inc e420da0  best buy', 'samsung  46inch class / led / 1080p / 240hz / 3d / hdtv', 'newegg.com  toshiba  39l1350u 39 inch clearscan 1080p, 120hz', 'newegg.com  refurbished: vizio 55inch 1080p 240hz razor led smart3DHdtv, m3d550kd', 'newegg.com  open box: lg 60inch 1080p 600hz plasma hdtv 60pm9700', 'samsung  55inch class / led / 1080p / 120hz / 3d / hdtv', 'newegg.com  refurbished: seiki 39inch (38.5inchonal screen) 1080p 60hz ledHdTv  se391ts', 'samsung 550 series 46inch (45.9inch measured diagonally) 1080p 60hz lcd hdtv ln46e550f6fxza  newegg.com', 'samsung 550 series 46inch (45.9inch measured diagonally) 1080p 60hz lcd hdtv ln46e550f6fxza  newegg.com', 'newegg.com  samsung 5500 64inch 1080p 600hz plasma hdtv  pn64f5500afxza', 'newegg.com  samsung 5500 64inch 1080p 600hz plasma hdtv  pn64f5500afxza', 'venturer 8inch class 8inch lcd 480i 60hz undercabinet tv dvd combo klv39082  best buy', 'sony 55inch class 5458inch led 4k ultraHdTv 2160p 120hz smart3DHdtv xbr55x850a  best buy', 'rca 29inch class 29inch led 720p 60hz hdtv dvd combo led29b30rqd  best buy', 'philips 50inch class 50inch ledlcd tv 1080p hdtv 1080p 50pfl3908  best buy', 'sony bravia kdl46hx800 46inch 1080p 240hz 3dready ledHdTv, black', 'lg 42inch 1080p 60hz lcd hdtv 42lk450', 'lg 42inch 1080p 60hz lcd hdtv 42lk450', 'samsung pn51e490 51inch 720p 600hz 3d plasma hdtv (black) (2012 model)', 'newegg.com  sharp 50inch 1080p 120hz ledlcd hdtv  lc50le650u', 'sunbritetv signature 65inch class 65inch led 1080p 240hz outdoor hdtv sb6560hdwh  best buy', 'elite  70inch class / led / 1080p / 240hz / 3d / hdtv', 'newegg.com  refurbished: sony 60inch 1080p 120hz ledlcd hdtv  kdl60r520a', 'newegg.com  refurbished: sony 60inch 1080p 120hz ledlcd hdtv  kdl60r520a', 'panasonic 42inch class 42inch ledlcd tv 1080p hdtv 1080p glossy black th42lru60  best buy', 'panasonic viera 65inch class 6434inch plasma 1080p 600hz smartHdtv tcp65s60  best buy', 'dynex\\x99  40inch class / 1080p / 60hz / lcd hdtv', 'newegg.com  toshiba 39inch 1080p 120hz ledlcd hdtv 39l2300u', 'newegg.com  toshiba 39inch 1080p 120hz ledlcd hdtv 39l2300u', 'panasonic viera tcl42et5 42inch 1080p 120hz 3d full hd ips ledlcd tv with 4 pairs of polarized 3d glasses', 'panasonic viera tcl42et5 42inch 1080p 120hz 3d full hd ips ledlcd tv with 4 pairs of polarized 3d glasses', 'samsung refurbished 27inch class 27inch ledlcd tv 120hz 3d t27a750  best buy', 'samsung 55inch class 5458inch led 4k ultraHdTv 2160p 120hz smart3DHdtv un55f9000afxza  best buy', 'samsung 51inch class 5034inch plasma 1080p 600hz smart3DHdtv pn51f8500a  best buy', 'newegg.com  lg 26inch 720p 60hz lcd hdtv 26ld350c', 'newegg.com  samsung 46inch class (45.9inch) 1080p 240hz ledHdTv un46es8000fxza', 'newegg.com  samsung 46inch class (45.9inch) 1080p 240hz ledHdTv un46es8000fxza', 'samsung 50inch 1080p 60hz ledlcd hdtv un50eh5000fxza  newegg.com', 'samsung 50inch 1080p 60hz ledlcd hdtv un50eh5000fxza  newegg.com', 'haier america le32f2220  best buy', 'newegg.com  lg 50pj350c  50inch  600hz  widescreen commercial plasma tv', 'newegg.com  refurbished: lg 42inch 1080p 60hz lcd hdtv  42lt770h', 'newegg.com  sharp 60inch class 1080p 240hz 3d smart led tv – lc60le857u', 'samsung pn51e550 51inch 1080p 600hz 3d slim plasma hdtv (black) (2012 model)', 'sony 70inch class 6912inch led 1080p 120hz smart3DHdtv kdl70r550a  best buy', 'newegg.com  lg 26inch 720p lcd tv 26ld350', 'newegg.com  lg 60inch class (59.8inchonal) 1080p 600hz plasma hdtv 60ph6700', 'newegg.com  lg 60inch class (59.8inchonal) 1080p 600hz plasma hdtv 60ph6700', 'panasonic viera 37inch 1080p 60hz ledlcd hdtv tcl37e3', 'panasonic viera 37inch 1080p 60hz ledlcd hdtv tcl37e3', 'samsung 64inch class plasma 1080p 600hz smart3DHdtv pn64d7000f  best buy', 'samsung 64inch class plasma 1080p 600hz smart3DHdtv pn64d7000f  best buy', 'newegg.com  lg 37inch 1080p lcd hdtv 37ld450', 'newegg.com  lg 50inch 1080p 600hz plasma hdtv 50pv450c', 'newegg.com  samsung 51inch class (50.7inchonal size) 720p plasma hdtv  pn51f4500afxza', 'newegg.com  samsung 51inch class (50.7inchonal size) 720p plasma hdtv  pn51f4500afxza', 'newegg.com  viewsonic 27inch class (27.0inch) 1080p 60hz ledHdTv vt2755led', 'samsung 55inch class 5458inch oled 1080p smart3DHdtv kn55s9cafxza  best buy', 'newegg.com  lg 50inch 1080p 600hz plasma hdtv 50pv450', 'rca 3.5inch class 3.5inch ledlcd tv dmt336r  best buy', 'samsung  43inch class / plasma / 720p / 600hz / hdtv', 'sharp  46inch class/ led / 1080p / 120hz / hdtv', 'vizio e320ia0 32inch 720p ledlcd tv  16:9  hdtv  e320ia0  lcd tvs  vizio, inc. lcd tvs  thenerds.net', 'vizio e320ia0 32inch 720p ledlcd tv  16:9  hdtv  e320ia0  lcd tvs  vizio, inc. lcd tvs  thenerds.net', 'newegg.com  sharp  32inch 720p led tv', 'newegg.com  sharp  32inch 720p led tv', 'newegg.com  samsung  51inch 720p plasma tv', 'newegg.com  lg ezsign 55inch 1080p 120hz ledlcd hdtv 55lv355b', 'samsung 43inch 720p 600hz plasma hdtv pn43d490a1d', 'samsung 43inch 720p 600hz plasma hdtv pn43d490a1d', 'samsung 43inch 720p 600hz plasma hdtv pn43d490a1d', 'vizio refurbished 55inch class 55inch lcd tv 1080p 120hz hdtv 1080p black e552vle  best buy', 'lg 55inch class (54.6inch) 1080p 120hz lcd hdtv 55lk520', 'lg 55inch class (54.6inch) 1080p 120hz lcd hdtv 55lk520', 'samsung 46inch class 46inch ledlcd tv 1080p hdtv 1080p hg46na578lb  best buy', 'sharp refurbished 70inch class 70inch led 1080p 120hz hdtv lc70le600ur  best buy', 'magnavox 29inch class 2812inch led 720p 60hz hdtv 29me403v  best buy', 'panasonic viera 39inch class 3812inch led 1080p 120hz hdtv tcl39em60  best buy', 'newegg.com  toshiba 50inch class (49.11inch) 1080p 120hz ledHdTv 50l5200u', 'newegg.com  toshiba 50inch class (49.11inch) 1080p 120hz ledHdTv 50l5200u', 'newegg.com  samsung 50inch class (49.5inchonal size) 1080p 120hz ledlcd hdtv  un50f5500afxza', 'newegg.com  samsung 50inch class (49.5inchonal size) 1080p 120hz ledlcd hdtv  un50f5500afxza', 'samsung refurbished 58inch class 58inch plasma 1080p 600hz 3d hdtv pn58c680rb  best buy', 'newegg.com  refurbished: panasonic 47inch class (46.9inch) ledHdTv  tcl47e5', 'newegg.com  lg 60inch 1080p 600hz plasma hdtv 60pz550', 'newegg.com  lg 60inch 1080p 600hz plasma hdtv 60pz550', 'newegg.com  sharp 60inch class 1080p 240hz smart led tv – lc60le750u', 'insignia 50inch class 4912inch led 1080p 60hz hdtv ns50d400na14  best buy', 'insignia\\x99  51inch class / plasma / 1080p / 600hz / hdtv', 'rca 22inch class lcd 1080p 60hz hdtv dvd combo 22lb45rqd  best buy', 'rca  42inch class / led / 1080p / 60hz / hdtv', 'newegg.com  samsung 7000 series 51inch class (50.7inch) 1080p 600hz full hd 3d plasma smart tv pn51e7000ffxza', 'lg 42inch 1080p 60hz ledlcd hdtv 42lv3500', 'lg 42inch 1080p 60hz ledlcd hdtv 42lv3500', 'lg 42inch 1080p 60hz ledlcd hdtv 42lv3500', 'panasonic viera 60inch class 6018inch plasma 1080p 600hz smartHdtv tcp60s60  best buy', 'newegg.com  refurbished: toshiba  50l5200ub 50inch 120hz led', 'newegg.com  refurbished: toshiba  50l5200ub 50inch 120hz led', 'samsung un50f5000af  best buy', 'newegg.com  lg 42inch class 1080p 60hz led tv  42ln5200', 'lg 47inch class (46.9inch) 1080p 120hz ledlcd hdtv 47lm6200  newegg.com', 'lg 47inch class (46.9inch) 1080p 120hz ledlcd hdtv 47lm6200  newegg.com', 'panasonic 37inch class 37inch lcd tv 1080p hdtv 1080p black th37lru5  best buy', 'newegg.com  lg 22inch 720p 60hz ledlcd hdtv 22lv255c', 'dynex\\x99  46inch class / lcd / 1080p / 60hz / hdtv', 'newegg.com  samsung 5000 46inch class (45.9inchdiagonal size) 1080p 60hz ledlcd hdtv  un46f5000afxza', 'vizio ledlcd hdtv e601ia3  newegg.com', 'vizio ledlcd hdtv e601ia3  newegg.com', 'newegg.com  refurbished: vizio e401ia2 40inch 1080p 120hz led smartHdtv with hdmi and builtin wifi', 'newegg.com  refurbished: vizio e401ia2 40inch 1080p 120hz led smartHdtv with hdmi and builtin wifi', 'newegg.com  toshiba  50l7300u 50 inch clearscan 240hz, slim be', 'insignia\\x99  connected tv 42inch class / 1080p / 120hz / ledHdTv', \"newegg.com  samsung 6300 46inch class (45.9' diagonal size) 1080p 120hz ledlcd hdtv  un46f6300afxza\", \"newegg.com  samsung 6300 46inch class (45.9' diagonal size) 1080p 120hz ledlcd hdtv  un46f6300afxza\", 'sharp  aquos / 80inch class / led / 1080p / 120hz / hdtv', 'newegg.com  samsung 29inch 720p 60hz ledlcd hdtv  un29f4000afxza', 'newegg.com  samsung 29inch 720p 60hz ledlcd hdtv  un29f4000afxza', 'dynex\\x99  32inch class / lcd / 720p / 60hz / hdtv', 'naxa 19inch class 19inch ledlcd tv 720p hdtv shiny black nt1907  best buy', 'newegg.com  viewsonic 32inch 720p ledbacklit lcd hdtv vt3255led', 'newegg.com  viewsonic 32inch 720p ledbacklit lcd hdtv vt3255led', 'samsung  60inch class / led / 1080p / 240hz / 3d / hdtv', 'samsung  55inch class / led / 1080p / 240hz / 3d / hdtv', 'newegg.com  samsung 46inch class (45.9inch) 1080p 240hz ledHdTv un46es7100fxza', 'panasonic  viera 55inch  class / plasma / 1080p / 600hz / 3d / hdtv', 'samsung 40inch class (40.0inch) 1080p 60hz ledHdTv un40eh5000fxza  newegg.com', 'samsung 40inch class (40.0inch) 1080p 60hz ledHdTv un40eh5000fxza  newegg.com', 'insignia\\x99  connected tv 32inch class / 1080p / 120hz / ledHdTv', 'nec 42inch class 42inch ledlcd tv 1080p hdtv 1080p e424  best buy']\n"
     ]
    }
   ],
   "source": [
    "##create list to add all titles in string format\n",
    "titles_string = []\n",
    "for i in range(len(x_data)):\n",
    "    titles_string.append(textfunc(x_data['title'], i))\n",
    "    titles_string[i] = titles_string[i].replace('\"', 'inch') #transform to inch\n",
    "    titles_string[i] = titles_string[i].replace('inch diag', 'inch')\n",
    "    titles_string[i] = titles_string[i].replace('inch.', 'inch') \n",
    "    titles_string[i] = titles_string[i].replace('smart hdtv', 'smartHdtv')\n",
    "    titles_string[i] = titles_string[i].replace('smart led hdtv', 'smartLedHdtv')\n",
    "    titles_string[i] = titles_string[i].replace('led hdtv', 'ledHdTv')\n",
    "    titles_string[i] = titles_string[i].replace('hd tv', 'hdtv')\n",
    "    titles_string[i] = titles_string[i].replace('ultra hdtv', 'ultraHdTv')\n",
    "\n",
    "    titles_string[i] = titles_string[i].replace('smart 3d hdtv', 'smart3DHdtv')\n",
    "    titles_string[i] = titles_string[i].replace('smart 3d plasma tv', 'smart3DPlasmatv')\n",
    "    titles_string[i] = titles_string[i].replace(\" hz\", \"hz\") #transform to hz\n",
    "    titles_string[i] = titles_string[i].replace(\"-\", \"\")    \n",
    "\n",
    "\n",
    "        \n",
    "print(titles_string)\n",
    "\n"
   ]
  },
  {
   "cell_type": "code",
   "execution_count": null,
   "id": "12677525",
   "metadata": {},
   "outputs": [],
   "source": []
  },
  {
   "cell_type": "markdown",
   "id": "5e94c9e0",
   "metadata": {},
   "source": []
  },
  {
   "cell_type": "code",
   "execution_count": null,
   "id": "a754e4a4",
   "metadata": {},
   "outputs": [],
   "source": []
  },
  {
   "cell_type": "markdown",
   "id": "466b1f09",
   "metadata": {},
   "source": [
    "# Use words in titles only"
   ]
  },
  {
   "cell_type": "code",
   "execution_count": 70,
   "id": "dcb813cb",
   "metadata": {},
   "outputs": [
    {
     "name": "stdout",
     "output_type": "stream",
     "text": [
      "['samsung', '40inch', 'class', '40inch', 'ledlcd', 'tv', '1080p', 'hdtv', '1080p', 'hg40na577lf', 'best', 'buy']\n"
     ]
    }
   ],
   "source": [
    "##Makes the titles of the products into a (by word callable list of strings)\n",
    "def keyWordMaker(indexTitles):\n",
    "    keyTitles = (titles_string[indexTitles])\n",
    "    keyTitleSplit = keyTitles.split() \n",
    "    return keyTitleSplit\n",
    "\n",
    "print(keyWordMaker(6))"
   ]
  },
  {
   "cell_type": "code",
   "execution_count": 75,
   "id": "003c7139",
   "metadata": {},
   "outputs": [
    {
     "name": "stdout",
     "output_type": "stream",
     "text": [
      "Total amount of keywords including double hits of eg 720p: 1624\n",
      "Length keywords using nonduplicates from solely the titles of x_data: 642\n"
     ]
    }
   ],
   "source": [
    "#add all individual lists of strings together in one list (callable by product index)\n",
    "totalWords = []\n",
    "for i in range(len(x_data)):\n",
    "    totalWords.append(keyWordMaker(i))\n",
    "print('Total amount of keywords including double hits of eg 720p:', len(totalWords))\n",
    "\n",
    "\n",
    "\n",
    "#Remove all double keywords from totalWords\n",
    "allKeyWords = []\n",
    "for i in range(len(df)):\n",
    "    for j in range(len(totalWords[i])):\n",
    "        if totalWords[i][j] not in allKeyWords:\n",
    "            allKeyWords.append(totalWords[i][j])\n",
    "    if listIDs[i] in allKeyWords: ##remove modelID's that are in titles\n",
    "        allKeyWords.remove(listIDs[i])        \n",
    "# print(allKeyWords)\n",
    "\n",
    "\n",
    "# for i in range(len(df)):\n",
    "#     if listIDs[i] in allKeyWords:\n",
    "#         allKeyWords.remove(listIDs[i])\n",
    "    \n",
    "allKeyWords.remove('class'); allKeyWords.remove('newegg.com')\n",
    "allKeyWords.remove('best'); allKeyWords.remove('buy')\n",
    "\n",
    "\n",
    "# print(totalWords[0])\n",
    "print(\"Length keywords using nonduplicates from solely the titles of x_data:\", len(allKeyWords))\n",
    "\n",
    "# allKeyWords"
   ]
  },
  {
   "cell_type": "code",
   "execution_count": null,
   "id": "d70a6f1c",
   "metadata": {},
   "outputs": [],
   "source": []
  },
  {
   "cell_type": "code",
   "execution_count": null,
   "id": "a6f0a376",
   "metadata": {},
   "outputs": [],
   "source": []
  },
  {
   "cell_type": "code",
   "execution_count": null,
   "id": "c91ae36d",
   "metadata": {},
   "outputs": [],
   "source": []
  },
  {
   "cell_type": "code",
   "execution_count": null,
   "id": "d835af13",
   "metadata": {},
   "outputs": [],
   "source": []
  },
  {
   "cell_type": "markdown",
   "id": "1f80261a",
   "metadata": {},
   "source": [
    "# Create matrices for input matrix"
   ]
  },
  {
   "cell_type": "code",
   "execution_count": 79,
   "id": "098ddce9",
   "metadata": {},
   "outputs": [
    {
     "name": "stdout",
     "output_type": "stream",
     "text": [
      "642\n",
      "1624\n"
     ]
    }
   ],
   "source": [
    "#make single list containing all keywords ['', '',  , ..., ''] --> allKeyWordsSep\n",
    "print(len(allKeyWords)) #-->p\n",
    "# allKeyWordsSep\n",
    "print(len(totalWords))"
   ]
  },
  {
   "cell_type": "code",
   "execution_count": 80,
   "id": "b1528020",
   "metadata": {},
   "outputs": [],
   "source": [
    "##create inputMatrix with binary vectors for each keyword (rows) in each product (columns)\n",
    "inputMatrix = np.zeros((len(allKeyWords), len(x_data)))\n",
    "\n",
    "\n",
    "for k in range(len(allKeyWords)):\n",
    "    for i in range(len(x_data)):\n",
    "            if allKeyWords[k] in totalWords[i]:\n",
    "                    inputMatrix[k][i] = 1\n",
    "            \n"
   ]
  },
  {
   "cell_type": "code",
   "execution_count": 81,
   "id": "9178234a",
   "metadata": {},
   "outputs": [
    {
     "name": "stdout",
     "output_type": "stream",
     "text": [
      "Columns of inputmatrix (should equal #products): 1624\n",
      "Length of inputmatrix (=rows (should equal #keywords)): 642\n"
     ]
    },
    {
     "data": {
      "text/plain": [
       "array([[1., 0., 0., ..., 0., 0., 0.],\n",
       "       [1., 0., 0., ..., 0., 0., 0.],\n",
       "       [1., 0., 0., ..., 0., 0., 0.],\n",
       "       ...,\n",
       "       [0., 0., 0., ..., 0., 1., 0.],\n",
       "       [0., 0., 0., ..., 0., 0., 0.],\n",
       "       [0., 0., 0., ..., 1., 0., 0.]])"
      ]
     },
     "execution_count": 81,
     "metadata": {},
     "output_type": "execute_result"
    }
   ],
   "source": [
    "\n",
    "print('Columns of inputmatrix (should equal #products):', len(inputMatrix[0]))\n",
    "print('Length of inputmatrix (=rows (should equal #keywords)):', len(inputMatrix))\n",
    "inputMatrix"
   ]
  },
  {
   "cell_type": "code",
   "execution_count": null,
   "id": "7d26fa2a",
   "metadata": {},
   "outputs": [],
   "source": []
  },
  {
   "cell_type": "code",
   "execution_count": null,
   "id": "f393dcfd",
   "metadata": {},
   "outputs": [],
   "source": []
  },
  {
   "cell_type": "markdown",
   "id": "3a1ba60d",
   "metadata": {},
   "source": [
    "## Minhasing\n"
   ]
  },
  {
   "cell_type": "code",
   "execution_count": 82,
   "id": "0bec0c38",
   "metadata": {},
   "outputs": [],
   "source": [
    "r = len(allKeyWords)\n",
    "p = 1722 #needs to be strictly larger than k"
   ]
  },
  {
   "cell_type": "code",
   "execution_count": 84,
   "id": "c4153676",
   "metadata": {},
   "outputs": [],
   "source": [
    "# #correct minhash function\n",
    "# def minHash(rowNumber):\n",
    "#     a = random.randint(0, 100)\n",
    "#     b = random.randint(0, 100)\n",
    "#     h = (a + b * rowNumber) % p\n",
    "#     return h"
   ]
  },
  {
   "cell_type": "code",
   "execution_count": null,
   "id": "c75b3c70",
   "metadata": {},
   "outputs": [],
   "source": []
  },
  {
   "cell_type": "code",
   "execution_count": null,
   "id": "a5c2610f",
   "metadata": {},
   "outputs": [],
   "source": []
  },
  {
   "cell_type": "code",
   "execution_count": null,
   "id": "6fdc5d3b",
   "metadata": {},
   "outputs": [],
   "source": []
  },
  {
   "cell_type": "code",
   "execution_count": null,
   "id": "71d3cc6c",
   "metadata": {},
   "outputs": [],
   "source": []
  },
  {
   "cell_type": "markdown",
   "id": "d6273099",
   "metadata": {},
   "source": [
    "Now the real matrix"
   ]
  },
  {
   "cell_type": "code",
   "execution_count": null,
   "id": "ac425d9a",
   "metadata": {},
   "outputs": [],
   "source": []
  },
  {
   "cell_type": "code",
   "execution_count": 145,
   "id": "749766cd",
   "metadata": {},
   "outputs": [],
   "source": [
    "#Random number generator function with integer as input\n",
    "def randomNumberGenerator(value):\n",
    "    #create list to store random values such that random values are all created once when function is called\n",
    "    randomNumbers = []\n",
    "    indexValue = random.randint(0, len(allKeyWords) - 1)\n",
    "    randomNumbers.append(indexValue)\n",
    "    \n",
    "    while value > 0:\n",
    "        while indexValue in randomNumbers:\n",
    "            indexValue = random.randint(0, len(allKeyWords) - 1)\n",
    "        randomNumbers.append(indexValue)\n",
    "        value=value-1\n",
    "    return randomNumbers\n",
    "\n",
    "numMinHash = 100\n",
    "p = 1543"
   ]
  },
  {
   "cell_type": "code",
   "execution_count": 146,
   "id": "36675ef7",
   "metadata": {},
   "outputs": [
    {
     "name": "stdout",
     "output_type": "stream",
     "text": [
      "0.0006401538848876953\n",
      "0.0010330677032470703\n"
     ]
    }
   ],
   "source": [
    "#In separate cell call random number generator function\n",
    "\n",
    "randomIntA = randomNumberGenerator(numMinHash)\n",
    "randomIntB = randomNumberGenerator(numMinHash)\n"
   ]
  },
  {
   "cell_type": "code",
   "execution_count": 87,
   "id": "896b1f47",
   "metadata": {},
   "outputs": [],
   "source": [
    "signatureMatrix = []\n",
    "\n",
    "for i in range(len(inputMatrix[0])): #first loop over all products\n",
    "    signature = []\n",
    "\n",
    "    for j in range(0, numMinHash): #Do this 100 times\n",
    "        minHashValue = 2**32 - 1\n",
    "        \n",
    "        for k in range(len(allKeyWords)): #then loop over all keywords\n",
    "            if inputMatrix[k][i] == 1:\n",
    "            \n",
    "                hashValue = (randomIntA[j] + k * randomIntB[j]) % p\n",
    "\n",
    "                if hashValue < minHashValue:                    \n",
    "                    minHashValue = hashValue \n",
    "                    \n",
    "                    \n",
    "        signature.append(minHashValue)     \n",
    "    signatureMatrix.append(signature)"
   ]
  },
  {
   "cell_type": "code",
   "execution_count": 161,
   "id": "33c881e8",
   "metadata": {},
   "outputs": [
    {
     "name": "stdout",
     "output_type": "stream",
     "text": [
      "1624\n",
      "1624\n"
     ]
    },
    {
     "data": {
      "text/html": [
       "<div>\n",
       "<style scoped>\n",
       "    .dataframe tbody tr th:only-of-type {\n",
       "        vertical-align: middle;\n",
       "    }\n",
       "\n",
       "    .dataframe tbody tr th {\n",
       "        vertical-align: top;\n",
       "    }\n",
       "\n",
       "    .dataframe thead th {\n",
       "        text-align: right;\n",
       "    }\n",
       "</style>\n",
       "<table border=\"1\" class=\"dataframe\">\n",
       "  <thead>\n",
       "    <tr style=\"text-align: right;\">\n",
       "      <th></th>\n",
       "      <th>0</th>\n",
       "      <th>1</th>\n",
       "      <th>2</th>\n",
       "      <th>3</th>\n",
       "      <th>4</th>\n",
       "      <th>5</th>\n",
       "      <th>6</th>\n",
       "      <th>7</th>\n",
       "      <th>8</th>\n",
       "      <th>9</th>\n",
       "      <th>...</th>\n",
       "      <th>90</th>\n",
       "      <th>91</th>\n",
       "      <th>92</th>\n",
       "      <th>93</th>\n",
       "      <th>94</th>\n",
       "      <th>95</th>\n",
       "      <th>96</th>\n",
       "      <th>97</th>\n",
       "      <th>98</th>\n",
       "      <th>99</th>\n",
       "    </tr>\n",
       "  </thead>\n",
       "  <tbody>\n",
       "    <tr>\n",
       "      <th>0</th>\n",
       "      <td>116</td>\n",
       "      <td>173</td>\n",
       "      <td>14</td>\n",
       "      <td>0</td>\n",
       "      <td>59</td>\n",
       "      <td>23</td>\n",
       "      <td>34</td>\n",
       "      <td>370</td>\n",
       "      <td>120</td>\n",
       "      <td>103</td>\n",
       "      <td>...</td>\n",
       "      <td>16</td>\n",
       "      <td>49</td>\n",
       "      <td>43</td>\n",
       "      <td>125</td>\n",
       "      <td>78</td>\n",
       "      <td>223</td>\n",
       "      <td>289</td>\n",
       "      <td>120</td>\n",
       "      <td>154</td>\n",
       "      <td>244</td>\n",
       "    </tr>\n",
       "    <tr>\n",
       "      <th>1</th>\n",
       "      <td>415</td>\n",
       "      <td>197</td>\n",
       "      <td>416</td>\n",
       "      <td>391</td>\n",
       "      <td>312</td>\n",
       "      <td>255</td>\n",
       "      <td>90</td>\n",
       "      <td>460</td>\n",
       "      <td>460</td>\n",
       "      <td>242</td>\n",
       "      <td>...</td>\n",
       "      <td>216</td>\n",
       "      <td>246</td>\n",
       "      <td>180</td>\n",
       "      <td>477</td>\n",
       "      <td>399</td>\n",
       "      <td>130</td>\n",
       "      <td>541</td>\n",
       "      <td>215</td>\n",
       "      <td>334</td>\n",
       "      <td>213</td>\n",
       "    </tr>\n",
       "    <tr>\n",
       "      <th>2</th>\n",
       "      <td>17</td>\n",
       "      <td>185</td>\n",
       "      <td>79</td>\n",
       "      <td>317</td>\n",
       "      <td>88</td>\n",
       "      <td>13</td>\n",
       "      <td>146</td>\n",
       "      <td>445</td>\n",
       "      <td>59</td>\n",
       "      <td>659</td>\n",
       "      <td>...</td>\n",
       "      <td>16</td>\n",
       "      <td>55</td>\n",
       "      <td>37</td>\n",
       "      <td>207</td>\n",
       "      <td>13</td>\n",
       "      <td>288</td>\n",
       "      <td>499</td>\n",
       "      <td>37</td>\n",
       "      <td>51</td>\n",
       "      <td>151</td>\n",
       "    </tr>\n",
       "    <tr>\n",
       "      <th>3</th>\n",
       "      <td>116</td>\n",
       "      <td>173</td>\n",
       "      <td>14</td>\n",
       "      <td>0</td>\n",
       "      <td>171</td>\n",
       "      <td>144</td>\n",
       "      <td>258</td>\n",
       "      <td>370</td>\n",
       "      <td>120</td>\n",
       "      <td>89</td>\n",
       "      <td>...</td>\n",
       "      <td>16</td>\n",
       "      <td>49</td>\n",
       "      <td>37</td>\n",
       "      <td>72</td>\n",
       "      <td>78</td>\n",
       "      <td>37</td>\n",
       "      <td>289</td>\n",
       "      <td>37</td>\n",
       "      <td>257</td>\n",
       "      <td>89</td>\n",
       "    </tr>\n",
       "    <tr>\n",
       "      <th>4</th>\n",
       "      <td>67</td>\n",
       "      <td>209</td>\n",
       "      <td>79</td>\n",
       "      <td>243</td>\n",
       "      <td>88</td>\n",
       "      <td>13</td>\n",
       "      <td>34</td>\n",
       "      <td>490</td>\n",
       "      <td>59</td>\n",
       "      <td>103</td>\n",
       "      <td>...</td>\n",
       "      <td>73</td>\n",
       "      <td>52</td>\n",
       "      <td>37</td>\n",
       "      <td>125</td>\n",
       "      <td>77</td>\n",
       "      <td>288</td>\n",
       "      <td>625</td>\n",
       "      <td>37</td>\n",
       "      <td>51</td>\n",
       "      <td>58</td>\n",
       "    </tr>\n",
       "    <tr>\n",
       "      <th>...</th>\n",
       "      <td>...</td>\n",
       "      <td>...</td>\n",
       "      <td>...</td>\n",
       "      <td>...</td>\n",
       "      <td>...</td>\n",
       "      <td>...</td>\n",
       "      <td>...</td>\n",
       "      <td>...</td>\n",
       "      <td>...</td>\n",
       "      <td>...</td>\n",
       "      <td>...</td>\n",
       "      <td>...</td>\n",
       "      <td>...</td>\n",
       "      <td>...</td>\n",
       "      <td>...</td>\n",
       "      <td>...</td>\n",
       "      <td>...</td>\n",
       "      <td>...</td>\n",
       "      <td>...</td>\n",
       "      <td>...</td>\n",
       "      <td>...</td>\n",
       "    </tr>\n",
       "    <tr>\n",
       "      <th>1619</th>\n",
       "      <td>317</td>\n",
       "      <td>6</td>\n",
       "      <td>79</td>\n",
       "      <td>227</td>\n",
       "      <td>237</td>\n",
       "      <td>94</td>\n",
       "      <td>34</td>\n",
       "      <td>147</td>\n",
       "      <td>94</td>\n",
       "      <td>103</td>\n",
       "      <td>...</td>\n",
       "      <td>15</td>\n",
       "      <td>52</td>\n",
       "      <td>13</td>\n",
       "      <td>125</td>\n",
       "      <td>11</td>\n",
       "      <td>139</td>\n",
       "      <td>625</td>\n",
       "      <td>37</td>\n",
       "      <td>49</td>\n",
       "      <td>151</td>\n",
       "    </tr>\n",
       "    <tr>\n",
       "      <th>1620</th>\n",
       "      <td>166</td>\n",
       "      <td>209</td>\n",
       "      <td>14</td>\n",
       "      <td>428</td>\n",
       "      <td>229</td>\n",
       "      <td>7</td>\n",
       "      <td>90</td>\n",
       "      <td>475</td>\n",
       "      <td>338</td>\n",
       "      <td>139</td>\n",
       "      <td>...</td>\n",
       "      <td>416</td>\n",
       "      <td>246</td>\n",
       "      <td>31</td>\n",
       "      <td>289</td>\n",
       "      <td>142</td>\n",
       "      <td>511</td>\n",
       "      <td>583</td>\n",
       "      <td>37</td>\n",
       "      <td>308</td>\n",
       "      <td>27</td>\n",
       "    </tr>\n",
       "    <tr>\n",
       "      <th>1621</th>\n",
       "      <td>166</td>\n",
       "      <td>209</td>\n",
       "      <td>14</td>\n",
       "      <td>428</td>\n",
       "      <td>229</td>\n",
       "      <td>7</td>\n",
       "      <td>90</td>\n",
       "      <td>475</td>\n",
       "      <td>338</td>\n",
       "      <td>139</td>\n",
       "      <td>...</td>\n",
       "      <td>416</td>\n",
       "      <td>246</td>\n",
       "      <td>31</td>\n",
       "      <td>289</td>\n",
       "      <td>142</td>\n",
       "      <td>511</td>\n",
       "      <td>583</td>\n",
       "      <td>37</td>\n",
       "      <td>308</td>\n",
       "      <td>27</td>\n",
       "    </tr>\n",
       "    <tr>\n",
       "      <th>1622</th>\n",
       "      <td>415</td>\n",
       "      <td>197</td>\n",
       "      <td>79</td>\n",
       "      <td>317</td>\n",
       "      <td>88</td>\n",
       "      <td>3</td>\n",
       "      <td>90</td>\n",
       "      <td>520</td>\n",
       "      <td>229</td>\n",
       "      <td>226</td>\n",
       "      <td>...</td>\n",
       "      <td>187</td>\n",
       "      <td>55</td>\n",
       "      <td>37</td>\n",
       "      <td>45</td>\n",
       "      <td>399</td>\n",
       "      <td>102</td>\n",
       "      <td>709</td>\n",
       "      <td>37</td>\n",
       "      <td>49</td>\n",
       "      <td>151</td>\n",
       "    </tr>\n",
       "    <tr>\n",
       "      <th>1623</th>\n",
       "      <td>67</td>\n",
       "      <td>209</td>\n",
       "      <td>79</td>\n",
       "      <td>671</td>\n",
       "      <td>117</td>\n",
       "      <td>3</td>\n",
       "      <td>34</td>\n",
       "      <td>490</td>\n",
       "      <td>168</td>\n",
       "      <td>103</td>\n",
       "      <td>...</td>\n",
       "      <td>187</td>\n",
       "      <td>52</td>\n",
       "      <td>37</td>\n",
       "      <td>125</td>\n",
       "      <td>77</td>\n",
       "      <td>102</td>\n",
       "      <td>132</td>\n",
       "      <td>37</td>\n",
       "      <td>25</td>\n",
       "      <td>58</td>\n",
       "    </tr>\n",
       "  </tbody>\n",
       "</table>\n",
       "<p>1624 rows × 100 columns</p>\n",
       "</div>"
      ],
      "text/plain": [
       "       0    1    2    3    4    5    6    7    8    9   ...   90   91   92  \\\n",
       "0     116  173   14    0   59   23   34  370  120  103  ...   16   49   43   \n",
       "1     415  197  416  391  312  255   90  460  460  242  ...  216  246  180   \n",
       "2      17  185   79  317   88   13  146  445   59  659  ...   16   55   37   \n",
       "3     116  173   14    0  171  144  258  370  120   89  ...   16   49   37   \n",
       "4      67  209   79  243   88   13   34  490   59  103  ...   73   52   37   \n",
       "...   ...  ...  ...  ...  ...  ...  ...  ...  ...  ...  ...  ...  ...  ...   \n",
       "1619  317    6   79  227  237   94   34  147   94  103  ...   15   52   13   \n",
       "1620  166  209   14  428  229    7   90  475  338  139  ...  416  246   31   \n",
       "1621  166  209   14  428  229    7   90  475  338  139  ...  416  246   31   \n",
       "1622  415  197   79  317   88    3   90  520  229  226  ...  187   55   37   \n",
       "1623   67  209   79  671  117    3   34  490  168  103  ...  187   52   37   \n",
       "\n",
       "       93   94   95   96   97   98   99  \n",
       "0     125   78  223  289  120  154  244  \n",
       "1     477  399  130  541  215  334  213  \n",
       "2     207   13  288  499   37   51  151  \n",
       "3      72   78   37  289   37  257   89  \n",
       "4     125   77  288  625   37   51   58  \n",
       "...   ...  ...  ...  ...  ...  ...  ...  \n",
       "1619  125   11  139  625   37   49  151  \n",
       "1620  289  142  511  583   37  308   27  \n",
       "1621  289  142  511  583   37  308   27  \n",
       "1622   45  399  102  709   37   49  151  \n",
       "1623  125   77  102  132   37   25   58  \n",
       "\n",
       "[1624 rows x 100 columns]"
      ]
     },
     "execution_count": 161,
     "metadata": {},
     "output_type": "execute_result"
    }
   ],
   "source": [
    "signatureMatrixFin = (pd.DataFrame(signatureMatrix))                    \n",
    "print(len(signatureMatrixFin))\n",
    "print(len(signatureMatrixFin[0])) #???\n",
    "\n",
    "\n",
    "\n",
    "signatureMatrixFin\n"
   ]
  },
  {
   "cell_type": "markdown",
   "id": "8942740f",
   "metadata": {},
   "source": [
    "# Divide signature matrix into b bands and r rows for each band.\n",
    "n = b * r, where n = length of columns of signature matrix M "
   ]
  },
  {
   "cell_type": "code",
   "execution_count": 165,
   "id": "7d1feaf1",
   "metadata": {},
   "outputs": [],
   "source": [
    "def threshold(r, b):\n",
    "    if r * b == 100:\n",
    "        check = str('r and b chosen correctly')\n",
    "        t = (1/b) ** (1/r)\n",
    "    return check, t"
   ]
  },
  {
   "cell_type": "code",
   "execution_count": 166,
   "id": "0fbddb37",
   "metadata": {},
   "outputs": [
    {
     "name": "stdout",
     "output_type": "stream",
     "text": [
      "100\n"
     ]
    },
    {
     "data": {
      "text/plain": [
       "('r and b chosen correctly', 0.5492802716530588)"
      ]
     },
     "execution_count": 166,
     "metadata": {},
     "output_type": "execute_result"
    }
   ],
   "source": [
    "print(b*r)\n",
    "b = 20\n",
    "r = 5\n",
    "threshold(r,b)\n",
    "# threshold(r,b)[1]\n",
    "# t = 0.8"
   ]
  },
  {
   "cell_type": "code",
   "execution_count": 153,
   "id": "5e02d835",
   "metadata": {},
   "outputs": [],
   "source": [
    "# def jaccard(a: set, b: set):\n",
    "#     return len(a.intersection(b)) / len(a.union(b))\n",
    "\n"
   ]
  },
  {
   "cell_type": "code",
   "execution_count": 151,
   "id": "ee892925",
   "metadata": {},
   "outputs": [
    {
     "ename": "TypeError",
     "evalue": "unsupported operand type(s) for |: 'str' and 'str'",
     "output_type": "error",
     "traceback": [
      "\u001b[0;31m---------------------------------------------------------------------------\u001b[0m",
      "\u001b[0;31mTypeError\u001b[0m                                 Traceback (most recent call last)",
      "\u001b[0;32m<ipython-input-151-5675c7f62fa6>\u001b[0m in \u001b[0;36m<module>\u001b[0;34m\u001b[0m\n\u001b[1;32m      2\u001b[0m \u001b[0;32mfor\u001b[0m \u001b[0mi_doc\u001b[0m \u001b[0;32min\u001b[0m \u001b[0mrange\u001b[0m\u001b[0;34m(\u001b[0m\u001b[0mlen\u001b[0m\u001b[0;34m(\u001b[0m\u001b[0mallKeyWords\u001b[0m\u001b[0;34m)\u001b[0m\u001b[0;34m)\u001b[0m\u001b[0;34m:\u001b[0m\u001b[0;34m\u001b[0m\u001b[0;34m\u001b[0m\u001b[0m\n\u001b[1;32m      3\u001b[0m     \u001b[0;32mfor\u001b[0m \u001b[0mj_doc\u001b[0m \u001b[0;32min\u001b[0m \u001b[0mrange\u001b[0m\u001b[0;34m(\u001b[0m\u001b[0mi_doc\u001b[0m \u001b[0;34m+\u001b[0m \u001b[0;36m1\u001b[0m\u001b[0;34m,\u001b[0m \u001b[0mlen\u001b[0m\u001b[0;34m(\u001b[0m\u001b[0mallKeyWords\u001b[0m\u001b[0;34m)\u001b[0m\u001b[0;34m)\u001b[0m\u001b[0;34m:\u001b[0m\u001b[0;34m\u001b[0m\u001b[0;34m\u001b[0m\u001b[0m\n\u001b[0;32m----> 4\u001b[0;31m         \u001b[0mjaccard_similarity\u001b[0m \u001b[0;34m=\u001b[0m \u001b[0mjaccard\u001b[0m\u001b[0;34m(\u001b[0m\u001b[0mallKeyWords\u001b[0m\u001b[0;34m[\u001b[0m\u001b[0mi_doc\u001b[0m\u001b[0;34m]\u001b[0m\u001b[0;34m,\u001b[0m \u001b[0mallKeyWords\u001b[0m\u001b[0;34m[\u001b[0m\u001b[0mj_doc\u001b[0m\u001b[0;34m]\u001b[0m\u001b[0;34m)\u001b[0m\u001b[0;34m\u001b[0m\u001b[0;34m\u001b[0m\u001b[0m\n\u001b[0m\u001b[1;32m      5\u001b[0m         \u001b[0mis_duplicate\u001b[0m \u001b[0;34m=\u001b[0m \u001b[0mjaccard_similarity\u001b[0m \u001b[0;34m>=\u001b[0m \u001b[0;36m0.75\u001b[0m\u001b[0;34m\u001b[0m\u001b[0;34m\u001b[0m\u001b[0m\n\u001b[1;32m      6\u001b[0m         \u001b[0;32mif\u001b[0m \u001b[0mis_duplicate\u001b[0m\u001b[0;34m:\u001b[0m\u001b[0;34m\u001b[0m\u001b[0;34m\u001b[0m\u001b[0m\n",
      "\u001b[0;32m<ipython-input-150-f992e02dc7d6>\u001b[0m in \u001b[0;36mjaccard\u001b[0;34m(A, B)\u001b[0m\n\u001b[1;32m      1\u001b[0m \u001b[0;32mdef\u001b[0m \u001b[0mjaccard\u001b[0m\u001b[0;34m(\u001b[0m\u001b[0mA\u001b[0m\u001b[0;34m,\u001b[0m \u001b[0mB\u001b[0m\u001b[0;34m)\u001b[0m\u001b[0;34m:\u001b[0m\u001b[0;34m\u001b[0m\u001b[0;34m\u001b[0m\u001b[0m\n\u001b[1;32m      2\u001b[0m     \u001b[0mintersection\u001b[0m \u001b[0;34m=\u001b[0m \u001b[0mA\u001b[0m \u001b[0;34m==\u001b[0m \u001b[0mB\u001b[0m\u001b[0;34m\u001b[0m\u001b[0;34m\u001b[0m\u001b[0m\n\u001b[0;32m----> 3\u001b[0;31m     \u001b[0munion\u001b[0m \u001b[0;34m=\u001b[0m \u001b[0mA\u001b[0m \u001b[0;34m|\u001b[0m \u001b[0mB\u001b[0m\u001b[0;34m\u001b[0m\u001b[0;34m\u001b[0m\u001b[0m\n\u001b[0m\u001b[1;32m      4\u001b[0m     \u001b[0;32mreturn\u001b[0m \u001b[0mlen\u001b[0m\u001b[0;34m(\u001b[0m\u001b[0mintersection\u001b[0m\u001b[0;34m)\u001b[0m \u001b[0;34m/\u001b[0m \u001b[0mlen\u001b[0m\u001b[0;34m(\u001b[0m\u001b[0munion\u001b[0m\u001b[0;34m)\u001b[0m\u001b[0;34m\u001b[0m\u001b[0;34m\u001b[0m\u001b[0m\n",
      "\u001b[0;31mTypeError\u001b[0m: unsupported operand type(s) for |: 'str' and 'str'"
     ]
    }
   ],
   "source": [
    "\n",
    "for i in range(len(x_data)):\n",
    "    for j in range(0, numMinHash):\n",
    "        \n",
    "\n",
    "# jaccard(a, b), jaccard(set(a_sig), set(b_sig))\n",
    "\n"
   ]
  },
  {
   "cell_type": "code",
   "execution_count": null,
   "id": "62da8182",
   "metadata": {},
   "outputs": [],
   "source": [
    "jaccard(a, c), jaccard(set(a_sig), set(c_sig))"
   ]
  },
  {
   "cell_type": "code",
   "execution_count": null,
   "id": "5ca528e3",
   "metadata": {},
   "outputs": [],
   "source": []
  },
  {
   "cell_type": "code",
   "execution_count": null,
   "id": "28ccaee4",
   "metadata": {},
   "outputs": [],
   "source": []
  },
  {
   "cell_type": "code",
   "execution_count": null,
   "id": "fa581007",
   "metadata": {},
   "outputs": [],
   "source": []
  },
  {
   "cell_type": "code",
   "execution_count": null,
   "id": "7c906c7b",
   "metadata": {},
   "outputs": [],
   "source": []
  },
  {
   "cell_type": "code",
   "execution_count": null,
   "id": "143d52cc",
   "metadata": {},
   "outputs": [],
   "source": []
  },
  {
   "cell_type": "code",
   "execution_count": null,
   "id": "7dd84108",
   "metadata": {},
   "outputs": [],
   "source": []
  },
  {
   "cell_type": "code",
   "execution_count": null,
   "id": "060ddba8",
   "metadata": {},
   "outputs": [],
   "source": []
  },
  {
   "cell_type": "code",
   "execution_count": null,
   "id": "67b81d25",
   "metadata": {},
   "outputs": [],
   "source": [
    "for i in range(len(titles_string)):\n",
    "    signature1 = sigComplete[i]\n",
    "    \n",
    "    for j in range(i+1, len(titles_string)):\n",
    "        signature2 = sigComplete[j]\n",
    "        \n",
    "        count = 0\n",
    "        for k in range(0, len(removeDupl)):\n",
    "            count = count + (signature1[k] == signature2[k])"
   ]
  },
  {
   "cell_type": "code",
   "execution_count": null,
   "id": "c78e4929",
   "metadata": {},
   "outputs": [],
   "source": [
    "for i in range(0, numDocs):\n",
    "  # Get the MinHash signature for document i.\n",
    "  signature1 = signatures[i]\n",
    "    \n",
    "  # For each of the other test documents...\n",
    "  for j in range(i + 1, numDocs):\n",
    "    \n",
    "    # Get the MinHash signature for document j.\n",
    "    signature2 = signatures[j]\n",
    "    \n",
    "    count = 0\n",
    "    # Count the number of positions in the minhash signature which are equal.\n",
    "    for k in range(0, numHashes):\n",
    "        count = count + (signature1[k] == signature2[k])\n",
    "    \n",
    "    # Record the percentage of positions which matched.    \n",
    "    estJSim[getTriangleIndex(i, j)] = (count / numHashes)"
   ]
  },
  {
   "cell_type": "code",
   "execution_count": null,
   "id": "a7f05f02",
   "metadata": {},
   "outputs": [],
   "source": [
    "# numMinHash = 100\n",
    "# sigComplete = []\n",
    "# for i in range(len(inputMatrix[0])): #titles --> columns\n",
    "#     sig = []\n",
    "#     for j in range(numMinHash):\n",
    "#         minHashValue = 2**32 - 1\n",
    "#         for k in range(len(removeDupl)): #keywords --> rows\n",
    "#             if inputMatrix[k][i] == 1:\n",
    "#                 hashValue = (randomNoA[k] + k*randomNoB[k]) % p\n",
    "#                 if hashValue < minHashValue:\n",
    "#                     minHashValue = hashValue\n",
    "        \n",
    "#         sig.append(minHashValue)\n",
    "#     sigComplete.append(sig)\n",
    "    "
   ]
  },
  {
   "cell_type": "code",
   "execution_count": null,
   "id": "922237c6",
   "metadata": {},
   "outputs": [],
   "source": []
  },
  {
   "cell_type": "code",
   "execution_count": null,
   "id": "f6f05826",
   "metadata": {},
   "outputs": [],
   "source": []
  },
  {
   "cell_type": "code",
   "execution_count": null,
   "id": "3a27ac38",
   "metadata": {},
   "outputs": [],
   "source": []
  },
  {
   "cell_type": "code",
   "execution_count": null,
   "id": "773752ba",
   "metadata": {},
   "outputs": [],
   "source": []
  },
  {
   "cell_type": "code",
   "execution_count": null,
   "id": "6c052d34",
   "metadata": {},
   "outputs": [],
   "source": []
  },
  {
   "cell_type": "code",
   "execution_count": null,
   "id": "95bf6e6e",
   "metadata": {},
   "outputs": [],
   "source": []
  },
  {
   "cell_type": "code",
   "execution_count": null,
   "id": "d486a937",
   "metadata": {},
   "outputs": [],
   "source": []
  },
  {
   "cell_type": "code",
   "execution_count": null,
   "id": "089d057d",
   "metadata": {},
   "outputs": [],
   "source": []
  },
  {
   "cell_type": "code",
   "execution_count": null,
   "id": "bcd981ae",
   "metadata": {},
   "outputs": [],
   "source": []
  },
  {
   "cell_type": "code",
   "execution_count": null,
   "id": "e95df1e2",
   "metadata": {},
   "outputs": [],
   "source": []
  },
  {
   "cell_type": "code",
   "execution_count": null,
   "id": "cb0a76a3",
   "metadata": {},
   "outputs": [],
   "source": []
  },
  {
   "cell_type": "code",
   "execution_count": null,
   "id": "39b5301b",
   "metadata": {},
   "outputs": [],
   "source": []
  },
  {
   "cell_type": "code",
   "execution_count": null,
   "id": "72601ef5",
   "metadata": {},
   "outputs": [],
   "source": []
  },
  {
   "cell_type": "code",
   "execution_count": null,
   "id": "8cafda35",
   "metadata": {},
   "outputs": [],
   "source": []
  },
  {
   "cell_type": "code",
   "execution_count": null,
   "id": "e3cc3c31",
   "metadata": {},
   "outputs": [],
   "source": [
    "\n"
   ]
  },
  {
   "cell_type": "code",
   "execution_count": null,
   "id": "85b91128",
   "metadata": {},
   "outputs": [],
   "source": []
  },
  {
   "cell_type": "code",
   "execution_count": null,
   "id": "05b0106d",
   "metadata": {},
   "outputs": [],
   "source": []
  },
  {
   "cell_type": "code",
   "execution_count": null,
   "id": "7f5e22a2",
   "metadata": {},
   "outputs": [],
   "source": []
  },
  {
   "cell_type": "code",
   "execution_count": null,
   "id": "4f44263a",
   "metadata": {},
   "outputs": [],
   "source": []
  },
  {
   "cell_type": "code",
   "execution_count": null,
   "id": "bdc80880",
   "metadata": {},
   "outputs": [],
   "source": []
  },
  {
   "cell_type": "code",
   "execution_count": null,
   "id": "18e441e0",
   "metadata": {},
   "outputs": [],
   "source": []
  },
  {
   "cell_type": "code",
   "execution_count": null,
   "id": "562a77c2",
   "metadata": {},
   "outputs": [],
   "source": []
  },
  {
   "cell_type": "code",
   "execution_count": null,
   "id": "0bb968c3",
   "metadata": {},
   "outputs": [],
   "source": []
  },
  {
   "cell_type": "code",
   "execution_count": null,
   "id": "09b863eb",
   "metadata": {},
   "outputs": [],
   "source": []
  },
  {
   "cell_type": "code",
   "execution_count": null,
   "id": "a999a1cd",
   "metadata": {},
   "outputs": [],
   "source": []
  }
 ],
 "metadata": {
  "kernelspec": {
   "display_name": "Python 3",
   "language": "python",
   "name": "python3"
  },
  "language_info": {
   "codemirror_mode": {
    "name": "ipython",
    "version": 3
   },
   "file_extension": ".py",
   "mimetype": "text/x-python",
   "name": "python",
   "nbconvert_exporter": "python",
   "pygments_lexer": "ipython3",
   "version": "3.8.8"
  }
 },
 "nbformat": 4,
 "nbformat_minor": 5
}
