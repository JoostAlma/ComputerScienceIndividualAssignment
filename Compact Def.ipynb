{
 "cells": [
  {
   "cell_type": "markdown",
   "id": "0d8fa5de",
   "metadata": {},
   "source": [
    "## Importing Packages, loading data and textfunction"
   ]
  },
  {
   "cell_type": "code",
   "execution_count": 3,
   "id": "c1fda643",
   "metadata": {},
   "outputs": [],
   "source": [
    "import json\n",
    "import numpy as np\n",
    "import matplotlib.pyplot as plt\n",
    "import pandas as pd\n",
    "import math\n",
    "import re\n",
    "import time\n",
    "import random\n",
    "from sklearn.model_selection import train_test_split\n",
    "from sklearn.utils import resample\n",
    "\n",
    "import kshingle as ks"
   ]
  },
  {
   "cell_type": "code",
   "execution_count": 4,
   "id": "667c4db4",
   "metadata": {},
   "outputs": [],
   "source": [
    "with open(\"TVs-all-merged.json\") as jsonFile:\n",
    "    data = json.load(jsonFile)    \n"
   ]
  },
  {
   "cell_type": "code",
   "execution_count": 5,
   "id": "39ac6ed3",
   "metadata": {},
   "outputs": [],
   "source": [
    "##-- Adding data to a list and splitting the modelID column from the rest\n",
    "file = []\n",
    "for i in range(len(list(data.values()))):\n",
    "    if len(list(data.values())[i]) ==1:\n",
    "        file.append(list(data.values())[i][0])\n",
    "    else:\n",
    "        for j in range(len(list(data.values())[i])):\n",
    "            file.append(list(data.values())[i][1:][0])   \n",
    "df = pd.DataFrame(file)\n",
    "# display(df)\n",
    "x_data = (df[['shop', 'url', 'featuresMap', 'title']])\n",
    "y_data = (df['modelID'])"
   ]
  },
  {
   "cell_type": "code",
   "execution_count": 17,
   "id": "172f792f",
   "metadata": {},
   "outputs": [
    {
     "data": {
      "text/plain": [
       "pandas.core.frame.DataFrame"
      ]
     },
     "execution_count": 17,
     "metadata": {},
     "output_type": "execute_result"
    }
   ],
   "source": []
  },
  {
   "cell_type": "markdown",
   "id": "5ed8296c",
   "metadata": {},
   "source": [
    "## Functions for removing inconsistencies and creating randomnumbers for minhashing"
   ]
  },
  {
   "cell_type": "code",
   "execution_count": 4,
   "id": "f18d3cd7",
   "metadata": {},
   "outputs": [],
   "source": [
    "# ##-- Find all duplicate products using their modelID\n",
    "# y_data2 = pd.DataFrame(y_train)\n",
    "# dupCountList = []\n",
    "# realDupl=0\n",
    "# for i in y_data2['modelID']:\n",
    "#     if i not in dupCountList:\n",
    "#         dupCountList.append(i)\n",
    "#     else:\n",
    "#         realDupl+=1\n",
    "# realDupl\n"
   ]
  },
  {
   "cell_type": "code",
   "execution_count": 10,
   "id": "49a5068e",
   "metadata": {},
   "outputs": [],
   "source": [
    "# ##-- Split x_data and y_data into x&y train & test data\n",
    "x_train, x_test, y_train, y_test = train_test_split(x_data, y_data, test_size=0.37)\n"
   ]
  },
  {
   "cell_type": "code",
   "execution_count": null,
   "id": "be30bfea",
   "metadata": {},
   "outputs": [],
   "source": []
  },
  {
   "cell_type": "code",
   "execution_count": 6,
   "id": "83d43127",
   "metadata": {},
   "outputs": [],
   "source": [
    "##-- Function to remove inconsistencies in data\n",
    "def textfunc2(location):\n",
    "    data = re.sub(r'[^\\w\\s]','', location)\n",
    "    items = data.lower()    \n",
    "    items = items.split()    \n",
    "    return items\n",
    "# textfunc2(y_train.iloc[0])"
   ]
  },
  {
   "cell_type": "code",
   "execution_count": 17,
   "id": "42d2a76a",
   "metadata": {},
   "outputs": [],
   "source": [
    "##-- Random number generator function with integer as input\n",
    "def randomNumberGenerator(value):\n",
    "    #create list to store random values such that random values are all created once when function is called\n",
    "    randomNumbers = []\n",
    "    indexValue = random.randint(0, len(allKeyWords) - 1)\n",
    "    randomNumbers.append(indexValue)\n",
    "    \n",
    "    while value > 0:\n",
    "        while indexValue in randomNumbers:\n",
    "            indexValue = random.randint(0, len(allKeyWords) - 1)\n",
    "        randomNumbers.append(indexValue)\n",
    "        value=value-1\n",
    "    return randomNumbers\n",
    "p = 1583"
   ]
  },
  {
   "cell_type": "markdown",
   "id": "c9664ea3",
   "metadata": {},
   "source": [
    "## Function to process and perform LSH and classification on data"
   ]
  },
  {
   "cell_type": "code",
   "execution_count": 20,
   "id": "2441791d",
   "metadata": {},
   "outputs": [],
   "source": [
    "##-- Function to process and perform LSH and classification on data\n",
    "def fulltransformation(df, x_train, y_train, hashNumber, b, r, thresholdSim):\n",
    "    time0 = time.time()\n",
    "    x_train2 = pd.DataFrame(x_train)\n",
    "    y_train2 = pd.DataFrame(y_train)\n",
    "        \n",
    "    t = (1/b) ** (1/r)\n",
    "    timer=1; timerfin=12\n",
    "    \n",
    "    x_data = (df[['shop', 'url', 'featuresMap', 'title']])\n",
    "    y_data = (df['modelID'])\n",
    "\n",
    "##-- Data transformations\n",
    "    listIDs = []\n",
    "    for i in range(len(y_data)):\n",
    "        listIDs.append(textfunc2(y_data.iloc[i]))\n",
    "\n",
    "    for i in range(len(x_data)):\n",
    "        x_data['title'].iloc[i] = x_data['title'].iloc[i].replace('\"', 'inch')\n",
    "        x_data['title'].iloc[i] = x_data['title'].iloc[i].replace('\\\"', 'inch')\n",
    "        x_data['title'].iloc[i] = x_data['title'].iloc[i].replace('inches', 'inch')\n",
    "        x_data['title'].iloc[i] = x_data['title'].iloc[i].replace('-inch', 'inch')\n",
    "        x_data['title'].iloc[i] = x_data['title'].iloc[i].replace(' inch', 'inch')\n",
    "        x_data['title'].iloc[i] = x_data['title'].iloc[i].replace(' hz', 'hz')\n",
    "        x_data['title'].iloc[i] = x_data['title'].iloc[i].replace('-', '')\n",
    "\n",
    "    \n",
    "##-- Add all titles in string format to a list        \n",
    "    titles_string=[]\n",
    "    for i in range(len(x_data)):\n",
    "        titles_string.append(textfunc2(x_data['title'].iloc[i]))  \n",
    "\n",
    "        \n",
    "##-- Add all individual lists of strings together in one list (callable by product index)\n",
    "    totalWords = []\n",
    "    for i in range(len(x_data)):\n",
    "        totalWords.append(titles_string[i])\n",
    "\n",
    "        \n",
    "##-- Remove all double keywords from totalWords (resulting list consists of only unique keywords)\n",
    "    allKeyWords = []\n",
    "    for i in range(len(x_data)):\n",
    "        for j in range(len(totalWords[i])):\n",
    "            if totalWords[i][j] not in allKeyWords:\n",
    "                allKeyWords.append(totalWords[i][j])\n",
    "      \n",
    "    allKeyWords.remove('class'); allKeyWords.remove('neweggcom')\n",
    "    allKeyWords.remove('best'); allKeyWords.remove('buy')\n",
    "    time1 = time.time()\n",
    "#     print('keywords', len(allKeyWords))\n",
    "    print('Ended dataprocessing (', timer, '/',timerfin,')', time1-time0)\n",
    "    timer+=1\n",
    "##----------------------------------------------------\n",
    "\n",
    "\n",
    "\n",
    "\n",
    "##-- Inputmatrix (binary matrix)   \n",
    "    inputMatrix = np.zeros((len(allKeyWords), len(x_train2)))\n",
    "    for k in range(len(allKeyWords)):\n",
    "        for i in range(len(x_train2)):\n",
    "            if allKeyWords[k] in textfunc2(x_train2['title'].iloc[i]):\n",
    "                    inputMatrix[k,i] = 1\n",
    "    time2 = time.time()\n",
    "    print('Ended inputmatrix computation (', timer, '/',timerfin,')', time2-time0)\n",
    "    timer+=1\n",
    "##----------------------------------------------------\n",
    "\n",
    "\n",
    "\n",
    "\n",
    "   \n",
    "##-- Minhashing\n",
    "#Random number generator function with integer as input\n",
    "    def randomNumberGenerator(value):\n",
    "        #create list to store random values such that random values are all created once when function is called\n",
    "        randomNumbers = []\n",
    "        indexValue = random.randint(0, len(allKeyWords) - 1)\n",
    "        randomNumbers.append(indexValue)\n",
    "\n",
    "        while value > 0:\n",
    "            while indexValue in randomNumbers:\n",
    "                indexValue = random.randint(0, len(allKeyWords) - 1)\n",
    "            randomNumbers.append(indexValue)\n",
    "            value=value-1\n",
    "        return randomNumbers\n",
    "\n",
    "    numMinHash = hashNumber #(Input) # about half of number of keywords\n",
    "    p = 1543\n",
    "\n",
    "    randomIntA = randomNumberGenerator(numMinHash)\n",
    "    randomIntB = randomNumberGenerator(numMinHash)\n",
    "    time3 = time.time()\n",
    "    print('Ended minhashing computation (', timer, '/',timerfin,')', time3-time0)\n",
    "    timer+=1\n",
    "##----------------------------------------------------\n",
    "\n",
    "\n",
    "\n",
    "\n",
    "\n",
    "##-- SignatureMatrix\n",
    "    signatureMatrix = []\n",
    "    for i in range(len(x_train2)): #Loop over all products in sample\n",
    "        signature = []\n",
    "        for j in range(0, numMinHash): #Do this numMinHash times\n",
    "            minHashValue = 2**32 - 1\n",
    "            for k in range(len(allKeyWords)): #Loop over all keywords\n",
    "                if inputMatrix[k,i] == 1:\n",
    "                    hashValue = (randomIntA[j] + k * randomIntB[j]) % p\n",
    "                    if hashValue < minHashValue:                    \n",
    "                        minHashValue = hashValue \n",
    "\n",
    "            signature.append(minHashValue)     \n",
    "        signatureMatrix.append(signature)\n",
    "    time4 = time.time()\n",
    "    print('Ended signaturematrix computation (', timer, '/',timerfin,')', time4-time0)\n",
    "    timer+=1\n",
    "    signatureMatrixFin = np.transpose(pd.DataFrame(signatureMatrix))\n",
    "##----------------------------------------------------\n",
    "\n",
    "\n",
    "\n",
    "\n",
    "    \n",
    "\n",
    "##--Splitting signaturematrix in corresponding rows and bands, depending on values for b and r    \n",
    "    z = np.arange(0,numMinHash,r)\n",
    "    bandsDict = {}\n",
    "    for i in range(len((z))-1):\n",
    "        bandsDict[\"band{0}\".format(i)]=signatureMatrixFin[z[i]:z[i+1]][:]\n",
    "    bandsDict[\"band{0}\".format(b-1)]=signatureMatrixFin[z[b-1]:][:]    \n",
    "    time5 = time.time()\n",
    "    print('Ended splitting signaturematrix into bands (', timer, '/',timerfin,')', time5-time0)\n",
    "    timer+=1\n",
    "##----------------------------------------------------\n",
    "\n",
    "\n",
    "\n",
    "    \n",
    "    \n",
    "##--Create hashvalues for columns of each band represented by their integers as strings\n",
    "##4 rows with values 4, 64, 49, 3 --> 464493\n",
    "    values = bandsDict.values()\n",
    "    keys = bandsDict.keys() #keys = ['band0', 'band1', ... , 'bandb']\n",
    "\n",
    "    hashValBand = {}; hashValBandS = {}; hashValBandDupl = {}; hashValBandNoDupl = {}\n",
    "    for i in range(0,b):\n",
    "        hashValBandS[i] = {}\n",
    "        for j in range(len(x_train)):\n",
    "            valueHash1 = bandsDict['band'+str(i)][:][j]\n",
    "            valueHash2 = [str(int) for int in valueHash1]\n",
    "            valueHash3 = ''.join(valueHash2)\n",
    "            if valueHash3 not in hashValBandS[i].keys():\n",
    "                hashValBandS[i][valueHash3] = [j]\n",
    "            else:\n",
    "                hashValBandS[i][valueHash3].append(j)\n",
    "\n",
    "        hashValBandDupl[i] = {}\n",
    "        hashValBandNoDupl[i] = {}\n",
    "\n",
    "        for key in hashValBandS[i]:\n",
    "            if len(hashValBandS[i][key]) > 1:\n",
    "                  hashValBandDupl[i][key] = hashValBandS[i][key]\n",
    "            else:\n",
    "                hashValBandNoDupl[i][key] = hashValBandS[i][key]\n",
    "    time6 = time.time()\n",
    "    print('Ended creating hashvalues for bands (', timer, '/',timerfin,')', time6-time0)\n",
    "    timer+=1\n",
    "##----------------------------------------------------\n",
    "\n",
    "\n",
    "\n",
    "\n",
    "##--Extract all candidate pairs of all bands for further comparison and renaming\n",
    "    candidateBuck = {}\n",
    "    noCandidateBuck = {}\n",
    "    for i in range(0,b):\n",
    "        candidateBuck['candidatesBuck%s' % i] = list(hashValBandDupl[i].values())\n",
    "        noCandidateBuck['noCandidatesBuck%s' % i] = list(hashValBandNoDupl[i].values())\n",
    "    pairsB = {}\n",
    "    noPairsB = {}\n",
    "    for i in range(0,b):   \n",
    "        pairsB[i] = candidateBuck['candidatesBuck'+str(i)]\n",
    "        noPairsB[i] = noCandidateBuck['noCandidatesBuck'+str(i)]\n",
    "        \n",
    "##-- Add all (non)candidate pairs to a list\n",
    "    allPairs = []\n",
    "    allNoPairs = []\n",
    "    for i in range(0,b):\n",
    "        allPairs.append(pairsB[i])\n",
    "        allNoPairs.append(noPairsB[i]) \n",
    "        \n",
    "##-- Remove duplicate (non)candidate pairs \n",
    "    allPairsDef = []\n",
    "    allNonPairsDef = []\n",
    "    for i in range(b):\n",
    "        for j in range(len(allPairs[i])):\n",
    "            if allPairs[i][j] not in allPairsDef:\n",
    "                allPairsDef.append(allPairs[i][j])\n",
    "\n",
    "    for i in range(b):\n",
    "        for j in range(len(allNoPairs[i])):\n",
    "            if allNoPairs[i][j] not in allNonPairsDef:\n",
    "                allNonPairsDef.append(allNoPairs[i][j])\n",
    "    time7 = time.time()\n",
    "    print('Ended removing (non)duplicate pairs from allPairsDef (', timer, '/',timerfin,')', time7-time0)\n",
    "    timer+=1\n",
    "##----------------------------------------------------\n",
    "\n",
    "    \n",
    "    \n",
    "    \n",
    "        \n",
    "##-- To compare only pairs (two products), take care of the buckets with multiple items\n",
    "##-- by extracting and removing, and later adding in pairs\n",
    "    pairsTwoPlus = [] \n",
    "    for i in range(len(allPairsDef)):\n",
    "        if(len(allPairsDef[i]) > 2):\n",
    "            pairsTwoPlus.append(allPairsDef[i]) #Extract all buckets with more than 2 products\n",
    "\n",
    "    \n",
    "##-- Make new pairs from buckets with more than 2 items  \n",
    "    pairsTwoPlusDoubles = []\n",
    "    for item in range(len(pairsTwoPlus)):\n",
    "        newComp = [(item1, item2) for idx, item1 in enumerate(pairsTwoPlus[item]) for item2 in pairsTwoPlus[item][idx + 1:]]\n",
    "        for item1,item2 in newComp: #Add all possible combinations of pairs from buckets with more than 2 products to a list\n",
    "            if [item2, item1] not in pairsTwoPlusDoubles:\n",
    "                    pairsTwoPlusDoubles.append([item1,item2])\n",
    "    \n",
    "    \n",
    "##-- Remove buckets with more than 2 items\n",
    "    for removeMoreTwo in range(len(pairsTwoPlus)):\n",
    "        allPairsDef.remove(pairsTwoPlus[removeMoreTwo])\n",
    "\n",
    "##-- Add all possible combinations of pairs from buckets > 2 products back to original list    \n",
    "    for i in pairsTwoPlusDoubles:\n",
    "        allPairsDef.append(i)\n",
    "\n",
    "    time8 = time.time()\n",
    "    print('Ended computing all bucketpairs across bands (', timer, '/',timerfin,')', time8-time0)\n",
    "    timer+=1\n",
    "##----------------------------------------------------\n",
    "\n",
    "\n",
    "\n",
    "\n",
    "##-- Find all duplicate products using their modelID\n",
    "    dupID = y_train2.pivot_table(columns=['modelID'], aggfunc='size')\n",
    "    dupID = dupID[dupID > 1]\n",
    "    dupID2 = pd.DataFrame(dupID)\n",
    "#    print(\"Total amount of double products:\", sum(dupID2[0])) #691\n",
    "#    print(\"Total ammount of duplicate products:\", len(dupID)) #329\n",
    "    Dn = 691 #total amount of double products in data\n",
    "            \n",
    "      \n",
    "    \n",
    "##-- Products in the same shop are assumed not to be duplicates\n",
    "    TP = 0; FP = 0\n",
    "    for i in (allPairsDef):\n",
    "        if y_train2['modelID'].iloc[i[0]] == y_train2['modelID'].iloc[i[1]]:\n",
    "#             if(x_train2['shop'].iloc[i[0]] != x_train2['shop'].iloc[i[1]]):\n",
    "#                 print('from different shops')\n",
    "            TP+=1 #same shop condition removed \n",
    "        else:\n",
    "#             print('modelIDs not equal', i, y_train2['modelID'].iloc[i[0]], y_train2['modelID'].iloc[i[1]])\n",
    "            FP +=1   \n",
    "    Df = TP\n",
    "    Nc = len(allPairsDef)\n",
    "    PQ = Df / Nc\n",
    "    PC = Df / Dn\n",
    "    print(\"Df\", Df)\n",
    "#     print(\"Df:\", Df, \"Dn:\", Dn, \"Nc:\", Nc, \"TP:\", TP, \"FP:\", FP, \"PQ:\", PQ, \"PC:\", PC)\n",
    "    F1star = (2 * PQ * PC) / (PQ + PC)\n",
    "    time9 = time.time()\n",
    "    print('Ended LSH performance (', timer, '/',timerfin,')', time9-time0)\n",
    "    timer+=1   \n",
    "##----------------------------------------------------\n",
    "\n",
    "\n",
    "\n",
    "\n",
    "\n",
    "\n",
    "##-- Similarity measures\n",
    "    def jaccard(prod1, prod2):\n",
    "        intersec = np.logical_and(prod1,prod2)\n",
    "        union = np.logical_or(prod1, prod2)\n",
    "        similarVal = intersec.sum() / float(union.sum())\n",
    "        return similarVal\n",
    "\n",
    "    def cosine(prod1, prod2):\n",
    "        value = 0; length1 = 0; length2 = 0\n",
    "        for i in range(len(prod1)):\n",
    "            value += prod1[i]*prod2[i]\n",
    "            length1 += (prod1[i])**2\n",
    "            length2 += (prod2[i])**2\n",
    "        sim = value / (np.sqrt(length1) * np.sqrt(length2))\n",
    "        return sim\n",
    "    \n",
    "    jaccardNew = np.zeros((len(allPairsDef)))\n",
    "    cosineNew = np.zeros((len(allPairsDef)))\n",
    "\n",
    "    for i in range(len(allPairsDef)):\n",
    "        jaccardNew[i] = jaccard(inputMatrix[:, allPairsDef[i][0]], inputMatrix[:, allPairsDef[i][1]])\n",
    "        cosineNew[i] = cosine(inputMatrix[:, allPairsDef[i][0]], inputMatrix[:, allPairsDef[i][1]])\n",
    "\n",
    "    combinedSim = np.zeros((len(allPairsDef)))\n",
    "    for i in range(len(allPairsDef)):\n",
    "        if jaccardNew[i] >= thresholdSim and cosineNew[i] >= thresholdSim:\n",
    "            combinedSim[i] = 1\n",
    "\n",
    "    dfound = 0\n",
    "    for i in range(len(allPairsDef)):\n",
    "        if combinedSim[i] == 1:\n",
    "            a = allPairsDef[i]\n",
    "            if y_train2['modelID'].iloc[a[0]] == y_train2['modelID'].iloc[a[1]]:\n",
    "                dfound +=1 #Also here has the same webshop restriction been removed\n",
    "\n",
    "    DfSim = dfound #Total TP\n",
    "    NcSim = len(combinedSim) #total comparisons made\n",
    "    DnSim = Dn #remains the same for each subset\n",
    "    \n",
    "    PQSim = DfSim / NcSim\n",
    "    PCSim = DfSim / DnSim\n",
    "    F1Sim = (2 * PQSim * PCSim) / (PQSim + PCSim)    \n",
    "    \n",
    "    time10 = time.time()\n",
    "    print('Ended computing jaccard and cosine similarities (', timer, '/',timerfin,')', time10-time0)\n",
    "    timer+=1\n",
    "\n",
    "            \n",
    "#     print('jaccardNew', jaccardNew)\n",
    "#     print('cosineNew', cosineNew)\n",
    "#     print('combined', combinedSim)\n",
    "    \n",
    "    \n",
    "##-- Classification using jaccard- & cosine similarities and threshold\n",
    "\n",
    "#     print('LSH: [t, b, r, F1*]', t, b, r, F1star)\n",
    "#     print('Classification: [t, b, r, F1]', t, b, r, F1Sim)\n",
    "    maxCom = 1624 * 1623 * 0.5\n",
    "    fracOfCompLSH = Nc / maxCom\n",
    "    fracOfComp = NcSim / maxCom\n",
    "    perfLSH = [PQ, PC, F1star, t, fracOfComp]\n",
    "    perfSim = [PQSim, PCSim, F1Sim, t, fracOfComp]\n",
    "    print('')\n",
    "    print('perfLSH', perfLSH)\n",
    "    print('perfSim', perfSim)\n",
    "    print('')\n",
    "    return perfLSH, perfSim   \n",
    " "
   ]
  },
  {
   "cell_type": "code",
   "execution_count": 31,
   "id": "dbf1f0d4",
   "metadata": {},
   "outputs": [],
   "source": [
    "##--Bootstrap\n",
    "numBootstrap = 5\n",
    "sizeBootstrap = int(len(df) * 0.63) #Retain about 1000 products in each sample\n",
    "\n",
    "bootdata = resample(df, n_samples = sizeBootstrap)\n",
    "x_boot = (bootdata[['shop', 'url', 'featuresMap', 'title']])\n",
    "y_boot = (bootdata['modelID'])\n"
   ]
  },
  {
   "cell_type": "markdown",
   "id": "0544f69a",
   "metadata": {},
   "source": [
    "## Bootstrapping"
   ]
  },
  {
   "cell_type": "code",
   "execution_count": 51,
   "id": "253133ad",
   "metadata": {},
   "outputs": [],
   "source": [
    "##-- Function to average estimates over bootstraps\n",
    "def bootEval():\n",
    "    PCStar1 = []; PC1 = []\n",
    "    PQStar1 = []; PQ1 = []\n",
    "    F1Star1 = []; F11 = []\n",
    "    fracOfCompstar = []\n",
    "    fracOfComp1 = []\n",
    "    \n",
    "    PQstar1 = (output1LSH[0] + output2LSH[0] + output3LSH[0] + output4LSH[0] + output5LSH[0]) / len(output1LSH)\n",
    "    PCstar1 = (output1LSH[1] + output2LSH[1] + output3LSH[1] + output4LSH[1] + output5LSH[1]) / len(output1LSH)\n",
    "    F1star1 = (output1LSH[2] + output2LSH[2] + output3LSH[2] + output4LSH[2] + output5LSH[2]) / len(output1LSH)\n",
    "    fracOfCompstar = (output1LSH[4] + output2LSH[4] + output3LSH[4] + output4LSH[4] + output5LSH[4]) / len(output1LSH)\n",
    "\n",
    "    PQ1 = (output1[0] + output2[0] + output3[0] + output4[0] + output5[0]) / len(output1)\n",
    "    PC1 = (output1[1] + output2[1] + output3[1] + output4[1] + output5[1]) / len(output1)\n",
    "    F11 = (output1[2] + output2[2] + output3[2] + output4[2] + output5[2]) / len(output1)\n",
    "    fracOfComp1 = (output1[4] + output2[4] + output3[4] + output4[4] + output5[4]) / len(output1)\n",
    "    print('PQstar1, PCstar1, F1star1, fracOfCompstar, PQ1, PC1, F11, fracOfComp1')\n",
    "    return PQstar1, PCstar1, F1star1, fracOfCompstar, PQ1, PC1, F11, fracOfComp1"
   ]
  },
  {
   "cell_type": "code",
   "execution_count": null,
   "id": "2bf234ed",
   "metadata": {},
   "outputs": [],
   "source": []
  },
  {
   "cell_type": "code",
   "execution_count": null,
   "id": "5aec4d5b",
   "metadata": {},
   "outputs": [],
   "source": []
  },
  {
   "cell_type": "code",
   "execution_count": 52,
   "id": "4b964b82",
   "metadata": {},
   "outputs": [
    {
     "name": "stdout",
     "output_type": "stream",
     "text": [
      "PQstar1, PCstar1, F1star1, fracOfCompstar, PQ1, PC1, F11, fracOfComp1\n"
     ]
    },
    {
     "data": {
      "text/plain": [
       "(0.9589566087071043,\n",
       " 0.7015918958031838,\n",
       " 0.8102286694376979,\n",
       " 0.0003834958675930057,\n",
       " 0.9589566087071043,\n",
       " 0.7015918958031838,\n",
       " 0.8102286694376979,\n",
       " 0.0003834958675930057)"
      ]
     },
     "execution_count": 52,
     "metadata": {},
     "output_type": "execute_result"
    }
   ],
   "source": [
    "# #b=1, r=700\n",
    "# output1LSH = [0.927710843373494, 0.6685962373371924, 0.7771236333052984, 1.0, 0.00037788077178733053]\n",
    "\n",
    "# output1 = [0.927710843373494, 0.6685962373371924, 0.7771236333052984, 1.0, 0.00037788077178733053]\n",
    "# output2LSH = [0.9748062015503876, 0.7279305354558611, 0.8334714167357083, 1.0, 0.0003915391129362702]\n",
    "# output2 = [0.9748062015503876, 0.7279305354558611, 0.8334714167357083, 1.0, 0.0003915391129362702]\n",
    "# output3LSH = [0.9724950884086444, 0.7163531114327062, 0.8249999999999998, 1.0, 0.00038622753582279363]\n",
    "# output3 = [0.9724950884086444, 0.7163531114327062, 0.8249999999999998, 1.0, 0.00038622753582279363]\n",
    "# output4LSH = [0.9507186858316222, 0.6700434153400868, 0.7860780984719864, 1.0, 0.0003695340077518674]\n",
    "# output4 = [0.9507186858316222, 0.6700434153400868, 0.7860780984719864, 1.0, 0.0003695340077518674]\n",
    "# output5LSH = [0.9690522243713733, 0.7250361794500724, 0.8294701986754967, 1.0, 0.00039229790966676683]\n",
    "# output5 = [0.9690522243713733, 0.7250361794500724, 0.8294701986754967, 1.0, 0.00039229790966676683]\n",
    "# bootEval()"
   ]
  },
  {
   "cell_type": "code",
   "execution_count": 53,
   "id": "8109ff7c",
   "metadata": {},
   "outputs": [
    {
     "name": "stdout",
     "output_type": "stream",
     "text": [
      "PQstar1, PCstar1, F1star1, fracOfCompstar, PQ1, PC1, F11, fracOfComp1\n"
     ]
    },
    {
     "data": {
      "text/plain": [
       "(0.9454012820191015,\n",
       " 0.7227206946454414,\n",
       " 0.8186710721008079,\n",
       " 0.0004009481923944286,\n",
       " 0.9454012820191015,\n",
       " 0.7227206946454414,\n",
       " 0.8186710721008079,\n",
       " 0.0004009481923944286)"
      ]
     },
     "execution_count": 53,
     "metadata": {},
     "output_type": "execute_result"
    }
   ],
   "source": [
    "# #b=14, r=50\n",
    "# output1LSH = [0.9511343804537522, 0.788712011577424, 0.8623417721518987, 0.9485875913936671, 0.0004347905265745791]\n",
    "# output1 = [0.9511343804537522, 0.788712011577424, 0.8623417721518987, 0.9485875913936671, 0.0004347905265745791]\n",
    "# output2LSH = [0.9149722735674677, 0.7163531114327062, 0.8035714285714285, 0.9485875913936671, 0.00041050903119868636]\n",
    "# output2 = [0.9149722735674677, 0.7163531114327062, 0.8035714285714285, 0.9485875913936671, 0.00041050903119868636]\n",
    "# output3LSH = [0.9464627151051626, 0.7163531114327062, 0.8154859967051071, 0.9485875913936671, 0.0003968506900497467]\n",
    "# output3 = [0.9464627151051626, 0.7163531114327062, 0.8154859967051071, 0.9485875913936671, 0.0003968506900497467]\n",
    "# output4LSH = [0.9574898785425101, 0.6845151953690304, 0.7983122362869197, 0.9485875913936671, 0.00037484558486534393]\n",
    "# output4 = [0.9574898785425101, 0.6845151953690304, 0.7983122362869197, 0.9485875913936671, 0.00037484558486534393]\n",
    "# output5LSH = [0.9569471624266145, 0.7076700434153401, 0.8136439267886856, 0.9485875913936671, 0.00038774512928378696]\n",
    "# output5 = [0.9569471624266145, 0.7076700434153401, 0.8136439267886856, 0.9485875913936671, 0.00038774512928378696]\n",
    "# bootEval()"
   ]
  },
  {
   "cell_type": "code",
   "execution_count": 54,
   "id": "d862ac24",
   "metadata": {},
   "outputs": [
    {
     "name": "stdout",
     "output_type": "stream",
     "text": [
      "PQstar1, PCstar1, F1star1, fracOfCompstar, PQ1, PC1, F11, fracOfComp1\n"
     ]
    },
    {
     "data": {
      "text/plain": [
       "(0.94205800130462,\n",
       " 0.757163531114327,\n",
       " 0.8391193506953029,\n",
       " 0.0004217392228100367,\n",
       " 0.94205800130462,\n",
       " 0.757163531114327,\n",
       " 0.8391193506953029,\n",
       " 0.0004217392228100367)"
      ]
     },
     "execution_count": 54,
     "metadata": {},
     "output_type": "execute_result"
    }
   ],
   "source": [
    "# #b=25, r=28\n",
    "# output1LSH = [0.9383802816901409, 0.7713458755426917, 0.846703733121525, 0.8914019321842713, 0.00043099654292209585]\n",
    "# output1 = [0.9383802816901409, 0.7713458755426917, 0.846703733121525, 0.8914019321842713, 0.00043099654292209585]\n",
    "# output2LSH = [0.9672447013487476, 0.7264833574529667, 0.8297520661157024, 0.8914019321842713, 0.0003938155031277601]\n",
    "# output2 = [0.9672447013487476, 0.7264833574529667, 0.8297520661157024, 0.8914019321842713, 0.0003938155031277601]\n",
    "# output3LSH = [0.9142857142857143, 0.7872648335745297, 0.8460342146189735, 0.8914019321842713, 0.00045148405464550534]\n",
    "# output3 = [0.9142857142857143, 0.7872648335745297, 0.8460342146189735, 0.8914019321842713, 0.00045148405464550534]\n",
    "# output4LSH = [0.9354243542435424, 0.7337192474674384, 0.8223844282238442, 0.8914019321842713, 0.000411267827929183]\n",
    "# output4 = [0.9354243542435424, 0.7337192474674384, 0.8223844282238442, 0.8914019321842713, 0.000411267827929183]\n",
    "# output5LSH = [0.954954954954955, 0.7670043415340086, 0.8507223113964687, 0.8914019321842713, 0.0004211321854256394]\n",
    "# output5 = [0.954954954954955, 0.7670043415340086, 0.8507223113964687, 0.8914019321842713, 0.0004211321854256394]\n",
    "# bootEval()"
   ]
  },
  {
   "cell_type": "code",
   "execution_count": 55,
   "id": "92aec305",
   "metadata": {},
   "outputs": [
    {
     "name": "stdout",
     "output_type": "stream",
     "text": [
      "PQstar1, PCstar1, F1star1, fracOfCompstar, PQ1, PC1, F11, fracOfComp1\n"
     ]
    },
    {
     "data": {
      "text/plain": [
       "(0.8372129113563961,\n",
       " 0.7351664254703327,\n",
       " 0.7827586488789935,\n",
       " 0.0004607413747575644,\n",
       " 0.8372129113563961,\n",
       " 0.7351664254703327,\n",
       " 0.7827586488789935,\n",
       " 0.0004607413747575644)"
      ]
     },
     "execution_count": 55,
     "metadata": {},
     "output_type": "execute_result"
    }
   ],
   "source": [
    "# #b = 35, r=20\n",
    "# output1LSH = [0.8607809847198642, 0.7337192474674384, 0.7921874999999999, 0.837137116364921, 0.00044693127426252547]\n",
    "# output1 = [0.8607809847198642, 0.7337192474674384, 0.7921874999999999, 0.837137116364921, 0.00044693127426252547]\n",
    "# output2LSH = [0.7961783439490446, 0.723589001447178, 0.7581501137225171, 0.837137116364921, 0.0004765243467518947]\n",
    "# output2 = [0.7961783439490446, 0.723589001447178, 0.7581501137225171, 0.837137116364921, 0.0004765243467518947]\n",
    "# output3LSH = [0.8384491114701131, 0.7510853835021708, 0.7923664122137404, 0.837137116364921, 0.00046969517617742487]\n",
    "# output3 = [0.8384491114701131, 0.7510853835021708, 0.7923664122137404, 0.837137116364921, 0.00046969517617742487]\n",
    "# output4LSH = [0.8699324324324325, 0.7452966714905933, 0.8028059236165237, 0.837137116364921, 0.0004492076644540154]\n",
    "# output4 = [0.8699324324324325, 0.7452966714905933, 0.8028059236165237, 0.837137116364921, 0.0004492076644540154]\n",
    "# output5LSH = [0.8207236842105263, 0.7221418234442837, 0.7682832948421863, 0.837137116364921, 0.00046134841214196177]\n",
    "# output5 = [0.8207236842105263, 0.7221418234442837, 0.7682832948421863, 0.837137116364921, 0.00046134841214196177]\n",
    "# bootEval()"
   ]
  },
  {
   "cell_type": "code",
   "execution_count": 56,
   "id": "577e34f7",
   "metadata": {},
   "outputs": [
    {
     "name": "stdout",
     "output_type": "stream",
     "text": [
      "PQstar1, PCstar1, F1star1, fracOfCompstar, PQ1, PC1, F11, fracOfComp1\n"
     ]
    },
    {
     "data": {
      "text/plain": [
       "(0.5811827954492628,\n",
       " 1.0211287988422575,\n",
       " 0.7387171081869077,\n",
       " 0.0009290707168200954,\n",
       " 0.5811827954492628,\n",
       " 1.0211287988422575,\n",
       " 0.7387171081869077,\n",
       " 0.0009290707168200954)"
      ]
     },
     "execution_count": 56,
     "metadata": {},
     "output_type": "execute_result"
    }
   ],
   "source": [
    "# #b=50, r=14\n",
    "# output1LSH = [0.6206030150753769, 1.0723589001447178, 0.786206896551724, 0.7562144986495706, 0.0009060032962129972]\n",
    "# output1 = [0.6206030150753769, 1.0723589001447178, 0.786206896551724, 0.7562144986495706, 0.0009060032962129972]\n",
    "# output2LSH = [0.6596385542168675, 0.9507959479015919, 0.7788974510966211, 0.7562144986495706, 0.0007557615435746611]\n",
    "# output2 = [0.6596385542168675, 0.9507959479015919, 0.7788974510966211, 0.7562144986495706, 0.0007557615435746611]\n",
    "# output3LSH = [0.5301857585139319, 0.9913169319826338, 0.6908724155320223, 0.7562144986495706, 0.0009803653758016688]\n",
    "# output3 = [0.5301857585139319, 0.9913169319826338, 0.6908724155320223, 0.7562144986495706, 0.0009803653758016688]\n",
    "# output4LSH = [0.5303703703703704, 1.036179450072359, 0.7016168544830965, 0.7562144986495706, 0.0010243755861704743]\n",
    "# output4 = [0.5303703703703704, 1.036179450072359, 0.7016168544830965, 0.7562144986495706, 0.0010243755861704743]\n",
    "# output5LSH = [0.5651162790697675, 1.0549927641099854, 0.7359919232710751, 0.7562144986495706, 0.0009788477823406755]\n",
    "# output5 = [0.5651162790697675, 1.0549927641099854, 0.7359919232710751, 0.7562144986495706, 0.0009788477823406755]\n",
    "# bootEval()"
   ]
  },
  {
   "cell_type": "code",
   "execution_count": 57,
   "id": "7de7fda6",
   "metadata": {},
   "outputs": [
    {
     "name": "stdout",
     "output_type": "stream",
     "text": [
      "PQstar1, PCstar1, F1star1, fracOfCompstar, PQ1, PC1, F11, fracOfComp1\n"
     ]
    },
    {
     "data": {
      "text/plain": [
       "(0.20097317134299003,\n",
       " 5.224891461649784,\n",
       " 0.3867398614584083,\n",
       " 0.013856083576907086,\n",
       " 0.20097317134299003,\n",
       " 5.224891461649784,\n",
       " 0.3867398614584083,\n",
       " 0.013856083576907086)"
      ]
     },
     "execution_count": 57,
     "metadata": {},
     "output_type": "execute_result"
    }
   ],
   "source": [
    "# #b=100, r=7\n",
    "# output1LSH = [0.18242221261884184, 4.88712011577424, 0.35171587772743845, 0.5179474679231212, 0.014046845074953941]\n",
    "# output1 = [0.18242221261884184, 4.88712011577424, 0.35171587772743845, 0.5179474679231212, 0.014046845074953941]\n",
    "# output2LSH = [0.20709480825619503, 5.21273516642547, 0.39836319398363196, 0.5179474679231212, 0.013197751533528193]\n",
    "# output2 = [0.20709480825619503, 5.21273516642547, 0.39836319398363196, 0.5179474679231212, 0.013197751533528193]\n",
    "# output3LSH = [0.2144910530947492, 5.290882778581765, 0.41226883175462337, 0.5179474679231212, 0.012933690271315358]\n",
    "# output3 = [0.2144910530947492, 5.290882778581765, 0.41226883175462337, 0.5179474679231212, 0.012933690271315358]\n",
    "# output4LSH = [0.23065941536369816, 4.91027496382055, 0.44062073891305764, 0.5179474679231212, 0.011161899905605687]\n",
    "# output4 = [0.23065941536369816, 4.91027496382055, 0.44062073891305764, 0.5179474679231212, 0.011161899905605687]\n",
    "# output5LSH = [0.17019836738146596, 5.8234442836468885, 0.33073066491329, 0.5179474679231212, 0.01794023109913224]\n",
    "# output5 = [0.17019836738146596, 5.8234442836468885, 0.33073066491329, 0.5179474679231212, 0.01794023109913224]\n",
    "# bootEval()"
   ]
  },
  {
   "cell_type": "code",
   "execution_count": 58,
   "id": "1f745b88",
   "metadata": {},
   "outputs": [
    {
     "name": "stdout",
     "output_type": "stream",
     "text": [
      "PQstar1, PCstar1, F1star1, fracOfCompstar, PQ1, PC1, F11, fracOfComp1\n"
     ]
    },
    {
     "data": {
      "text/plain": [
       "(0.1094178491016572,\n",
       " 16.311143270622285,\n",
       " 0.21736995522811448,\n",
       " 0.07819931465479302,\n",
       " 0.1094178491016572,\n",
       " 16.311143270622285,\n",
       " 0.21736995522811448,\n",
       " 0.07819931465479302)"
      ]
     },
     "execution_count": 58,
     "metadata": {},
     "output_type": "execute_result"
    }
   ],
   "source": [
    "# #b=140, r=5\n",
    "# output1LSH = [0.10810490208677256, 15.826338639652677, 0.2147429603738758, 0.3721983065876935, 0.07676063605377137]\n",
    "# output1 = [0.10810490208677256, 15.826338639652677, 0.2147429603738758, 0.3721983065876935, 0.07676063605377137]\n",
    "# output2LSH = [0.11065396847771503, 18.17655571635311, 0.21996882607401178, 0.3721983065876935, 0.08612874048848299]\n",
    "# output2 = [0.11065396847771503, 18.17655571635311, 0.21996882607401178, 0.3721983065876935, 0.08612874048848299]\n",
    "# output3LSH = [0.10748099137300775, 17.02026049204052, 0.21361304091177405, 0.3721983065876935, 0.08303057343786517]\n",
    "# output3 = [0.10748099137300775, 17.02026049204052, 0.21361304091177405, 0.3721983065876935, 0.08303057343786517]\n",
    "# output4LSH = [0.1073212079125009, 15.208393632416787, 0.21313836044294812, 0.3721983065876935, 0.07430213464696224]\n",
    "# output4 = [0.1073212079125009, 15.208393632416787, 0.21313836044294812, 0.3721983065876935, 0.07430213464696224]\n",
    "# output5LSH = [0.11352817565828974, 15.324167872648335, 0.2253865883379628, 0.3721983065876935, 0.07077448864688332]\n",
    "# output5 = [0.11352817565828974, 15.324167872648335, 0.2253865883379628, 0.3721983065876935, 0.07077448864688332]\n",
    "# bootEval()"
   ]
  },
  {
   "cell_type": "code",
   "execution_count": 33,
   "id": "21a9d4a7",
   "metadata": {},
   "outputs": [],
   "source": [
    "##1 Pair Completeness\n",
    "pairs = [(1, 700), (14, 50), (25, 28), (35, 20), (50, 14), (100,7), (140, 4), (175, 4), (350, 2), (700, 1)]\n"
   ]
  },
  {
   "cell_type": "markdown",
   "id": "0ca47ac1",
   "metadata": {},
   "source": [
    "## Let computations run once (prior to bootstrapping)"
   ]
  },
  {
   "cell_type": "code",
   "execution_count": 32,
   "id": "cff95cee",
   "metadata": {},
   "outputs": [
    {
     "name": "stdout",
     "output_type": "stream",
     "text": [
      "(1, 700)\n"
     ]
    },
    {
     "name": "stderr",
     "output_type": "stream",
     "text": [
      "/opt/anaconda3/lib/python3.8/site-packages/pandas/core/indexing.py:692: SettingWithCopyWarning: \n",
      "A value is trying to be set on a copy of a slice from a DataFrame\n",
      "\n",
      "See the caveats in the documentation: https://pandas.pydata.org/pandas-docs/stable/user_guide/indexing.html#returning-a-view-versus-a-copy\n",
      "  iloc._setitem_with_indexer(indexer, value, self.name)\n"
     ]
    },
    {
     "name": "stdout",
     "output_type": "stream",
     "text": [
      "keywords 1534\n",
      "Ended dataprocessing ( 1 / 12 ) 0.7795257568359375\n",
      "Ended inputmatrix computation ( 2 / 12 ) 12.818022727966309\n",
      "Ended minhashing computation ( 3 / 12 ) 12.831799030303955\n",
      "Ended signaturematrix computation ( 4 / 12 ) 261.5259299278259\n",
      "Ended splitting signaturematrix into bands ( 5 / 12 ) 261.6640238761902\n",
      "Ended creating hashvalues for bands ( 6 / 12 ) 261.8805978298187\n",
      "Ended removing (non)duplicate pairs from allPairsDef ( 7 / 12 ) 261.883065700531\n",
      "Ended computing all bucketpairs across bands ( 8 / 12 ) 261.8848078250885\n",
      "Df 508\n",
      "Ended LSH performance ( 9 / 12 ) 261.89098477363586\n",
      "Ended computing jaccard and cosine similarities ( 10 / 12 ) 262.5846257209778\n",
      "AllkeyWords: 1534\n",
      "\n",
      "perfLSH [0.9442379182156134, 0.7351664254703328, 0.8266883645240033, 1.0, 0.00040823264100719645]\n",
      "perfSim [0.9442379182156134, 0.7351664254703328, 0.8266883645240033, 1.0, 0.00040823264100719645]\n",
      "\n"
     ]
    }
   ],
   "source": [
    "print(pairs[0])\n",
    "y = fulltransformation(df, x_boot, y_boot, 700, 1, 700, 0.85)"
   ]
  },
  {
   "cell_type": "code",
   "execution_count": 34,
   "id": "c34687c1",
   "metadata": {},
   "outputs": [
    {
     "name": "stdout",
     "output_type": "stream",
     "text": [
      "(14, 50)\n"
     ]
    },
    {
     "name": "stderr",
     "output_type": "stream",
     "text": [
      "/opt/anaconda3/lib/python3.8/site-packages/pandas/core/indexing.py:692: SettingWithCopyWarning: \n",
      "A value is trying to be set on a copy of a slice from a DataFrame\n",
      "\n",
      "See the caveats in the documentation: https://pandas.pydata.org/pandas-docs/stable/user_guide/indexing.html#returning-a-view-versus-a-copy\n",
      "  iloc._setitem_with_indexer(indexer, value, self.name)\n"
     ]
    },
    {
     "name": "stdout",
     "output_type": "stream",
     "text": [
      "keywords 1534\n",
      "Ended dataprocessing ( 1 / 12 ) 0.7662959098815918\n",
      "Ended inputmatrix computation ( 2 / 12 ) 12.768630981445312\n",
      "Ended minhashing computation ( 3 / 12 ) 12.782347917556763\n",
      "Ended signaturematrix computation ( 4 / 12 ) 260.78527212142944\n",
      "Ended splitting signaturematrix into bands ( 5 / 12 ) 260.9162919521332\n",
      "Ended creating hashvalues for bands ( 6 / 12 ) 261.7309422492981\n",
      "Ended removing (non)duplicate pairs from allPairsDef ( 7 / 12 ) 261.7633080482483\n",
      "Ended computing all bucketpairs across bands ( 8 / 12 ) 261.76511907577515\n",
      "Df 508\n",
      "Ended LSH performance ( 9 / 12 ) 261.7710750102997\n",
      "Ended computing jaccard and cosine similarities ( 10 / 12 ) 262.47446608543396\n",
      "AllkeyWords: 1534\n",
      "\n",
      "perfLSH [0.9442379182156134, 0.7351664254703328, 0.8266883645240033, 0.9485875913936671, 0.00040823264100719645]\n",
      "perfSim [0.9442379182156134, 0.7351664254703328, 0.8266883645240033, 0.9485875913936671, 0.00040823264100719645]\n",
      "\n"
     ]
    }
   ],
   "source": [
    "print(pairs[1])\n",
    "y = fulltransformation(df, x_boot, y_boot, 700, 14, 50, 0.85)"
   ]
  },
  {
   "cell_type": "code",
   "execution_count": 35,
   "id": "8c1950a5",
   "metadata": {},
   "outputs": [
    {
     "name": "stdout",
     "output_type": "stream",
     "text": [
      "(25, 28)\n"
     ]
    },
    {
     "name": "stderr",
     "output_type": "stream",
     "text": [
      "/opt/anaconda3/lib/python3.8/site-packages/pandas/core/indexing.py:692: SettingWithCopyWarning: \n",
      "A value is trying to be set on a copy of a slice from a DataFrame\n",
      "\n",
      "See the caveats in the documentation: https://pandas.pydata.org/pandas-docs/stable/user_guide/indexing.html#returning-a-view-versus-a-copy\n",
      "  iloc._setitem_with_indexer(indexer, value, self.name)\n"
     ]
    },
    {
     "name": "stdout",
     "output_type": "stream",
     "text": [
      "keywords 1534\n",
      "Ended dataprocessing ( 1 / 12 ) 0.7553648948669434\n",
      "Ended inputmatrix computation ( 2 / 12 ) 12.975375890731812\n",
      "Ended minhashing computation ( 3 / 12 ) 12.989080667495728\n",
      "Ended signaturematrix computation ( 4 / 12 ) 262.1363220214844\n",
      "Ended splitting signaturematrix into bands ( 5 / 12 ) 262.26972794532776\n",
      "Ended creating hashvalues for bands ( 6 / 12 ) 263.51937985420227\n",
      "Ended removing (non)duplicate pairs from allPairsDef ( 7 / 12 ) 263.57709288597107\n",
      "Ended computing all bucketpairs across bands ( 8 / 12 ) 263.5790538787842\n",
      "Df 514\n",
      "Ended LSH performance ( 9 / 12 ) 263.58538603782654\n",
      "Ended computing jaccard and cosine similarities ( 10 / 12 ) 264.304655790329\n",
      "AllkeyWords: 1534\n",
      "\n",
      "perfLSH [0.927797833935018, 0.743849493487699, 0.8257028112449799, 0.8914019321842713, 0.0004203733886951428]\n",
      "perfSim [0.927797833935018, 0.743849493487699, 0.8257028112449799, 0.8914019321842713, 0.0004203733886951428]\n",
      "\n"
     ]
    }
   ],
   "source": [
    "print(pairs[2])\n",
    "y = fulltransformation(df, x_boot, y_boot, 700, 25, 28, 0.85)"
   ]
  },
  {
   "cell_type": "code",
   "execution_count": 36,
   "id": "2fe84572",
   "metadata": {},
   "outputs": [
    {
     "name": "stdout",
     "output_type": "stream",
     "text": [
      "(35, 20)\n"
     ]
    },
    {
     "name": "stderr",
     "output_type": "stream",
     "text": [
      "/opt/anaconda3/lib/python3.8/site-packages/pandas/core/indexing.py:692: SettingWithCopyWarning: \n",
      "A value is trying to be set on a copy of a slice from a DataFrame\n",
      "\n",
      "See the caveats in the documentation: https://pandas.pydata.org/pandas-docs/stable/user_guide/indexing.html#returning-a-view-versus-a-copy\n",
      "  iloc._setitem_with_indexer(indexer, value, self.name)\n"
     ]
    },
    {
     "name": "stdout",
     "output_type": "stream",
     "text": [
      "keywords 1534\n",
      "Ended dataprocessing ( 1 / 12 ) 0.7460169792175293\n",
      "Ended inputmatrix computation ( 2 / 12 ) 12.76367712020874\n",
      "Ended minhashing computation ( 3 / 12 ) 12.77782917022705\n",
      "Ended signaturematrix computation ( 4 / 12 ) 262.1554958820343\n",
      "Ended splitting signaturematrix into bands ( 5 / 12 ) 262.2930850982666\n",
      "Ended creating hashvalues for bands ( 6 / 12 ) 263.950248003006\n",
      "Ended removing (non)duplicate pairs from allPairsDef ( 7 / 12 ) 264.03104519844055\n",
      "Ended computing all bucketpairs across bands ( 8 / 12 ) 264.03387212753296\n",
      "Df 543\n",
      "Ended LSH performance ( 9 / 12 ) 264.0407381057739\n",
      "Ended computing jaccard and cosine similarities ( 10 / 12 ) 264.8713159561157\n",
      "AllkeyWords: 1534\n",
      "\n",
      "perfLSH [0.8524332810047096, 0.7858176555716353, 0.8177710843373494, 0.837137116364921, 0.00048335351732636453]\n",
      "perfSim [0.8524332810047096, 0.7858176555716353, 0.8177710843373494, 0.837137116364921, 0.00048335351732636453]\n",
      "\n"
     ]
    }
   ],
   "source": [
    "print(pairs[3])\n",
    "y = fulltransformation(df, x_boot, y_boot, 700, 35, 20, 0.85)"
   ]
  },
  {
   "cell_type": "code",
   "execution_count": 37,
   "id": "384c2b90",
   "metadata": {},
   "outputs": [
    {
     "name": "stdout",
     "output_type": "stream",
     "text": [
      "(50, 14)\n",
      "keywords 1534\n",
      "Ended dataprocessing ( 1 / 12 ) 0.7632009983062744\n"
     ]
    },
    {
     "name": "stderr",
     "output_type": "stream",
     "text": [
      "/opt/anaconda3/lib/python3.8/site-packages/pandas/core/indexing.py:692: SettingWithCopyWarning: \n",
      "A value is trying to be set on a copy of a slice from a DataFrame\n",
      "\n",
      "See the caveats in the documentation: https://pandas.pydata.org/pandas-docs/stable/user_guide/indexing.html#returning-a-view-versus-a-copy\n",
      "  iloc._setitem_with_indexer(indexer, value, self.name)\n"
     ]
    },
    {
     "name": "stdout",
     "output_type": "stream",
     "text": [
      "Ended inputmatrix computation ( 2 / 12 ) 13.064847946166992\n",
      "Ended minhashing computation ( 3 / 12 ) 13.078565120697021\n",
      "Ended signaturematrix computation ( 4 / 12 ) 262.7527930736542\n",
      "Ended splitting signaturematrix into bands ( 5 / 12 ) 262.88704204559326\n",
      "Ended creating hashvalues for bands ( 6 / 12 ) 265.21844601631165\n",
      "Ended removing (non)duplicate pairs from allPairsDef ( 7 / 12 ) 265.3334410190582\n",
      "Ended computing all bucketpairs across bands ( 8 / 12 ) 265.3434360027313\n",
      "Df 662\n",
      "Ended LSH performance ( 9 / 12 ) 265.35477113723755\n",
      "Ended computing jaccard and cosine similarities ( 10 / 12 ) 266.8326680660248\n",
      "AllkeyWords: 1534\n",
      "\n",
      "perfLSH [0.5905441570026762, 0.9580318379160637, 0.7306843267108168, 0.7562144986495706, 0.000850611134886742]\n",
      "perfSim [0.5905441570026762, 0.9580318379160637, 0.7306843267108168, 0.7562144986495706, 0.000850611134886742]\n",
      "\n"
     ]
    }
   ],
   "source": [
    "print(pairs[4])\n",
    "y = fulltransformation(df, x_boot, y_boot, 700, 50, 14, 0.85)"
   ]
  },
  {
   "cell_type": "code",
   "execution_count": 38,
   "id": "e4c6f925",
   "metadata": {},
   "outputs": [
    {
     "name": "stdout",
     "output_type": "stream",
     "text": [
      "(100, 7)\n",
      "keywords 1534\n",
      "Ended dataprocessing ( 1 / 12 ) 0.7416110038757324\n"
     ]
    },
    {
     "name": "stderr",
     "output_type": "stream",
     "text": [
      "/opt/anaconda3/lib/python3.8/site-packages/pandas/core/indexing.py:692: SettingWithCopyWarning: \n",
      "A value is trying to be set on a copy of a slice from a DataFrame\n",
      "\n",
      "See the caveats in the documentation: https://pandas.pydata.org/pandas-docs/stable/user_guide/indexing.html#returning-a-view-versus-a-copy\n",
      "  iloc._setitem_with_indexer(indexer, value, self.name)\n"
     ]
    },
    {
     "name": "stdout",
     "output_type": "stream",
     "text": [
      "Ended inputmatrix computation ( 2 / 12 ) 12.99350905418396\n",
      "Ended minhashing computation ( 3 / 12 ) 13.00746202468872\n",
      "Ended signaturematrix computation ( 4 / 12 ) 263.6229290962219\n",
      "Ended splitting signaturematrix into bands ( 5 / 12 ) 263.762247800827\n",
      "Ended creating hashvalues for bands ( 6 / 12 ) 268.21412086486816\n",
      "Ended removing (non)duplicate pairs from allPairsDef ( 7 / 12 ) 268.45466685295105\n",
      "Ended computing all bucketpairs across bands ( 8 / 12 ) 271.0447299480438\n",
      "Df 3541\n",
      "Ended LSH performance ( 9 / 12 ) 271.18752884864807\n",
      "Ended computing jaccard and cosine similarities ( 10 / 12 ) 291.8862090110779\n",
      "AllkeyWords: 1534\n",
      "\n",
      "perfLSH [0.2217560120240481, 5.124457308248915, 0.425115553154451, 0.5179474679231212, 0.01211646619257047]\n",
      "perfSim [0.2217560120240481, 5.124457308248915, 0.425115553154451, 0.5179474679231212, 0.01211646619257047]\n",
      "\n"
     ]
    }
   ],
   "source": [
    "print(pairs[5])\n",
    "y = fulltransformation(df, x_boot, y_boot, 700, 100, 7, 0.85)"
   ]
  },
  {
   "cell_type": "code",
   "execution_count": 39,
   "id": "7ea046fc",
   "metadata": {},
   "outputs": [
    {
     "name": "stdout",
     "output_type": "stream",
     "text": [
      "(140, 4)\n"
     ]
    },
    {
     "name": "stderr",
     "output_type": "stream",
     "text": [
      "/opt/anaconda3/lib/python3.8/site-packages/pandas/core/indexing.py:692: SettingWithCopyWarning: \n",
      "A value is trying to be set on a copy of a slice from a DataFrame\n",
      "\n",
      "See the caveats in the documentation: https://pandas.pydata.org/pandas-docs/stable/user_guide/indexing.html#returning-a-view-versus-a-copy\n",
      "  iloc._setitem_with_indexer(indexer, value, self.name)\n"
     ]
    },
    {
     "name": "stdout",
     "output_type": "stream",
     "text": [
      "keywords 1534\n",
      "Ended dataprocessing ( 1 / 12 ) 0.7564749717712402\n",
      "Ended inputmatrix computation ( 2 / 12 ) 12.943886756896973\n",
      "Ended minhashing computation ( 3 / 12 ) 12.957985877990723\n",
      "Ended signaturematrix computation ( 4 / 12 ) 263.501101732254\n",
      "Ended splitting signaturematrix into bands ( 5 / 12 ) 263.64146900177\n",
      "Ended creating hashvalues for bands ( 6 / 12 ) 269.78521609306335\n",
      "Ended removing (non)duplicate pairs from allPairsDef ( 7 / 12 ) 270.2292790412903\n",
      "Ended computing all bucketpairs across bands ( 8 / 12 ) 355.3272457122803\n",
      "Df 10871\n",
      "Ended LSH performance ( 9 / 12 ) 356.1198818683624\n",
      "Ended computing jaccard and cosine similarities ( 10 / 12 ) 473.296835899353\n",
      "AllkeyWords: 1534\n",
      "\n",
      "perfLSH [0.12052240047007173, 15.732272069464544, 0.23921223456925952, 0.3721983065876935, 0.06844270629406712]\n",
      "perfSim [0.12052240047007173, 15.732272069464544, 0.23921223456925952, 0.3721983065876935, 0.06844270629406712]\n",
      "\n"
     ]
    }
   ],
   "source": [
    "print(pairs[6])\n",
    "y = fulltransformation(df, x_boot, y_boot, 700, 140, 5, 0.85)"
   ]
  },
  {
   "cell_type": "code",
   "execution_count": 40,
   "id": "53abcd83",
   "metadata": {},
   "outputs": [
    {
     "name": "stdout",
     "output_type": "stream",
     "text": [
      "(175, 4)\n",
      "keywords 1534\n",
      "Ended dataprocessing ( 1 / 12 ) 0.7903280258178711\n"
     ]
    },
    {
     "name": "stderr",
     "output_type": "stream",
     "text": [
      "/opt/anaconda3/lib/python3.8/site-packages/pandas/core/indexing.py:692: SettingWithCopyWarning: \n",
      "A value is trying to be set on a copy of a slice from a DataFrame\n",
      "\n",
      "See the caveats in the documentation: https://pandas.pydata.org/pandas-docs/stable/user_guide/indexing.html#returning-a-view-versus-a-copy\n",
      "  iloc._setitem_with_indexer(indexer, value, self.name)\n"
     ]
    },
    {
     "name": "stdout",
     "output_type": "stream",
     "text": [
      "Ended inputmatrix computation ( 2 / 12 ) 13.048805236816406\n",
      "Ended minhashing computation ( 3 / 12 ) 13.062582015991211\n",
      "Ended signaturematrix computation ( 4 / 12 ) 264.1247169971466\n",
      "Ended splitting signaturematrix into bands ( 5 / 12 ) 264.26188802719116\n",
      "Ended creating hashvalues for bands ( 6 / 12 ) 271.86243295669556\n",
      "Ended removing (non)duplicate pairs from allPairsDef ( 7 / 12 ) 272.50272011756897\n",
      "Ended computing all bucketpairs across bands ( 8 / 12 ) 1387.2159922122955\n",
      "Df 23232\n",
      "Ended LSH performance ( 9 / 12 ) 1390.0168220996857\n",
      "Ended computing jaccard and cosine similarities ( 10 / 12 ) 1807.9947080612183\n",
      "AllkeyWords: 1534\n",
      "\n",
      "perfLSH [0.07284265710146927, 33.62083936324168, 0.1453703558858037, 0.274941620352113, 0.24200607644421782]\n",
      "perfSim [0.07284265710146927, 33.62083936324168, 0.1453703558858037, 0.274941620352113, 0.24200607644421782]\n",
      "\n"
     ]
    }
   ],
   "source": [
    "print(pairs[7]) #hier\n",
    "y = fulltransformation(df, x_boot, y_boot, 700, 175, 4, 0.85)"
   ]
  },
  {
   "cell_type": "markdown",
   "id": "6fa47864",
   "metadata": {},
   "source": [
    "## Bootstrapping & Results"
   ]
  },
  {
   "cell_type": "code",
   "execution_count": 42,
   "id": "d9907020",
   "metadata": {},
   "outputs": [
    {
     "name": "stdout",
     "output_type": "stream",
     "text": [
      "keywords 1534\n",
      "Ended dataprocessing ( 1 / 12 ) 0.7352092266082764\n",
      "Ended inputmatrix computation ( 2 / 12 ) 12.780055046081543\n",
      "Ended minhashing computation ( 3 / 12 ) 12.7938392162323\n",
      "Ended signaturematrix computation ( 4 / 12 ) 260.24326515197754\n",
      "Ended splitting signaturematrix into bands ( 5 / 12 ) 260.3764491081238\n",
      "Ended creating hashvalues for bands ( 6 / 12 ) 260.5764310359955\n",
      "Ended removing (non)duplicate pairs from allPairsDef ( 7 / 12 ) 260.5790021419525\n",
      "Ended computing all bucketpairs across bands ( 8 / 12 ) 260.58026814460754\n",
      "Df 462\n",
      "Ended LSH performance ( 9 / 12 ) 260.5861990451813\n",
      "Ended computing jaccard and cosine similarities ( 10 / 12 ) 261.2288610935211\n",
      "AllkeyWords: 1534\n",
      "\n",
      "perfLSH [0.927710843373494, 0.6685962373371924, 0.7771236333052984, 1.0, 0.00037788077178733053]\n",
      "perfSim [0.927710843373494, 0.6685962373371924, 0.7771236333052984, 1.0, 0.00037788077178733053]\n",
      "\n"
     ]
    },
    {
     "name": "stderr",
     "output_type": "stream",
     "text": [
      "/opt/anaconda3/lib/python3.8/site-packages/pandas/core/indexing.py:692: SettingWithCopyWarning: \n",
      "A value is trying to be set on a copy of a slice from a DataFrame\n",
      "\n",
      "See the caveats in the documentation: https://pandas.pydata.org/pandas-docs/stable/user_guide/indexing.html#returning-a-view-versus-a-copy\n",
      "  iloc._setitem_with_indexer(indexer, value, self.name)\n"
     ]
    },
    {
     "name": "stdout",
     "output_type": "stream",
     "text": [
      "keywords 1534\n",
      "Ended dataprocessing ( 1 / 12 ) 0.7229828834533691\n",
      "Ended inputmatrix computation ( 2 / 12 ) 12.63611912727356\n",
      "Ended minhashing computation ( 3 / 12 ) 12.64992904663086\n",
      "Ended signaturematrix computation ( 4 / 12 ) 261.97939896583557\n",
      "Ended splitting signaturematrix into bands ( 5 / 12 ) 262.1134788990021\n",
      "Ended creating hashvalues for bands ( 6 / 12 ) 262.3152298927307\n",
      "Ended removing (non)duplicate pairs from allPairsDef ( 7 / 12 ) 262.3179130554199\n",
      "Ended computing all bucketpairs across bands ( 8 / 12 ) 262.3194010257721\n",
      "Df 503\n",
      "Ended LSH performance ( 9 / 12 ) 262.3255469799042\n",
      "Ended computing jaccard and cosine similarities ( 10 / 12 ) 263.0024981498718\n",
      "AllkeyWords: 1534\n",
      "\n",
      "perfLSH [0.9748062015503876, 0.7279305354558611, 0.8334714167357083, 1.0, 0.0003915391129362702]\n",
      "perfSim [0.9748062015503876, 0.7279305354558611, 0.8334714167357083, 1.0, 0.0003915391129362702]\n",
      "\n"
     ]
    },
    {
     "name": "stderr",
     "output_type": "stream",
     "text": [
      "/opt/anaconda3/lib/python3.8/site-packages/pandas/core/indexing.py:692: SettingWithCopyWarning: \n",
      "A value is trying to be set on a copy of a slice from a DataFrame\n",
      "\n",
      "See the caveats in the documentation: https://pandas.pydata.org/pandas-docs/stable/user_guide/indexing.html#returning-a-view-versus-a-copy\n",
      "  iloc._setitem_with_indexer(indexer, value, self.name)\n"
     ]
    },
    {
     "name": "stdout",
     "output_type": "stream",
     "text": [
      "keywords 1534\n",
      "Ended dataprocessing ( 1 / 12 ) 0.7257299423217773\n",
      "Ended inputmatrix computation ( 2 / 12 ) 12.887535095214844\n",
      "Ended minhashing computation ( 3 / 12 ) 12.901244878768921\n",
      "Ended signaturematrix computation ( 4 / 12 ) 264.686527967453\n",
      "Ended splitting signaturematrix into bands ( 5 / 12 ) 264.8279390335083\n",
      "Ended creating hashvalues for bands ( 6 / 12 ) 265.02992701530457\n",
      "Ended removing (non)duplicate pairs from allPairsDef ( 7 / 12 ) 265.0323340892792\n",
      "Ended computing all bucketpairs across bands ( 8 / 12 ) 265.0336949825287\n",
      "Df 495\n",
      "Ended LSH performance ( 9 / 12 ) 265.0398099422455\n",
      "Ended computing jaccard and cosine similarities ( 10 / 12 ) 265.71443605422974\n",
      "AllkeyWords: 1534\n",
      "\n",
      "perfLSH [0.9724950884086444, 0.7163531114327062, 0.8249999999999998, 1.0, 0.00038622753582279363]\n",
      "perfSim [0.9724950884086444, 0.7163531114327062, 0.8249999999999998, 1.0, 0.00038622753582279363]\n",
      "\n"
     ]
    },
    {
     "name": "stderr",
     "output_type": "stream",
     "text": [
      "/opt/anaconda3/lib/python3.8/site-packages/pandas/core/indexing.py:692: SettingWithCopyWarning: \n",
      "A value is trying to be set on a copy of a slice from a DataFrame\n",
      "\n",
      "See the caveats in the documentation: https://pandas.pydata.org/pandas-docs/stable/user_guide/indexing.html#returning-a-view-versus-a-copy\n",
      "  iloc._setitem_with_indexer(indexer, value, self.name)\n"
     ]
    },
    {
     "name": "stdout",
     "output_type": "stream",
     "text": [
      "keywords 1534\n",
      "Ended dataprocessing ( 1 / 12 ) 0.7311990261077881\n",
      "Ended inputmatrix computation ( 2 / 12 ) 12.922935962677002\n",
      "Ended minhashing computation ( 3 / 12 ) 12.936824083328247\n",
      "Ended signaturematrix computation ( 4 / 12 ) 552.5858409404755\n",
      "Ended splitting signaturematrix into bands ( 5 / 12 ) 552.7168278694153\n",
      "Ended creating hashvalues for bands ( 6 / 12 ) 552.9144561290741\n",
      "Ended removing (non)duplicate pairs from allPairsDef ( 7 / 12 ) 552.9173188209534\n",
      "Ended computing all bucketpairs across bands ( 8 / 12 ) 552.9186239242554\n",
      "Df 463\n",
      "Ended LSH performance ( 9 / 12 ) 552.9244101047516\n",
      "Ended computing jaccard and cosine similarities ( 10 / 12 ) 553.5620169639587\n",
      "AllkeyWords: 1534\n",
      "\n",
      "perfLSH [0.9507186858316222, 0.6700434153400868, 0.7860780984719864, 1.0, 0.0003695340077518674]\n",
      "perfSim [0.9507186858316222, 0.6700434153400868, 0.7860780984719864, 1.0, 0.0003695340077518674]\n",
      "\n"
     ]
    },
    {
     "name": "stderr",
     "output_type": "stream",
     "text": [
      "/opt/anaconda3/lib/python3.8/site-packages/pandas/core/indexing.py:692: SettingWithCopyWarning: \n",
      "A value is trying to be set on a copy of a slice from a DataFrame\n",
      "\n",
      "See the caveats in the documentation: https://pandas.pydata.org/pandas-docs/stable/user_guide/indexing.html#returning-a-view-versus-a-copy\n",
      "  iloc._setitem_with_indexer(indexer, value, self.name)\n"
     ]
    },
    {
     "name": "stdout",
     "output_type": "stream",
     "text": [
      "keywords 1534\n",
      "Ended dataprocessing ( 1 / 12 ) 0.7186827659606934\n",
      "Ended inputmatrix computation ( 2 / 12 ) 12.599096059799194\n",
      "Ended minhashing computation ( 3 / 12 ) 12.612716913223267\n",
      "Ended signaturematrix computation ( 4 / 12 ) 261.9799768924713\n",
      "Ended splitting signaturematrix into bands ( 5 / 12 ) 262.1113567352295\n",
      "Ended creating hashvalues for bands ( 6 / 12 ) 262.312775850296\n",
      "Ended removing (non)duplicate pairs from allPairsDef ( 7 / 12 ) 262.3153247833252\n",
      "Ended computing all bucketpairs across bands ( 8 / 12 ) 262.3169746398926\n",
      "Df 501\n",
      "Ended LSH performance ( 9 / 12 ) 262.3230519294739\n",
      "Ended computing jaccard and cosine similarities ( 10 / 12 ) 263.004243850708\n",
      "AllkeyWords: 1534\n",
      "\n",
      "perfLSH [0.9690522243713733, 0.7250361794500724, 0.8294701986754967, 1.0, 0.00039229790966676683]\n",
      "perfSim [0.9690522243713733, 0.7250361794500724, 0.8294701986754967, 1.0, 0.00039229790966676683]\n",
      "\n"
     ]
    }
   ],
   "source": [
    "for i in range(numBootstrap):\n",
    "    bootdata = resample(df, n_samples = sizeBootstrap)\n",
    "    x_boot = (bootdata[['shop', 'url', 'featuresMap', 'title']])\n",
    "    y_boot = (bootdata['modelID'])\n",
    "    fulltransformation(df, x_boot, y_boot, 700, 1, 700, 0.85)"
   ]
  },
  {
   "cell_type": "code",
   "execution_count": 66,
   "id": "35e5a634",
   "metadata": {},
   "outputs": [
    {
     "name": "stdout",
     "output_type": "stream",
     "text": [
      "PQstar1, PCstar1, F1star1, fracOfCompstar, PQ1, PC1, F11, fracOfComp1\n"
     ]
    },
    {
     "data": {
      "text/plain": [
       "(0.9589566087071043,\n",
       " 0.7015918958031838,\n",
       " 0.8102286694376979,\n",
       " 0.0003834958675930057,\n",
       " 0.9589566087071043,\n",
       " 0.7015918958031838,\n",
       " 0.8102286694376979,\n",
       " 0.0003834958675930057)"
      ]
     },
     "execution_count": 66,
     "metadata": {},
     "output_type": "execute_result"
    }
   ],
   "source": [
    "output1LSH = [0.927710843373494, 0.6685962373371924, 0.7771236333052984, 1.0, 0.00037788077178733053]\n",
    "output1 = [0.927710843373494, 0.6685962373371924, 0.7771236333052984, 1.0, 0.00037788077178733053]\n",
    "output2LSH = [0.9748062015503876, 0.7279305354558611, 0.8334714167357083, 1.0, 0.0003915391129362702]\n",
    "output2 = [0.9748062015503876, 0.7279305354558611, 0.8334714167357083, 1.0, 0.0003915391129362702]\n",
    "output3LSH = [0.9724950884086444, 0.7163531114327062, 0.8249999999999998, 1.0, 0.00038622753582279363]\n",
    "output3 = [0.9724950884086444, 0.7163531114327062, 0.8249999999999998, 1.0, 0.00038622753582279363]\n",
    "output4LSH = [0.9507186858316222, 0.6700434153400868, 0.7860780984719864, 1.0, 0.0003695340077518674]\n",
    "output4 = [0.9507186858316222, 0.6700434153400868, 0.7860780984719864, 1.0, 0.0003695340077518674]\n",
    "output5LSH = [0.9690522243713733, 0.7250361794500724, 0.8294701986754967, 1.0, 0.00039229790966676683]\n",
    "output5 = [0.9690522243713733, 0.7250361794500724, 0.8294701986754967, 1.0, 0.00039229790966676683]\n",
    "bootEval()"
   ]
  },
  {
   "cell_type": "code",
   "execution_count": 43,
   "id": "a313d022",
   "metadata": {},
   "outputs": [
    {
     "name": "stdout",
     "output_type": "stream",
     "text": [
      "keywords"
     ]
    },
    {
     "name": "stderr",
     "output_type": "stream",
     "text": [
      "/opt/anaconda3/lib/python3.8/site-packages/pandas/core/indexing.py:692: SettingWithCopyWarning: \n",
      "A value is trying to be set on a copy of a slice from a DataFrame\n",
      "\n",
      "See the caveats in the documentation: https://pandas.pydata.org/pandas-docs/stable/user_guide/indexing.html#returning-a-view-versus-a-copy\n",
      "  iloc._setitem_with_indexer(indexer, value, self.name)\n"
     ]
    },
    {
     "name": "stdout",
     "output_type": "stream",
     "text": [
      " 1534\n",
      "Ended dataprocessing ( 1 / 12 ) 0.7648451328277588\n",
      "Ended inputmatrix computation ( 2 / 12 ) 13.01268720626831\n",
      "Ended minhashing computation ( 3 / 12 ) 13.026525974273682\n",
      "Ended signaturematrix computation ( 4 / 12 ) 266.88129687309265\n",
      "Ended splitting signaturematrix into bands ( 5 / 12 ) 267.01946806907654\n",
      "Ended creating hashvalues for bands ( 6 / 12 ) 267.80356311798096\n",
      "Ended removing (non)duplicate pairs from allPairsDef ( 7 / 12 ) 267.8342649936676\n",
      "Ended computing all bucketpairs across bands ( 8 / 12 ) 267.8364260196686\n",
      "Df 545\n",
      "Ended LSH performance ( 9 / 12 ) 267.8429970741272\n",
      "Ended computing jaccard and cosine similarities ( 10 / 12 ) 268.59824419021606\n",
      "AllkeyWords: 1534\n",
      "\n",
      "perfLSH [0.9511343804537522, 0.788712011577424, 0.8623417721518987, 0.9485875913936671, 0.0004347905265745791]\n",
      "perfSim [0.9511343804537522, 0.788712011577424, 0.8623417721518987, 0.9485875913936671, 0.0004347905265745791]\n",
      "\n"
     ]
    },
    {
     "name": "stderr",
     "output_type": "stream",
     "text": [
      "/opt/anaconda3/lib/python3.8/site-packages/pandas/core/indexing.py:692: SettingWithCopyWarning: \n",
      "A value is trying to be set on a copy of a slice from a DataFrame\n",
      "\n",
      "See the caveats in the documentation: https://pandas.pydata.org/pandas-docs/stable/user_guide/indexing.html#returning-a-view-versus-a-copy\n",
      "  iloc._setitem_with_indexer(indexer, value, self.name)\n"
     ]
    },
    {
     "name": "stdout",
     "output_type": "stream",
     "text": [
      "keywords 1534\n",
      "Ended dataprocessing ( 1 / 12 ) 0.7472569942474365\n",
      "Ended inputmatrix computation ( 2 / 12 ) 13.001974105834961\n",
      "Ended minhashing computation ( 3 / 12 ) 13.016249895095825\n",
      "Ended signaturematrix computation ( 4 / 12 ) 266.30195212364197\n",
      "Ended splitting signaturematrix into bands ( 5 / 12 ) 266.4368460178375\n",
      "Ended creating hashvalues for bands ( 6 / 12 ) 267.22559809684753\n",
      "Ended removing (non)duplicate pairs from allPairsDef ( 7 / 12 ) 267.25871896743774\n",
      "Ended computing all bucketpairs across bands ( 8 / 12 ) 267.2604761123657\n",
      "Df 495\n",
      "Ended LSH performance ( 9 / 12 ) 267.2666070461273\n",
      "Ended computing jaccard and cosine similarities ( 10 / 12 ) 267.97993516921997\n",
      "AllkeyWords: 1534\n",
      "\n",
      "perfLSH [0.9149722735674677, 0.7163531114327062, 0.8035714285714285, 0.9485875913936671, 0.00041050903119868636]\n",
      "perfSim [0.9149722735674677, 0.7163531114327062, 0.8035714285714285, 0.9485875913936671, 0.00041050903119868636]\n",
      "\n"
     ]
    },
    {
     "name": "stderr",
     "output_type": "stream",
     "text": [
      "/opt/anaconda3/lib/python3.8/site-packages/pandas/core/indexing.py:692: SettingWithCopyWarning: \n",
      "A value is trying to be set on a copy of a slice from a DataFrame\n",
      "\n",
      "See the caveats in the documentation: https://pandas.pydata.org/pandas-docs/stable/user_guide/indexing.html#returning-a-view-versus-a-copy\n",
      "  iloc._setitem_with_indexer(indexer, value, self.name)\n"
     ]
    },
    {
     "name": "stdout",
     "output_type": "stream",
     "text": [
      "keywords 1534\n",
      "Ended dataprocessing ( 1 / 12 ) 0.7442660331726074\n",
      "Ended inputmatrix computation ( 2 / 12 ) 13.091164112091064\n",
      "Ended minhashing computation ( 3 / 12 ) 13.105353116989136\n",
      "Ended signaturematrix computation ( 4 / 12 ) 264.62706112861633\n",
      "Ended splitting signaturematrix into bands ( 5 / 12 ) 264.7639629840851\n",
      "Ended creating hashvalues for bands ( 6 / 12 ) 265.547404050827\n",
      "Ended removing (non)duplicate pairs from allPairsDef ( 7 / 12 ) 265.5812711715698\n",
      "Ended computing all bucketpairs across bands ( 8 / 12 ) 265.582905292511\n",
      "Df 495\n",
      "Ended LSH performance ( 9 / 12 ) 265.5890052318573\n",
      "Ended computing jaccard and cosine similarities ( 10 / 12 ) 266.2823429107666\n",
      "AllkeyWords: 1534\n",
      "\n",
      "perfLSH [0.9464627151051626, 0.7163531114327062, 0.8154859967051071, 0.9485875913936671, 0.0003968506900497467]\n",
      "perfSim [0.9464627151051626, 0.7163531114327062, 0.8154859967051071, 0.9485875913936671, 0.0003968506900497467]\n",
      "\n"
     ]
    },
    {
     "name": "stderr",
     "output_type": "stream",
     "text": [
      "/opt/anaconda3/lib/python3.8/site-packages/pandas/core/indexing.py:692: SettingWithCopyWarning: \n",
      "A value is trying to be set on a copy of a slice from a DataFrame\n",
      "\n",
      "See the caveats in the documentation: https://pandas.pydata.org/pandas-docs/stable/user_guide/indexing.html#returning-a-view-versus-a-copy\n",
      "  iloc._setitem_with_indexer(indexer, value, self.name)\n"
     ]
    },
    {
     "name": "stdout",
     "output_type": "stream",
     "text": [
      "keywords 1534\n",
      "Ended dataprocessing ( 1 / 12 ) 0.7687327861785889\n",
      "Ended inputmatrix computation ( 2 / 12 ) 13.093514919281006\n",
      "Ended minhashing computation ( 3 / 12 ) 13.107632875442505\n",
      "Ended signaturematrix computation ( 4 / 12 ) 266.42283487319946\n",
      "Ended splitting signaturematrix into bands ( 5 / 12 ) 266.55799293518066\n",
      "Ended creating hashvalues for bands ( 6 / 12 ) 267.35168409347534\n",
      "Ended removing (non)duplicate pairs from allPairsDef ( 7 / 12 ) 267.38683795928955\n",
      "Ended computing all bucketpairs across bands ( 8 / 12 ) 267.3882009983063\n",
      "Df 473\n",
      "Ended LSH performance ( 9 / 12 ) 267.3940169811249\n",
      "Ended computing jaccard and cosine similarities ( 10 / 12 ) 268.04604387283325\n",
      "AllkeyWords: 1534\n",
      "\n",
      "perfLSH [0.9574898785425101, 0.6845151953690304, 0.7983122362869197, 0.9485875913936671, 0.00037484558486534393]\n",
      "perfSim [0.9574898785425101, 0.6845151953690304, 0.7983122362869197, 0.9485875913936671, 0.00037484558486534393]\n",
      "\n"
     ]
    },
    {
     "name": "stderr",
     "output_type": "stream",
     "text": [
      "/opt/anaconda3/lib/python3.8/site-packages/pandas/core/indexing.py:692: SettingWithCopyWarning: \n",
      "A value is trying to be set on a copy of a slice from a DataFrame\n",
      "\n",
      "See the caveats in the documentation: https://pandas.pydata.org/pandas-docs/stable/user_guide/indexing.html#returning-a-view-versus-a-copy\n",
      "  iloc._setitem_with_indexer(indexer, value, self.name)\n"
     ]
    },
    {
     "name": "stdout",
     "output_type": "stream",
     "text": [
      "keywords 1534\n",
      "Ended dataprocessing ( 1 / 12 ) 0.7448787689208984\n",
      "Ended inputmatrix computation ( 2 / 12 ) 13.117970943450928\n",
      "Ended minhashing computation ( 3 / 12 ) 13.13218879699707\n",
      "Ended signaturematrix computation ( 4 / 12 ) 265.1342577934265\n",
      "Ended splitting signaturematrix into bands ( 5 / 12 ) 265.26959800720215\n",
      "Ended creating hashvalues for bands ( 6 / 12 ) 266.0509638786316\n",
      "Ended removing (non)duplicate pairs from allPairsDef ( 7 / 12 ) 266.0832757949829\n",
      "Ended computing all bucketpairs across bands ( 8 / 12 ) 266.0847706794739\n",
      "Df 489\n",
      "Ended LSH performance ( 9 / 12 ) 266.09070587158203\n",
      "Ended computing jaccard and cosine similarities ( 10 / 12 ) 266.76559472084045\n",
      "AllkeyWords: 1534\n",
      "\n",
      "perfLSH [0.9569471624266145, 0.7076700434153401, 0.8136439267886856, 0.9485875913936671, 0.00038774512928378696]\n",
      "perfSim [0.9569471624266145, 0.7076700434153401, 0.8136439267886856, 0.9485875913936671, 0.00038774512928378696]\n",
      "\n"
     ]
    }
   ],
   "source": [
    "for i in range(numBootstrap):\n",
    "    bootdata = resample(df, n_samples = sizeBootstrap)\n",
    "    x_boot = (bootdata[['shop', 'url', 'featuresMap', 'title']])\n",
    "    y_boot = (bootdata['modelID'])\n",
    "    fulltransformation(df, x_boot, y_boot, 700, 14, 50, 0.85)"
   ]
  },
  {
   "cell_type": "code",
   "execution_count": 67,
   "id": "77f136f8",
   "metadata": {},
   "outputs": [
    {
     "name": "stdout",
     "output_type": "stream",
     "text": [
      "PQstar1, PCstar1, F1star1, fracOfCompstar, PQ1, PC1, F11, fracOfComp1\n"
     ]
    },
    {
     "data": {
      "text/plain": [
       "(0.9454012820191015,\n",
       " 0.7227206946454414,\n",
       " 0.8186710721008079,\n",
       " 0.0004009481923944286,\n",
       " 0.9454012820191015,\n",
       " 0.7227206946454414,\n",
       " 0.8186710721008079,\n",
       " 0.0004009481923944286)"
      ]
     },
     "execution_count": 67,
     "metadata": {},
     "output_type": "execute_result"
    }
   ],
   "source": [
    "output1LSH = [0.9511343804537522, 0.788712011577424, 0.8623417721518987, 0.9485875913936671, 0.0004347905265745791]\n",
    "output1 = [0.9511343804537522, 0.788712011577424, 0.8623417721518987, 0.9485875913936671, 0.0004347905265745791]\n",
    "output2LSH = [0.9149722735674677, 0.7163531114327062, 0.8035714285714285, 0.9485875913936671, 0.00041050903119868636]\n",
    "output2 = [0.9149722735674677, 0.7163531114327062, 0.8035714285714285, 0.9485875913936671, 0.00041050903119868636]\n",
    "output3LSH = [0.9464627151051626, 0.7163531114327062, 0.8154859967051071, 0.9485875913936671, 0.0003968506900497467]\n",
    "output3 = [0.9464627151051626, 0.7163531114327062, 0.8154859967051071, 0.9485875913936671, 0.0003968506900497467]\n",
    "output4LSH = [0.9574898785425101, 0.6845151953690304, 0.7983122362869197, 0.9485875913936671, 0.00037484558486534393]\n",
    "output4 = [0.9574898785425101, 0.6845151953690304, 0.7983122362869197, 0.9485875913936671, 0.00037484558486534393]\n",
    "output5LSH = [0.9569471624266145, 0.7076700434153401, 0.8136439267886856, 0.9485875913936671, 0.00038774512928378696]\n",
    "output5 = [0.9569471624266145, 0.7076700434153401, 0.8136439267886856, 0.9485875913936671, 0.00038774512928378696]\n",
    "bootEval()"
   ]
  },
  {
   "cell_type": "code",
   "execution_count": 44,
   "id": "df68c7fd",
   "metadata": {},
   "outputs": [
    {
     "name": "stderr",
     "output_type": "stream",
     "text": [
      "/opt/anaconda3/lib/python3.8/site-packages/pandas/core/indexing.py:692: SettingWithCopyWarning: \n",
      "A value is trying to be set on a copy of a slice from a DataFrame\n",
      "\n",
      "See the caveats in the documentation: https://pandas.pydata.org/pandas-docs/stable/user_guide/indexing.html#returning-a-view-versus-a-copy\n",
      "  iloc._setitem_with_indexer(indexer, value, self.name)\n"
     ]
    },
    {
     "name": "stdout",
     "output_type": "stream",
     "text": [
      "keywords 1534\n",
      "Ended dataprocessing ( 1 / 12 ) 0.7501749992370605\n",
      "Ended inputmatrix computation ( 2 / 12 ) 12.887774229049683\n",
      "Ended minhashing computation ( 3 / 12 ) 12.901920080184937\n",
      "Ended signaturematrix computation ( 4 / 12 ) 264.83115696907043\n",
      "Ended splitting signaturematrix into bands ( 5 / 12 ) 264.9667320251465\n",
      "Ended creating hashvalues for bands ( 6 / 12 ) 266.233952999115\n",
      "Ended removing (non)duplicate pairs from allPairsDef ( 7 / 12 ) 266.29229521751404\n",
      "Ended computing all bucketpairs across bands ( 8 / 12 ) 266.29462909698486\n",
      "Df 533\n",
      "Ended LSH performance ( 9 / 12 ) 266.30127215385437\n",
      "Ended computing jaccard and cosine similarities ( 10 / 12 ) 267.0540781021118\n",
      "AllkeyWords: 1534\n",
      "\n",
      "perfLSH [0.9383802816901409, 0.7713458755426917, 0.846703733121525, 0.8914019321842713, 0.00043099654292209585]\n",
      "perfSim [0.9383802816901409, 0.7713458755426917, 0.846703733121525, 0.8914019321842713, 0.00043099654292209585]\n",
      "\n"
     ]
    },
    {
     "name": "stderr",
     "output_type": "stream",
     "text": [
      "/opt/anaconda3/lib/python3.8/site-packages/pandas/core/indexing.py:692: SettingWithCopyWarning: \n",
      "A value is trying to be set on a copy of a slice from a DataFrame\n",
      "\n",
      "See the caveats in the documentation: https://pandas.pydata.org/pandas-docs/stable/user_guide/indexing.html#returning-a-view-versus-a-copy\n",
      "  iloc._setitem_with_indexer(indexer, value, self.name)\n"
     ]
    },
    {
     "name": "stdout",
     "output_type": "stream",
     "text": [
      "keywords 1534\n",
      "Ended dataprocessing ( 1 / 12 ) 0.7431080341339111\n",
      "Ended inputmatrix computation ( 2 / 12 ) 12.948745965957642\n",
      "Ended minhashing computation ( 3 / 12 ) 12.96320104598999\n",
      "Ended signaturematrix computation ( 4 / 12 ) 265.1022701263428\n",
      "Ended splitting signaturematrix into bands ( 5 / 12 ) 265.2380893230438\n",
      "Ended creating hashvalues for bands ( 6 / 12 ) 266.5061900615692\n",
      "Ended removing (non)duplicate pairs from allPairsDef ( 7 / 12 ) 266.56602907180786\n",
      "Ended computing all bucketpairs across bands ( 8 / 12 ) 266.56759905815125\n",
      "Df 502\n",
      "Ended LSH performance ( 9 / 12 ) 266.5736529827118\n",
      "Ended computing jaccard and cosine similarities ( 10 / 12 ) 267.2602641582489\n",
      "AllkeyWords: 1534\n",
      "\n",
      "perfLSH [0.9672447013487476, 0.7264833574529667, 0.8297520661157024, 0.8914019321842713, 0.0003938155031277601]\n",
      "perfSim [0.9672447013487476, 0.7264833574529667, 0.8297520661157024, 0.8914019321842713, 0.0003938155031277601]\n",
      "\n"
     ]
    },
    {
     "name": "stderr",
     "output_type": "stream",
     "text": [
      "/opt/anaconda3/lib/python3.8/site-packages/pandas/core/indexing.py:692: SettingWithCopyWarning: \n",
      "A value is trying to be set on a copy of a slice from a DataFrame\n",
      "\n",
      "See the caveats in the documentation: https://pandas.pydata.org/pandas-docs/stable/user_guide/indexing.html#returning-a-view-versus-a-copy\n",
      "  iloc._setitem_with_indexer(indexer, value, self.name)\n"
     ]
    },
    {
     "name": "stdout",
     "output_type": "stream",
     "text": [
      "keywords 1534\n",
      "Ended dataprocessing ( 1 / 12 ) 0.7539331912994385\n",
      "Ended inputmatrix computation ( 2 / 12 ) 13.137118101119995\n",
      "Ended minhashing computation ( 3 / 12 ) 13.151209115982056\n",
      "Ended signaturematrix computation ( 4 / 12 ) 265.11750507354736\n",
      "Ended splitting signaturematrix into bands ( 5 / 12 ) 265.2524950504303\n",
      "Ended creating hashvalues for bands ( 6 / 12 ) 266.5024690628052\n",
      "Ended removing (non)duplicate pairs from allPairsDef ( 7 / 12 ) 266.56256890296936\n",
      "Ended computing all bucketpairs across bands ( 8 / 12 ) 266.56490111351013\n",
      "Df 544\n",
      "Ended LSH performance ( 9 / 12 ) 266.57147002220154\n",
      "Ended computing jaccard and cosine similarities ( 10 / 12 ) 267.35448813438416\n",
      "AllkeyWords: 1534\n",
      "\n",
      "perfLSH [0.9142857142857143, 0.7872648335745297, 0.8460342146189735, 0.8914019321842713, 0.00045148405464550534]\n",
      "perfSim [0.9142857142857143, 0.7872648335745297, 0.8460342146189735, 0.8914019321842713, 0.00045148405464550534]\n",
      "\n"
     ]
    },
    {
     "name": "stderr",
     "output_type": "stream",
     "text": [
      "/opt/anaconda3/lib/python3.8/site-packages/pandas/core/indexing.py:692: SettingWithCopyWarning: \n",
      "A value is trying to be set on a copy of a slice from a DataFrame\n",
      "\n",
      "See the caveats in the documentation: https://pandas.pydata.org/pandas-docs/stable/user_guide/indexing.html#returning-a-view-versus-a-copy\n",
      "  iloc._setitem_with_indexer(indexer, value, self.name)\n"
     ]
    },
    {
     "name": "stdout",
     "output_type": "stream",
     "text": [
      "keywords 1534\n",
      "Ended dataprocessing ( 1 / 12 ) 0.7340660095214844\n",
      "Ended inputmatrix computation ( 2 / 12 ) 12.975302934646606\n",
      "Ended minhashing computation ( 3 / 12 ) 12.98929214477539\n",
      "Ended signaturematrix computation ( 4 / 12 ) 265.1446421146393\n",
      "Ended splitting signaturematrix into bands ( 5 / 12 ) 265.2827000617981\n",
      "Ended creating hashvalues for bands ( 6 / 12 ) 266.5469009876251\n",
      "Ended removing (non)duplicate pairs from allPairsDef ( 7 / 12 ) 266.60498690605164\n",
      "Ended computing all bucketpairs across bands ( 8 / 12 ) 266.6070921421051\n",
      "Df 507\n",
      "Ended LSH performance ( 9 / 12 ) 266.6135001182556\n",
      "Ended computing jaccard and cosine similarities ( 10 / 12 ) 267.3487832546234\n",
      "AllkeyWords: 1534\n",
      "\n",
      "perfLSH [0.9354243542435424, 0.7337192474674384, 0.8223844282238442, 0.8914019321842713, 0.000411267827929183]\n",
      "perfSim [0.9354243542435424, 0.7337192474674384, 0.8223844282238442, 0.8914019321842713, 0.000411267827929183]\n",
      "\n"
     ]
    },
    {
     "name": "stderr",
     "output_type": "stream",
     "text": [
      "/opt/anaconda3/lib/python3.8/site-packages/pandas/core/indexing.py:692: SettingWithCopyWarning: \n",
      "A value is trying to be set on a copy of a slice from a DataFrame\n",
      "\n",
      "See the caveats in the documentation: https://pandas.pydata.org/pandas-docs/stable/user_guide/indexing.html#returning-a-view-versus-a-copy\n",
      "  iloc._setitem_with_indexer(indexer, value, self.name)\n"
     ]
    },
    {
     "name": "stdout",
     "output_type": "stream",
     "text": [
      "keywords 1534\n",
      "Ended dataprocessing ( 1 / 12 ) 0.7648608684539795\n",
      "Ended inputmatrix computation ( 2 / 12 ) 13.472072839736938\n",
      "Ended minhashing computation ( 3 / 12 ) 13.486523151397705\n",
      "Ended signaturematrix computation ( 4 / 12 ) 265.7596158981323\n",
      "Ended splitting signaturematrix into bands ( 5 / 12 ) 265.8946681022644\n",
      "Ended creating hashvalues for bands ( 6 / 12 ) 267.15547704696655\n",
      "Ended removing (non)duplicate pairs from allPairsDef ( 7 / 12 ) 267.21836495399475\n",
      "Ended computing all bucketpairs across bands ( 8 / 12 ) 267.22026896476746\n",
      "Df 530\n",
      "Ended LSH performance ( 9 / 12 ) 267.2266848087311\n",
      "Ended computing jaccard and cosine similarities ( 10 / 12 ) 267.96534395217896\n",
      "AllkeyWords: 1534\n",
      "\n",
      "perfLSH [0.954954954954955, 0.7670043415340086, 0.8507223113964687, 0.8914019321842713, 0.0004211321854256394]\n",
      "perfSim [0.954954954954955, 0.7670043415340086, 0.8507223113964687, 0.8914019321842713, 0.0004211321854256394]\n",
      "\n"
     ]
    }
   ],
   "source": [
    "for i in range(numBootstrap):\n",
    "    bootdata = resample(df, n_samples = sizeBootstrap)\n",
    "    x_boot = (bootdata[['shop', 'url', 'featuresMap', 'title']])\n",
    "    y_boot = (bootdata['modelID'])\n",
    "    fulltransformation(df, x_boot, y_boot, 700, 25, 28, 0.85)"
   ]
  },
  {
   "cell_type": "code",
   "execution_count": 68,
   "id": "ce179c00",
   "metadata": {},
   "outputs": [
    {
     "name": "stdout",
     "output_type": "stream",
     "text": [
      "PQstar1, PCstar1, F1star1, fracOfCompstar, PQ1, PC1, F11, fracOfComp1\n"
     ]
    },
    {
     "data": {
      "text/plain": [
       "(0.94205800130462,\n",
       " 0.757163531114327,\n",
       " 0.8391193506953029,\n",
       " 0.0004217392228100367,\n",
       " 0.94205800130462,\n",
       " 0.757163531114327,\n",
       " 0.8391193506953029,\n",
       " 0.0004217392228100367)"
      ]
     },
     "execution_count": 68,
     "metadata": {},
     "output_type": "execute_result"
    }
   ],
   "source": [
    "#b=25, r=28\n",
    "output1LSH = [0.9383802816901409, 0.7713458755426917, 0.846703733121525, 0.8914019321842713, 0.00043099654292209585]\n",
    "output1 = [0.9383802816901409, 0.7713458755426917, 0.846703733121525, 0.8914019321842713, 0.00043099654292209585]\n",
    "output2LSH = [0.9672447013487476, 0.7264833574529667, 0.8297520661157024, 0.8914019321842713, 0.0003938155031277601]\n",
    "output2 = [0.9672447013487476, 0.7264833574529667, 0.8297520661157024, 0.8914019321842713, 0.0003938155031277601]\n",
    "output3LSH = [0.9142857142857143, 0.7872648335745297, 0.8460342146189735, 0.8914019321842713, 0.00045148405464550534]\n",
    "output3 = [0.9142857142857143, 0.7872648335745297, 0.8460342146189735, 0.8914019321842713, 0.00045148405464550534]\n",
    "output4LSH = [0.9354243542435424, 0.7337192474674384, 0.8223844282238442, 0.8914019321842713, 0.000411267827929183]\n",
    "output4 = [0.9354243542435424, 0.7337192474674384, 0.8223844282238442, 0.8914019321842713, 0.000411267827929183]\n",
    "output5LSH = [0.954954954954955, 0.7670043415340086, 0.8507223113964687, 0.8914019321842713, 0.0004211321854256394]\n",
    "output5 = [0.954954954954955, 0.7670043415340086, 0.8507223113964687, 0.8914019321842713, 0.0004211321854256394]\n",
    "bootEval()"
   ]
  },
  {
   "cell_type": "code",
   "execution_count": 45,
   "id": "dbc93629",
   "metadata": {},
   "outputs": [
    {
     "name": "stderr",
     "output_type": "stream",
     "text": [
      "/opt/anaconda3/lib/python3.8/site-packages/pandas/core/indexing.py:692: SettingWithCopyWarning: \n",
      "A value is trying to be set on a copy of a slice from a DataFrame\n",
      "\n",
      "See the caveats in the documentation: https://pandas.pydata.org/pandas-docs/stable/user_guide/indexing.html#returning-a-view-versus-a-copy\n",
      "  iloc._setitem_with_indexer(indexer, value, self.name)\n"
     ]
    },
    {
     "name": "stdout",
     "output_type": "stream",
     "text": [
      "keywords 1534\n",
      "Ended dataprocessing ( 1 / 12 ) 0.7618861198425293\n",
      "Ended inputmatrix computation ( 2 / 12 ) 13.14739727973938\n",
      "Ended minhashing computation ( 3 / 12 ) 13.161278247833252\n",
      "Ended signaturematrix computation ( 4 / 12 ) 265.8831751346588\n",
      "Ended splitting signaturematrix into bands ( 5 / 12 ) 266.0199770927429\n",
      "Ended creating hashvalues for bands ( 6 / 12 ) 267.72421407699585\n",
      "Ended removing (non)duplicate pairs from allPairsDef ( 7 / 12 ) 267.8120791912079\n",
      "Ended computing all bucketpairs across bands ( 8 / 12 ) 267.8144540786743\n",
      "Df 507\n",
      "Ended LSH performance ( 9 / 12 ) 267.82131934165955\n",
      "Ended computing jaccard and cosine similarities ( 10 / 12 ) 268.60056710243225\n",
      "AllkeyWords: 1534\n",
      "\n",
      "perfLSH [0.8607809847198642, 0.7337192474674384, 0.7921874999999999, 0.837137116364921, 0.00044693127426252547]\n",
      "perfSim [0.8607809847198642, 0.7337192474674384, 0.7921874999999999, 0.837137116364921, 0.00044693127426252547]\n",
      "\n"
     ]
    },
    {
     "name": "stderr",
     "output_type": "stream",
     "text": [
      "/opt/anaconda3/lib/python3.8/site-packages/pandas/core/indexing.py:692: SettingWithCopyWarning: \n",
      "A value is trying to be set on a copy of a slice from a DataFrame\n",
      "\n",
      "See the caveats in the documentation: https://pandas.pydata.org/pandas-docs/stable/user_guide/indexing.html#returning-a-view-versus-a-copy\n",
      "  iloc._setitem_with_indexer(indexer, value, self.name)\n"
     ]
    },
    {
     "name": "stdout",
     "output_type": "stream",
     "text": [
      "keywords 1534\n",
      "Ended dataprocessing ( 1 / 12 ) 0.7481849193572998\n",
      "Ended inputmatrix computation ( 2 / 12 ) 13.002230882644653\n",
      "Ended minhashing computation ( 3 / 12 ) 13.016443967819214\n",
      "Ended signaturematrix computation ( 4 / 12 ) 265.6958408355713\n",
      "Ended splitting signaturematrix into bands ( 5 / 12 ) 265.8352270126343\n",
      "Ended creating hashvalues for bands ( 6 / 12 ) 267.5470299720764\n",
      "Ended removing (non)duplicate pairs from allPairsDef ( 7 / 12 ) 267.64105892181396\n",
      "Ended computing all bucketpairs across bands ( 8 / 12 ) 267.6436769962311\n",
      "Df 500\n",
      "Ended LSH performance ( 9 / 12 ) 267.65082597732544\n",
      "Ended computing jaccard and cosine similarities ( 10 / 12 ) 268.4916479587555\n",
      "AllkeyWords: 1534\n",
      "\n",
      "perfLSH [0.7961783439490446, 0.723589001447178, 0.7581501137225171, 0.837137116364921, 0.0004765243467518947]\n",
      "perfSim [0.7961783439490446, 0.723589001447178, 0.7581501137225171, 0.837137116364921, 0.0004765243467518947]\n",
      "\n"
     ]
    },
    {
     "name": "stderr",
     "output_type": "stream",
     "text": [
      "/opt/anaconda3/lib/python3.8/site-packages/pandas/core/indexing.py:692: SettingWithCopyWarning: \n",
      "A value is trying to be set on a copy of a slice from a DataFrame\n",
      "\n",
      "See the caveats in the documentation: https://pandas.pydata.org/pandas-docs/stable/user_guide/indexing.html#returning-a-view-versus-a-copy\n",
      "  iloc._setitem_with_indexer(indexer, value, self.name)\n"
     ]
    },
    {
     "name": "stdout",
     "output_type": "stream",
     "text": [
      "keywords 1534\n",
      "Ended dataprocessing ( 1 / 12 ) 0.7388648986816406\n",
      "Ended inputmatrix computation ( 2 / 12 ) 13.142997026443481\n",
      "Ended minhashing computation ( 3 / 12 ) 13.157078981399536\n",
      "Ended signaturematrix computation ( 4 / 12 ) 265.5349178314209\n",
      "Ended splitting signaturematrix into bands ( 5 / 12 ) 265.6702039241791\n",
      "Ended creating hashvalues for bands ( 6 / 12 ) 267.46539068222046\n",
      "Ended removing (non)duplicate pairs from allPairsDef ( 7 / 12 ) 267.5537977218628\n",
      "Ended computing all bucketpairs across bands ( 8 / 12 ) 267.5564947128296\n",
      "Df 519\n",
      "Ended LSH performance ( 9 / 12 ) 267.5634927749634\n",
      "Ended computing jaccard and cosine similarities ( 10 / 12 ) 268.3800599575043\n",
      "AllkeyWords: 1534\n",
      "\n",
      "perfLSH [0.8384491114701131, 0.7510853835021708, 0.7923664122137404, 0.837137116364921, 0.00046969517617742487]\n",
      "perfSim [0.8384491114701131, 0.7510853835021708, 0.7923664122137404, 0.837137116364921, 0.00046969517617742487]\n",
      "\n"
     ]
    },
    {
     "name": "stderr",
     "output_type": "stream",
     "text": [
      "/opt/anaconda3/lib/python3.8/site-packages/pandas/core/indexing.py:692: SettingWithCopyWarning: \n",
      "A value is trying to be set on a copy of a slice from a DataFrame\n",
      "\n",
      "See the caveats in the documentation: https://pandas.pydata.org/pandas-docs/stable/user_guide/indexing.html#returning-a-view-versus-a-copy\n",
      "  iloc._setitem_with_indexer(indexer, value, self.name)\n"
     ]
    },
    {
     "name": "stdout",
     "output_type": "stream",
     "text": [
      "keywords 1534\n",
      "Ended dataprocessing ( 1 / 12 ) 0.7524569034576416\n",
      "Ended inputmatrix computation ( 2 / 12 ) 13.131747961044312\n",
      "Ended minhashing computation ( 3 / 12 ) 13.145658731460571\n",
      "Ended signaturematrix computation ( 4 / 12 ) 265.5506649017334\n",
      "Ended splitting signaturematrix into bands ( 5 / 12 ) 265.68584179878235\n",
      "Ended creating hashvalues for bands ( 6 / 12 ) 267.4024770259857\n",
      "Ended removing (non)duplicate pairs from allPairsDef ( 7 / 12 ) 267.48718881607056\n",
      "Ended computing all bucketpairs across bands ( 8 / 12 ) 267.48978185653687\n",
      "Df 515\n",
      "Ended LSH performance ( 9 / 12 ) 267.496946811676\n",
      "Ended computing jaccard and cosine similarities ( 10 / 12 ) 268.2840418815613\n",
      "AllkeyWords: 1534\n",
      "\n",
      "perfLSH [0.8699324324324325, 0.7452966714905933, 0.8028059236165237, 0.837137116364921, 0.0004492076644540154]\n",
      "perfSim [0.8699324324324325, 0.7452966714905933, 0.8028059236165237, 0.837137116364921, 0.0004492076644540154]\n",
      "\n"
     ]
    },
    {
     "name": "stderr",
     "output_type": "stream",
     "text": [
      "/opt/anaconda3/lib/python3.8/site-packages/pandas/core/indexing.py:692: SettingWithCopyWarning: \n",
      "A value is trying to be set on a copy of a slice from a DataFrame\n",
      "\n",
      "See the caveats in the documentation: https://pandas.pydata.org/pandas-docs/stable/user_guide/indexing.html#returning-a-view-versus-a-copy\n",
      "  iloc._setitem_with_indexer(indexer, value, self.name)\n"
     ]
    },
    {
     "name": "stdout",
     "output_type": "stream",
     "text": [
      "keywords 1534\n",
      "Ended dataprocessing ( 1 / 12 ) 0.7430448532104492\n",
      "Ended inputmatrix computation ( 2 / 12 ) 13.123047828674316\n",
      "Ended minhashing computation ( 3 / 12 ) 13.137126922607422\n",
      "Ended signaturematrix computation ( 4 / 12 ) 265.78737902641296\n",
      "Ended splitting signaturematrix into bands ( 5 / 12 ) 265.9248220920563\n",
      "Ended creating hashvalues for bands ( 6 / 12 ) 267.60524702072144\n",
      "Ended removing (non)duplicate pairs from allPairsDef ( 7 / 12 ) 267.68873286247253\n",
      "Ended computing all bucketpairs across bands ( 8 / 12 ) 267.69096398353577\n",
      "Df 499\n",
      "Ended LSH performance ( 9 / 12 ) 267.69775795936584\n",
      "Ended computing jaccard and cosine similarities ( 10 / 12 ) 268.49877882003784\n",
      "AllkeyWords: 1534\n",
      "\n",
      "perfLSH [0.8207236842105263, 0.7221418234442837, 0.7682832948421863, 0.837137116364921, 0.00046134841214196177]\n",
      "perfSim [0.8207236842105263, 0.7221418234442837, 0.7682832948421863, 0.837137116364921, 0.00046134841214196177]\n",
      "\n"
     ]
    }
   ],
   "source": [
    "for i in range(numBootstrap):\n",
    "    bootdata = resample(df, n_samples = sizeBootstrap)\n",
    "    x_boot = (bootdata[['shop', 'url', 'featuresMap', 'title']])\n",
    "    y_boot = (bootdata['modelID'])\n",
    "    fulltransformation(df, x_boot, y_boot, 700, 35, 20, 0.85)"
   ]
  },
  {
   "cell_type": "code",
   "execution_count": 69,
   "id": "5cdb7137",
   "metadata": {},
   "outputs": [
    {
     "name": "stdout",
     "output_type": "stream",
     "text": [
      "PQstar1, PCstar1, F1star1, fracOfCompstar, PQ1, PC1, F11, fracOfComp1\n"
     ]
    },
    {
     "data": {
      "text/plain": [
       "(0.8372129113563961,\n",
       " 0.7351664254703327,\n",
       " 0.7827586488789935,\n",
       " 0.0004607413747575644,\n",
       " 0.8372129113563961,\n",
       " 0.7351664254703327,\n",
       " 0.7827586488789935,\n",
       " 0.0004607413747575644)"
      ]
     },
     "execution_count": 69,
     "metadata": {},
     "output_type": "execute_result"
    }
   ],
   "source": [
    "#b = 35, r=20\n",
    "output1LSH = [0.8607809847198642, 0.7337192474674384, 0.7921874999999999, 0.837137116364921, 0.00044693127426252547]\n",
    "output1 = [0.8607809847198642, 0.7337192474674384, 0.7921874999999999, 0.837137116364921, 0.00044693127426252547]\n",
    "output2LSH = [0.7961783439490446, 0.723589001447178, 0.7581501137225171, 0.837137116364921, 0.0004765243467518947]\n",
    "output2 = [0.7961783439490446, 0.723589001447178, 0.7581501137225171, 0.837137116364921, 0.0004765243467518947]\n",
    "output3LSH = [0.8384491114701131, 0.7510853835021708, 0.7923664122137404, 0.837137116364921, 0.00046969517617742487]\n",
    "output3 = [0.8384491114701131, 0.7510853835021708, 0.7923664122137404, 0.837137116364921, 0.00046969517617742487]\n",
    "output4LSH = [0.8699324324324325, 0.7452966714905933, 0.8028059236165237, 0.837137116364921, 0.0004492076644540154]\n",
    "output4 = [0.8699324324324325, 0.7452966714905933, 0.8028059236165237, 0.837137116364921, 0.0004492076644540154]\n",
    "output5LSH = [0.8207236842105263, 0.7221418234442837, 0.7682832948421863, 0.837137116364921, 0.00046134841214196177]\n",
    "output5 = [0.8207236842105263, 0.7221418234442837, 0.7682832948421863, 0.837137116364921, 0.00046134841214196177]\n",
    "bootEval()"
   ]
  },
  {
   "cell_type": "code",
   "execution_count": 46,
   "id": "dece596d",
   "metadata": {},
   "outputs": [
    {
     "name": "stderr",
     "output_type": "stream",
     "text": [
      "/opt/anaconda3/lib/python3.8/site-packages/pandas/core/indexing.py:692: SettingWithCopyWarning: \n",
      "A value is trying to be set on a copy of a slice from a DataFrame\n",
      "\n",
      "See the caveats in the documentation: https://pandas.pydata.org/pandas-docs/stable/user_guide/indexing.html#returning-a-view-versus-a-copy\n",
      "  iloc._setitem_with_indexer(indexer, value, self.name)\n"
     ]
    },
    {
     "name": "stdout",
     "output_type": "stream",
     "text": [
      "keywords 1534\n",
      "Ended dataprocessing ( 1 / 12 ) 0.8154518604278564\n",
      "Ended inputmatrix computation ( 2 / 12 ) 13.071761846542358\n",
      "Ended minhashing computation ( 3 / 12 ) 13.085811853408813\n",
      "Ended signaturematrix computation ( 4 / 12 ) 266.85640811920166\n",
      "Ended splitting signaturematrix into bands ( 5 / 12 ) 266.99701499938965\n",
      "Ended creating hashvalues for bands ( 6 / 12 ) 269.3390588760376\n",
      "Ended removing (non)duplicate pairs from allPairsDef ( 7 / 12 ) 269.4596450328827\n",
      "Ended computing all bucketpairs across bands ( 8 / 12 ) 269.4710819721222\n",
      "Df 741\n",
      "Ended LSH performance ( 9 / 12 ) 269.48345708847046\n",
      "Ended computing jaccard and cosine similarities ( 10 / 12 ) 271.0643410682678\n",
      "AllkeyWords: 1534\n",
      "\n",
      "perfLSH [0.6206030150753769, 1.0723589001447178, 0.786206896551724, 0.7562144986495706, 0.0009060032962129972]\n",
      "perfSim [0.6206030150753769, 1.0723589001447178, 0.786206896551724, 0.7562144986495706, 0.0009060032962129972]\n",
      "\n"
     ]
    },
    {
     "name": "stderr",
     "output_type": "stream",
     "text": [
      "/opt/anaconda3/lib/python3.8/site-packages/pandas/core/indexing.py:692: SettingWithCopyWarning: \n",
      "A value is trying to be set on a copy of a slice from a DataFrame\n",
      "\n",
      "See the caveats in the documentation: https://pandas.pydata.org/pandas-docs/stable/user_guide/indexing.html#returning-a-view-versus-a-copy\n",
      "  iloc._setitem_with_indexer(indexer, value, self.name)\n"
     ]
    },
    {
     "name": "stdout",
     "output_type": "stream",
     "text": [
      "keywords 1534\n",
      "Ended dataprocessing ( 1 / 12 ) 0.7548668384552002\n",
      "Ended inputmatrix computation ( 2 / 12 ) 13.041715860366821\n",
      "Ended minhashing computation ( 3 / 12 ) 13.055708885192871\n",
      "Ended signaturematrix computation ( 4 / 12 ) 265.08245491981506\n",
      "Ended splitting signaturematrix into bands ( 5 / 12 ) 265.2186517715454\n",
      "Ended creating hashvalues for bands ( 6 / 12 ) 267.5316050052643\n",
      "Ended removing (non)duplicate pairs from allPairsDef ( 7 / 12 ) 267.6539499759674\n",
      "Ended computing all bucketpairs across bands ( 8 / 12 ) 267.66090083122253\n",
      "Df 657\n",
      "Ended LSH performance ( 9 / 12 ) 267.6711597442627\n",
      "Ended computing jaccard and cosine similarities ( 10 / 12 ) 268.9844968318939\n",
      "AllkeyWords: 1534\n",
      "\n",
      "perfLSH [0.6596385542168675, 0.9507959479015919, 0.7788974510966211, 0.7562144986495706, 0.0007557615435746611]\n",
      "perfSim [0.6596385542168675, 0.9507959479015919, 0.7788974510966211, 0.7562144986495706, 0.0007557615435746611]\n",
      "\n"
     ]
    },
    {
     "name": "stderr",
     "output_type": "stream",
     "text": [
      "/opt/anaconda3/lib/python3.8/site-packages/pandas/core/indexing.py:692: SettingWithCopyWarning: \n",
      "A value is trying to be set on a copy of a slice from a DataFrame\n",
      "\n",
      "See the caveats in the documentation: https://pandas.pydata.org/pandas-docs/stable/user_guide/indexing.html#returning-a-view-versus-a-copy\n",
      "  iloc._setitem_with_indexer(indexer, value, self.name)\n"
     ]
    },
    {
     "name": "stdout",
     "output_type": "stream",
     "text": [
      "keywords 1534\n",
      "Ended dataprocessing ( 1 / 12 ) 0.7357070446014404\n",
      "Ended inputmatrix computation ( 2 / 12 ) 12.932615995407104\n",
      "Ended minhashing computation ( 3 / 12 ) 12.94669795036316\n",
      "Ended signaturematrix computation ( 4 / 12 ) 264.27292799949646\n",
      "Ended splitting signaturematrix into bands ( 5 / 12 ) 264.41352915763855\n",
      "Ended creating hashvalues for bands ( 6 / 12 ) 266.7387058734894\n",
      "Ended removing (non)duplicate pairs from allPairsDef ( 7 / 12 ) 266.86248302459717\n",
      "Ended computing all bucketpairs across bands ( 8 / 12 ) 266.87637305259705\n",
      "Df 685\n",
      "Ended LSH performance ( 9 / 12 ) 266.8894000053406\n",
      "Ended computing jaccard and cosine similarities ( 10 / 12 ) 268.5831649303436\n",
      "AllkeyWords: 1534\n",
      "\n",
      "perfLSH [0.5301857585139319, 0.9913169319826338, 0.6908724155320223, 0.7562144986495706, 0.0009803653758016688]\n",
      "perfSim [0.5301857585139319, 0.9913169319826338, 0.6908724155320223, 0.7562144986495706, 0.0009803653758016688]\n",
      "\n"
     ]
    },
    {
     "name": "stderr",
     "output_type": "stream",
     "text": [
      "/opt/anaconda3/lib/python3.8/site-packages/pandas/core/indexing.py:692: SettingWithCopyWarning: \n",
      "A value is trying to be set on a copy of a slice from a DataFrame\n",
      "\n",
      "See the caveats in the documentation: https://pandas.pydata.org/pandas-docs/stable/user_guide/indexing.html#returning-a-view-versus-a-copy\n",
      "  iloc._setitem_with_indexer(indexer, value, self.name)\n"
     ]
    },
    {
     "name": "stdout",
     "output_type": "stream",
     "text": [
      "keywords 1534\n",
      "Ended dataprocessing ( 1 / 12 ) 0.7361681461334229\n",
      "Ended inputmatrix computation ( 2 / 12 ) 13.080013990402222\n",
      "Ended minhashing computation ( 3 / 12 ) 13.09428095817566\n",
      "Ended signaturematrix computation ( 4 / 12 ) 264.70298409461975\n",
      "Ended splitting signaturematrix into bands ( 5 / 12 ) 264.8384861946106\n",
      "Ended creating hashvalues for bands ( 6 / 12 ) 267.17562198638916\n",
      "Ended removing (non)duplicate pairs from allPairsDef ( 7 / 12 ) 267.30464696884155\n",
      "Ended computing all bucketpairs across bands ( 8 / 12 ) 267.3192720413208\n",
      "Df 716\n",
      "Ended LSH performance ( 9 / 12 ) 267.33278012275696\n",
      "Ended computing jaccard and cosine similarities ( 10 / 12 ) 269.09855604171753\n",
      "AllkeyWords: 1534\n",
      "\n",
      "perfLSH [0.5303703703703704, 1.036179450072359, 0.7016168544830965, 0.7562144986495706, 0.0010243755861704743]\n",
      "perfSim [0.5303703703703704, 1.036179450072359, 0.7016168544830965, 0.7562144986495706, 0.0010243755861704743]\n",
      "\n"
     ]
    },
    {
     "name": "stderr",
     "output_type": "stream",
     "text": [
      "/opt/anaconda3/lib/python3.8/site-packages/pandas/core/indexing.py:692: SettingWithCopyWarning: \n",
      "A value is trying to be set on a copy of a slice from a DataFrame\n",
      "\n",
      "See the caveats in the documentation: https://pandas.pydata.org/pandas-docs/stable/user_guide/indexing.html#returning-a-view-versus-a-copy\n",
      "  iloc._setitem_with_indexer(indexer, value, self.name)\n"
     ]
    },
    {
     "name": "stdout",
     "output_type": "stream",
     "text": [
      "keywords 1534\n",
      "Ended dataprocessing ( 1 / 12 ) 0.7395129203796387\n",
      "Ended inputmatrix computation ( 2 / 12 ) 13.091493129730225\n",
      "Ended minhashing computation ( 3 / 12 ) 13.105362176895142\n",
      "Ended signaturematrix computation ( 4 / 12 ) 264.71651816368103\n",
      "Ended splitting signaturematrix into bands ( 5 / 12 ) 264.8541238307953\n",
      "Ended creating hashvalues for bands ( 6 / 12 ) 267.20325207710266\n",
      "Ended removing (non)duplicate pairs from allPairsDef ( 7 / 12 ) 267.3229579925537\n",
      "Ended computing all bucketpairs across bands ( 8 / 12 ) 267.3369839191437\n",
      "Df 729\n",
      "Ended LSH performance ( 9 / 12 ) 267.3500211238861\n",
      "Ended computing jaccard and cosine similarities ( 10 / 12 ) 269.041100025177\n",
      "AllkeyWords: 1534\n",
      "\n",
      "perfLSH [0.5651162790697675, 1.0549927641099854, 0.7359919232710751, 0.7562144986495706, 0.0009788477823406755]\n",
      "perfSim [0.5651162790697675, 1.0549927641099854, 0.7359919232710751, 0.7562144986495706, 0.0009788477823406755]\n",
      "\n"
     ]
    }
   ],
   "source": [
    "for i in range(numBootstrap):\n",
    "    bootdata = resample(df, n_samples = sizeBootstrap)\n",
    "    x_boot = (bootdata[['shop', 'url', 'featuresMap', 'title']])\n",
    "    y_boot = (bootdata['modelID'])\n",
    "    fulltransformation(df, x_boot, y_boot, 700, 50, 14, 0.85)"
   ]
  },
  {
   "cell_type": "code",
   "execution_count": 70,
   "id": "41c7e847",
   "metadata": {},
   "outputs": [
    {
     "name": "stdout",
     "output_type": "stream",
     "text": [
      "PQstar1, PCstar1, F1star1, fracOfCompstar, PQ1, PC1, F11, fracOfComp1\n"
     ]
    },
    {
     "data": {
      "text/plain": [
       "(0.5811827954492628,\n",
       " 1.0211287988422575,\n",
       " 0.7387171081869077,\n",
       " 0.0009290707168200954,\n",
       " 0.5811827954492628,\n",
       " 1.0211287988422575,\n",
       " 0.7387171081869077,\n",
       " 0.0009290707168200954)"
      ]
     },
     "execution_count": 70,
     "metadata": {},
     "output_type": "execute_result"
    }
   ],
   "source": [
    "#b=50, r=14\n",
    "output1LSH = [0.6206030150753769, 1.0723589001447178, 0.786206896551724, 0.7562144986495706, 0.0009060032962129972]\n",
    "output1 = [0.6206030150753769, 1.0723589001447178, 0.786206896551724, 0.7562144986495706, 0.0009060032962129972]\n",
    "output2LSH = [0.6596385542168675, 0.9507959479015919, 0.7788974510966211, 0.7562144986495706, 0.0007557615435746611]\n",
    "output2 = [0.6596385542168675, 0.9507959479015919, 0.7788974510966211, 0.7562144986495706, 0.0007557615435746611]\n",
    "output3LSH = [0.5301857585139319, 0.9913169319826338, 0.6908724155320223, 0.7562144986495706, 0.0009803653758016688]\n",
    "output3 = [0.5301857585139319, 0.9913169319826338, 0.6908724155320223, 0.7562144986495706, 0.0009803653758016688]\n",
    "output4LSH = [0.5303703703703704, 1.036179450072359, 0.7016168544830965, 0.7562144986495706, 0.0010243755861704743]\n",
    "output4 = [0.5303703703703704, 1.036179450072359, 0.7016168544830965, 0.7562144986495706, 0.0010243755861704743]\n",
    "output5LSH = [0.5651162790697675, 1.0549927641099854, 0.7359919232710751, 0.7562144986495706, 0.0009788477823406755]\n",
    "output5 = [0.5651162790697675, 1.0549927641099854, 0.7359919232710751, 0.7562144986495706, 0.0009788477823406755]\n",
    "bootEval()"
   ]
  },
  {
   "cell_type": "code",
   "execution_count": 47,
   "id": "dac0f4ef",
   "metadata": {},
   "outputs": [
    {
     "name": "stdout",
     "output_type": "stream",
     "text": [
      "keywords"
     ]
    },
    {
     "name": "stderr",
     "output_type": "stream",
     "text": [
      "/opt/anaconda3/lib/python3.8/site-packages/pandas/core/indexing.py:692: SettingWithCopyWarning: \n",
      "A value is trying to be set on a copy of a slice from a DataFrame\n",
      "\n",
      "See the caveats in the documentation: https://pandas.pydata.org/pandas-docs/stable/user_guide/indexing.html#returning-a-view-versus-a-copy\n",
      "  iloc._setitem_with_indexer(indexer, value, self.name)\n"
     ]
    },
    {
     "name": "stdout",
     "output_type": "stream",
     "text": [
      " 1534\n",
      "Ended dataprocessing ( 1 / 12 ) 0.7704432010650635\n",
      "Ended inputmatrix computation ( 2 / 12 ) 13.083019018173218\n",
      "Ended minhashing computation ( 3 / 12 ) 13.09716010093689\n",
      "Ended signaturematrix computation ( 4 / 12 ) 264.960086107254\n",
      "Ended splitting signaturematrix into bands ( 5 / 12 ) 265.09768295288086\n",
      "Ended creating hashvalues for bands ( 6 / 12 ) 269.69206619262695\n",
      "Ended removing (non)duplicate pairs from allPairsDef ( 7 / 12 ) 269.97244095802307\n",
      "Ended computing all bucketpairs across bands ( 8 / 12 ) 273.4037380218506\n",
      "Df 3377\n",
      "Ended LSH performance ( 9 / 12 ) 273.5695209503174\n",
      "Ended computing jaccard and cosine similarities ( 10 / 12 ) 297.7541379928589\n",
      "AllkeyWords: 1534\n",
      "\n",
      "perfLSH [0.18242221261884184, 4.88712011577424, 0.35171587772743845, 0.5179474679231212, 0.014046845074953941]\n",
      "perfSim [0.18242221261884184, 4.88712011577424, 0.35171587772743845, 0.5179474679231212, 0.014046845074953941]\n",
      "\n"
     ]
    },
    {
     "name": "stderr",
     "output_type": "stream",
     "text": [
      "/opt/anaconda3/lib/python3.8/site-packages/pandas/core/indexing.py:692: SettingWithCopyWarning: \n",
      "A value is trying to be set on a copy of a slice from a DataFrame\n",
      "\n",
      "See the caveats in the documentation: https://pandas.pydata.org/pandas-docs/stable/user_guide/indexing.html#returning-a-view-versus-a-copy\n",
      "  iloc._setitem_with_indexer(indexer, value, self.name)\n"
     ]
    },
    {
     "name": "stdout",
     "output_type": "stream",
     "text": [
      "keywords 1534\n",
      "Ended dataprocessing ( 1 / 12 ) 0.7538621425628662\n",
      "Ended inputmatrix computation ( 2 / 12 ) 13.060095071792603\n",
      "Ended minhashing computation ( 3 / 12 ) 13.07429313659668\n",
      "Ended signaturematrix computation ( 4 / 12 ) 265.3790683746338\n",
      "Ended splitting signaturematrix into bands ( 5 / 12 ) 265.5159661769867\n",
      "Ended creating hashvalues for bands ( 6 / 12 ) 270.01422810554504\n",
      "Ended removing (non)duplicate pairs from allPairsDef ( 7 / 12 ) 270.26152300834656\n",
      "Ended computing all bucketpairs across bands ( 8 / 12 ) 273.34224009513855\n",
      "Df 3602\n",
      "Ended LSH performance ( 9 / 12 ) 273.499391078949\n",
      "Ended computing jaccard and cosine similarities ( 10 / 12 ) 296.18766617774963\n",
      "AllkeyWords: 1534\n",
      "\n",
      "perfLSH [0.20709480825619503, 5.21273516642547, 0.39836319398363196, 0.5179474679231212, 0.013197751533528193]\n",
      "perfSim [0.20709480825619503, 5.21273516642547, 0.39836319398363196, 0.5179474679231212, 0.013197751533528193]\n",
      "\n"
     ]
    },
    {
     "name": "stderr",
     "output_type": "stream",
     "text": [
      "/opt/anaconda3/lib/python3.8/site-packages/pandas/core/indexing.py:692: SettingWithCopyWarning: \n",
      "A value is trying to be set on a copy of a slice from a DataFrame\n",
      "\n",
      "See the caveats in the documentation: https://pandas.pydata.org/pandas-docs/stable/user_guide/indexing.html#returning-a-view-versus-a-copy\n",
      "  iloc._setitem_with_indexer(indexer, value, self.name)\n"
     ]
    },
    {
     "name": "stdout",
     "output_type": "stream",
     "text": [
      "keywords 1534\n",
      "Ended dataprocessing ( 1 / 12 ) 0.7761092185974121\n",
      "Ended inputmatrix computation ( 2 / 12 ) 12.983650207519531\n",
      "Ended minhashing computation ( 3 / 12 ) 12.997798204421997\n",
      "Ended signaturematrix computation ( 4 / 12 ) 264.29711413383484\n",
      "Ended splitting signaturematrix into bands ( 5 / 12 ) 264.4392309188843\n",
      "Ended creating hashvalues for bands ( 6 / 12 ) 268.90004110336304\n",
      "Ended removing (non)duplicate pairs from allPairsDef ( 7 / 12 ) 269.1416561603546\n",
      "Ended computing all bucketpairs across bands ( 8 / 12 ) 272.06492710113525\n",
      "Df 3656\n",
      "Ended LSH performance ( 9 / 12 ) 272.2158463001251\n",
      "Ended computing jaccard and cosine similarities ( 10 / 12 ) 294.7651991844177\n",
      "AllkeyWords: 1534\n",
      "\n",
      "perfLSH [0.2144910530947492, 5.290882778581765, 0.41226883175462337, 0.5179474679231212, 0.012933690271315358]\n",
      "perfSim [0.2144910530947492, 5.290882778581765, 0.41226883175462337, 0.5179474679231212, 0.012933690271315358]\n",
      "\n"
     ]
    },
    {
     "name": "stderr",
     "output_type": "stream",
     "text": [
      "/opt/anaconda3/lib/python3.8/site-packages/pandas/core/indexing.py:692: SettingWithCopyWarning: \n",
      "A value is trying to be set on a copy of a slice from a DataFrame\n",
      "\n",
      "See the caveats in the documentation: https://pandas.pydata.org/pandas-docs/stable/user_guide/indexing.html#returning-a-view-versus-a-copy\n",
      "  iloc._setitem_with_indexer(indexer, value, self.name)\n"
     ]
    },
    {
     "name": "stdout",
     "output_type": "stream",
     "text": [
      "keywords 1534\n",
      "Ended dataprocessing ( 1 / 12 ) 0.7394828796386719\n",
      "Ended inputmatrix computation ( 2 / 12 ) 12.94503402709961\n",
      "Ended minhashing computation ( 3 / 12 ) 12.95914602279663\n",
      "Ended signaturematrix computation ( 4 / 12 ) 264.32695388793945\n",
      "Ended splitting signaturematrix into bands ( 5 / 12 ) 264.4708318710327\n",
      "Ended creating hashvalues for bands ( 6 / 12 ) 269.0690948963165\n",
      "Ended removing (non)duplicate pairs from allPairsDef ( 7 / 12 ) 269.3229229450226\n",
      "Ended computing all bucketpairs across bands ( 8 / 12 ) 271.47866797447205\n",
      "Df 3393\n",
      "Ended LSH performance ( 9 / 12 ) 271.6099886894226\n",
      "Ended computing jaccard and cosine similarities ( 10 / 12 ) 290.62645387649536\n",
      "AllkeyWords: 1534\n",
      "\n",
      "perfLSH [0.23065941536369816, 4.91027496382055, 0.44062073891305764, 0.5179474679231212, 0.011161899905605687]\n",
      "perfSim [0.23065941536369816, 4.91027496382055, 0.44062073891305764, 0.5179474679231212, 0.011161899905605687]\n",
      "\n"
     ]
    },
    {
     "name": "stderr",
     "output_type": "stream",
     "text": [
      "/opt/anaconda3/lib/python3.8/site-packages/pandas/core/indexing.py:692: SettingWithCopyWarning: \n",
      "A value is trying to be set on a copy of a slice from a DataFrame\n",
      "\n",
      "See the caveats in the documentation: https://pandas.pydata.org/pandas-docs/stable/user_guide/indexing.html#returning-a-view-versus-a-copy\n",
      "  iloc._setitem_with_indexer(indexer, value, self.name)\n"
     ]
    },
    {
     "name": "stdout",
     "output_type": "stream",
     "text": [
      "keywords 1534\n",
      "Ended dataprocessing ( 1 / 12 ) 0.7353088855743408\n",
      "Ended inputmatrix computation ( 2 / 12 ) 13.004360914230347\n",
      "Ended minhashing computation ( 3 / 12 ) 13.018391847610474\n",
      "Ended signaturematrix computation ( 4 / 12 ) 265.00820779800415\n",
      "Ended splitting signaturematrix into bands ( 5 / 12 ) 265.1459858417511\n",
      "Ended creating hashvalues for bands ( 6 / 12 ) 269.66755986213684\n",
      "Ended removing (non)duplicate pairs from allPairsDef ( 7 / 12 ) 269.92749786376953\n",
      "Ended computing all bucketpairs across bands ( 8 / 12 ) 275.63395285606384\n",
      "Df 4024\n",
      "Ended LSH performance ( 9 / 12 ) 275.84346985816956\n",
      "Ended computing jaccard and cosine similarities ( 10 / 12 ) 306.7562668323517\n",
      "AllkeyWords: 1534\n",
      "\n",
      "perfLSH [0.17019836738146596, 5.8234442836468885, 0.33073066491329, 0.5179474679231212, 0.01794023109913224]\n",
      "perfSim [0.17019836738146596, 5.8234442836468885, 0.33073066491329, 0.5179474679231212, 0.01794023109913224]\n",
      "\n"
     ]
    }
   ],
   "source": [
    "for i in range(numBootstrap):\n",
    "    bootdata = resample(df, n_samples = sizeBootstrap)\n",
    "    x_boot = (bootdata[['shop', 'url', 'featuresMap', 'title']])\n",
    "    y_boot = (bootdata['modelID'])\n",
    "    fulltransformation(df, x_boot, y_boot, 700, 100, 7, 0.85)"
   ]
  },
  {
   "cell_type": "code",
   "execution_count": 71,
   "id": "b405729f",
   "metadata": {},
   "outputs": [
    {
     "name": "stdout",
     "output_type": "stream",
     "text": [
      "PQstar1, PCstar1, F1star1, fracOfCompstar, PQ1, PC1, F11, fracOfComp1\n"
     ]
    },
    {
     "data": {
      "text/plain": [
       "(0.20097317134299003,\n",
       " 5.224891461649784,\n",
       " 0.3867398614584083,\n",
       " 0.013856083576907086,\n",
       " 0.20097317134299003,\n",
       " 5.224891461649784,\n",
       " 0.3867398614584083,\n",
       " 0.013856083576907086)"
      ]
     },
     "execution_count": 71,
     "metadata": {},
     "output_type": "execute_result"
    }
   ],
   "source": [
    "#b=100, r=7\n",
    "output1LSH = [0.18242221261884184, 4.88712011577424, 0.35171587772743845, 0.5179474679231212, 0.014046845074953941]\n",
    "output1 = [0.18242221261884184, 4.88712011577424, 0.35171587772743845, 0.5179474679231212, 0.014046845074953941]\n",
    "output2LSH = [0.20709480825619503, 5.21273516642547, 0.39836319398363196, 0.5179474679231212, 0.013197751533528193]\n",
    "output2 = [0.20709480825619503, 5.21273516642547, 0.39836319398363196, 0.5179474679231212, 0.013197751533528193]\n",
    "output3LSH = [0.2144910530947492, 5.290882778581765, 0.41226883175462337, 0.5179474679231212, 0.012933690271315358]\n",
    "output3 = [0.2144910530947492, 5.290882778581765, 0.41226883175462337, 0.5179474679231212, 0.012933690271315358]\n",
    "output4LSH = [0.23065941536369816, 4.91027496382055, 0.44062073891305764, 0.5179474679231212, 0.011161899905605687]\n",
    "output4 = [0.23065941536369816, 4.91027496382055, 0.44062073891305764, 0.5179474679231212, 0.011161899905605687]\n",
    "output5LSH = [0.17019836738146596, 5.8234442836468885, 0.33073066491329, 0.5179474679231212, 0.01794023109913224]\n",
    "output5 = [0.17019836738146596, 5.8234442836468885, 0.33073066491329, 0.5179474679231212, 0.01794023109913224]\n",
    "bootEval()"
   ]
  },
  {
   "cell_type": "code",
   "execution_count": 48,
   "id": "4b125e7d",
   "metadata": {},
   "outputs": [
    {
     "name": "stderr",
     "output_type": "stream",
     "text": [
      "/opt/anaconda3/lib/python3.8/site-packages/pandas/core/indexing.py:692: SettingWithCopyWarning: \n",
      "A value is trying to be set on a copy of a slice from a DataFrame\n",
      "\n",
      "See the caveats in the documentation: https://pandas.pydata.org/pandas-docs/stable/user_guide/indexing.html#returning-a-view-versus-a-copy\n",
      "  iloc._setitem_with_indexer(indexer, value, self.name)\n"
     ]
    },
    {
     "name": "stdout",
     "output_type": "stream",
     "text": [
      "keywords 1534\n",
      "Ended dataprocessing ( 1 / 12 ) 0.754997730255127\n",
      "Ended inputmatrix computation ( 2 / 12 ) 13.163140773773193\n",
      "Ended minhashing computation ( 3 / 12 ) 13.177022933959961\n",
      "Ended signaturematrix computation ( 4 / 12 ) 265.5544328689575\n",
      "Ended splitting signaturematrix into bands ( 5 / 12 ) 265.692923784256\n",
      "Ended creating hashvalues for bands ( 6 / 12 ) 271.91315484046936\n",
      "Ended removing (non)duplicate pairs from allPairsDef ( 7 / 12 ) 272.33667182922363\n",
      "Ended computing all bucketpairs across bands ( 8 / 12 ) 380.7203199863434\n",
      "Df 10936\n",
      "Ended LSH performance ( 9 / 12 ) 381.61102294921875\n",
      "Ended computing jaccard and cosine similarities ( 10 / 12 ) 513.2410068511963\n",
      "AllkeyWords: 1534\n",
      "\n",
      "perfLSH [0.10810490208677256, 15.826338639652677, 0.2147429603738758, 0.3721983065876935, 0.07676063605377137]\n",
      "perfSim [0.10810490208677256, 15.826338639652677, 0.2147429603738758, 0.3721983065876935, 0.07676063605377137]\n",
      "\n"
     ]
    },
    {
     "name": "stderr",
     "output_type": "stream",
     "text": [
      "/opt/anaconda3/lib/python3.8/site-packages/pandas/core/indexing.py:692: SettingWithCopyWarning: \n",
      "A value is trying to be set on a copy of a slice from a DataFrame\n",
      "\n",
      "See the caveats in the documentation: https://pandas.pydata.org/pandas-docs/stable/user_guide/indexing.html#returning-a-view-versus-a-copy\n",
      "  iloc._setitem_with_indexer(indexer, value, self.name)\n"
     ]
    },
    {
     "name": "stdout",
     "output_type": "stream",
     "text": [
      "keywords 1534\n",
      "Ended dataprocessing ( 1 / 12 ) 0.7439131736755371\n",
      "Ended inputmatrix computation ( 2 / 12 ) 12.947343111038208\n",
      "Ended minhashing computation ( 3 / 12 ) 12.961568117141724\n",
      "Ended signaturematrix computation ( 4 / 12 ) 264.5241003036499\n",
      "Ended splitting signaturematrix into bands ( 5 / 12 ) 264.6630620956421\n",
      "Ended creating hashvalues for bands ( 6 / 12 ) 270.8308639526367\n",
      "Ended removing (non)duplicate pairs from allPairsDef ( 7 / 12 ) 271.2278039455414\n",
      "Ended computing all bucketpairs across bands ( 8 / 12 ) 407.38112711906433\n",
      "Df 12560\n",
      "Ended LSH performance ( 9 / 12 ) 408.39140725135803\n",
      "Ended computing jaccard and cosine similarities ( 10 / 12 ) 554.7960920333862\n",
      "AllkeyWords: 1534\n",
      "\n",
      "perfLSH [0.11065396847771503, 18.17655571635311, 0.21996882607401178, 0.3721983065876935, 0.08612874048848299]\n",
      "perfSim [0.11065396847771503, 18.17655571635311, 0.21996882607401178, 0.3721983065876935, 0.08612874048848299]\n",
      "\n"
     ]
    },
    {
     "name": "stderr",
     "output_type": "stream",
     "text": [
      "/opt/anaconda3/lib/python3.8/site-packages/pandas/core/indexing.py:692: SettingWithCopyWarning: \n",
      "A value is trying to be set on a copy of a slice from a DataFrame\n",
      "\n",
      "See the caveats in the documentation: https://pandas.pydata.org/pandas-docs/stable/user_guide/indexing.html#returning-a-view-versus-a-copy\n",
      "  iloc._setitem_with_indexer(indexer, value, self.name)\n"
     ]
    },
    {
     "name": "stdout",
     "output_type": "stream",
     "text": [
      "keywords 1534\n",
      "Ended dataprocessing ( 1 / 12 ) 0.7348678112030029\n",
      "Ended inputmatrix computation ( 2 / 12 ) 12.976781606674194\n",
      "Ended minhashing computation ( 3 / 12 ) 12.990493774414062\n",
      "Ended signaturematrix computation ( 4 / 12 ) 263.72824883461\n",
      "Ended splitting signaturematrix into bands ( 5 / 12 ) 263.86863589286804\n",
      "Ended creating hashvalues for bands ( 6 / 12 ) 270.0838499069214\n",
      "Ended removing (non)duplicate pairs from allPairsDef ( 7 / 12 ) 270.5319118499756\n",
      "Ended computing all bucketpairs across bands ( 8 / 12 ) 396.37561869621277\n",
      "Df 11761\n",
      "Ended LSH performance ( 9 / 12 ) 397.33065485954285\n",
      "Ended computing jaccard and cosine similarities ( 10 / 12 ) 537.983297586441\n",
      "AllkeyWords: 1534\n",
      "\n",
      "perfLSH [0.10748099137300775, 17.02026049204052, 0.21361304091177405, 0.3721983065876935, 0.08303057343786517]\n",
      "perfSim [0.10748099137300775, 17.02026049204052, 0.21361304091177405, 0.3721983065876935, 0.08303057343786517]\n",
      "\n"
     ]
    },
    {
     "name": "stderr",
     "output_type": "stream",
     "text": [
      "/opt/anaconda3/lib/python3.8/site-packages/pandas/core/indexing.py:692: SettingWithCopyWarning: \n",
      "A value is trying to be set on a copy of a slice from a DataFrame\n",
      "\n",
      "See the caveats in the documentation: https://pandas.pydata.org/pandas-docs/stable/user_guide/indexing.html#returning-a-view-versus-a-copy\n",
      "  iloc._setitem_with_indexer(indexer, value, self.name)\n"
     ]
    },
    {
     "name": "stdout",
     "output_type": "stream",
     "text": [
      "keywords 1534\n",
      "Ended dataprocessing ( 1 / 12 ) 0.7353079319000244\n",
      "Ended inputmatrix computation ( 2 / 12 ) 13.016803979873657\n",
      "Ended minhashing computation ( 3 / 12 ) 13.03069806098938\n",
      "Ended signaturematrix computation ( 4 / 12 ) 263.5033881664276\n",
      "Ended splitting signaturematrix into bands ( 5 / 12 ) 263.6463510990143\n",
      "Ended creating hashvalues for bands ( 6 / 12 ) 269.7754521369934\n",
      "Ended removing (non)duplicate pairs from allPairsDef ( 7 / 12 ) 270.19563603401184\n",
      "Ended computing all bucketpairs across bands ( 8 / 12 ) 454.4706611633301\n",
      "Df 10509\n",
      "Ended LSH performance ( 9 / 12 ) 455.3171350955963\n",
      "Ended computing jaccard and cosine similarities ( 10 / 12 ) 583.8820798397064\n",
      "AllkeyWords: 1534\n",
      "\n",
      "perfLSH [0.1073212079125009, 15.208393632416787, 0.21313836044294812, 0.3721983065876935, 0.07430213464696224]\n",
      "perfSim [0.1073212079125009, 15.208393632416787, 0.21313836044294812, 0.3721983065876935, 0.07430213464696224]\n",
      "\n"
     ]
    },
    {
     "name": "stderr",
     "output_type": "stream",
     "text": [
      "/opt/anaconda3/lib/python3.8/site-packages/pandas/core/indexing.py:692: SettingWithCopyWarning: \n",
      "A value is trying to be set on a copy of a slice from a DataFrame\n",
      "\n",
      "See the caveats in the documentation: https://pandas.pydata.org/pandas-docs/stable/user_guide/indexing.html#returning-a-view-versus-a-copy\n",
      "  iloc._setitem_with_indexer(indexer, value, self.name)\n"
     ]
    },
    {
     "name": "stdout",
     "output_type": "stream",
     "text": [
      "keywords 1534\n",
      "Ended dataprocessing ( 1 / 12 ) 0.7533149719238281\n",
      "Ended inputmatrix computation ( 2 / 12 ) 12.973405122756958\n",
      "Ended minhashing computation ( 3 / 12 ) 12.987726926803589\n",
      "Ended signaturematrix computation ( 4 / 12 ) 265.9741678237915\n",
      "Ended splitting signaturematrix into bands ( 5 / 12 ) 266.11628818511963\n",
      "Ended creating hashvalues for bands ( 6 / 12 ) 272.3088119029999\n",
      "Ended removing (non)duplicate pairs from allPairsDef ( 7 / 12 ) 272.7221300601959\n",
      "Ended computing all bucketpairs across bands ( 8 / 12 ) 364.7590260505676\n",
      "Df 10589\n",
      "Ended LSH performance ( 9 / 12 ) 365.5745508670807\n",
      "Ended computing jaccard and cosine similarities ( 10 / 12 ) 535.2039589881897\n",
      "AllkeyWords: 1534\n",
      "\n",
      "perfLSH [0.11352817565828974, 15.324167872648335, 0.2253865883379628, 0.3721983065876935, 0.07077448864688332]\n",
      "perfSim [0.11352817565828974, 15.324167872648335, 0.2253865883379628, 0.3721983065876935, 0.07077448864688332]\n",
      "\n"
     ]
    }
   ],
   "source": [
    "for i in range(numBootstrap):\n",
    "    bootdata = resample(df, n_samples = sizeBootstrap)\n",
    "    x_boot = (bootdata[['shop', 'url', 'featuresMap', 'title']])\n",
    "    y_boot = (bootdata['modelID'])\n",
    "    fulltransformation(df, x_boot, y_boot, 700, 140, 5, 0.85)"
   ]
  },
  {
   "cell_type": "code",
   "execution_count": 72,
   "id": "ab626ce1",
   "metadata": {},
   "outputs": [
    {
     "name": "stdout",
     "output_type": "stream",
     "text": [
      "PQstar1, PCstar1, F1star1, fracOfCompstar, PQ1, PC1, F11, fracOfComp1\n"
     ]
    },
    {
     "data": {
      "text/plain": [
       "(0.1094178491016572,\n",
       " 16.311143270622285,\n",
       " 0.21736995522811448,\n",
       " 0.07819931465479302,\n",
       " 0.1094178491016572,\n",
       " 16.311143270622285,\n",
       " 0.21736995522811448,\n",
       " 0.07819931465479302)"
      ]
     },
     "execution_count": 72,
     "metadata": {},
     "output_type": "execute_result"
    }
   ],
   "source": [
    "#b=140, r=5\n",
    "output1LSH = [0.10810490208677256, 15.826338639652677, 0.2147429603738758, 0.3721983065876935, 0.07676063605377137]\n",
    "output1 = [0.10810490208677256, 15.826338639652677, 0.2147429603738758, 0.3721983065876935, 0.07676063605377137]\n",
    "output2LSH = [0.11065396847771503, 18.17655571635311, 0.21996882607401178, 0.3721983065876935, 0.08612874048848299]\n",
    "output2 = [0.11065396847771503, 18.17655571635311, 0.21996882607401178, 0.3721983065876935, 0.08612874048848299]\n",
    "output3LSH = [0.10748099137300775, 17.02026049204052, 0.21361304091177405, 0.3721983065876935, 0.08303057343786517]\n",
    "output3 = [0.10748099137300775, 17.02026049204052, 0.21361304091177405, 0.3721983065876935, 0.08303057343786517]\n",
    "output4LSH = [0.1073212079125009, 15.208393632416787, 0.21313836044294812, 0.3721983065876935, 0.07430213464696224]\n",
    "output4 = [0.1073212079125009, 15.208393632416787, 0.21313836044294812, 0.3721983065876935, 0.07430213464696224]\n",
    "output5LSH = [0.11352817565828974, 15.324167872648335, 0.2253865883379628, 0.3721983065876935, 0.07077448864688332]\n",
    "output5 = [0.11352817565828974, 15.324167872648335, 0.2253865883379628, 0.3721983065876935, 0.07077448864688332]\n",
    "bootEval()"
   ]
  },
  {
   "cell_type": "markdown",
   "id": "2298ce34",
   "metadata": {},
   "source": [
    "## Graphs\n",
    "\n",
    "    "
   ]
  },
  {
   "cell_type": "code",
   "execution_count": 73,
   "id": "50044246",
   "metadata": {},
   "outputs": [
    {
     "data": {
      "image/png": "[encoded data removed]",
      "text/plain": [
       "<Figure size 432x288 with 1 Axes>"
      ]
     },
     "metadata": {
      "needs_background": "light"
     },
     "output_type": "display_data"
    },
    {
     "data": {
      "image/png": "[encoded data removed]",
      "text/plain": [
       "<Figure size 432x288 with 1 Axes>"
      ]
     },
     "metadata": {
      "needs_background": "light"
     },
     "output_type": "display_data"
    },
    {
     "data": {
      "image/png": "[encoded data removed]",
      "text/plain": [
       "<Figure size 432x288 with 1 Axes>"
      ]
     },
     "metadata": {
      "needs_background": "light"
     },
     "output_type": "display_data"
    },
    {
     "data": {
      "image/png": "[encoded data removed]",
      "text/plain": [
       "<Figure size 432x288 with 1 Axes>"
      ]
     },
     "metadata": {
      "needs_background": "light"
     },
     "output_type": "display_data"
    }
   ],
   "source": [
    "##-- Pair Quality\n",
    "FracLSH = [0.000383496, 0.000400948, 0.000421739, 0.000460741, 0.000929071, 0.013856083576907086, 0.07819931465479302, 0.242006076]\n",
    "FracS = [0.000383496, 0.000400948, 0.000421739, 0.000460741, 0.000929071, 0.013856083576907086, 0.07819931465479302, 0.242006076]\n",
    "\n",
    "PQLSH = [0.9589566087071043, 0.945401282, 0.942058001, 0.837212911, 0.581182795, 0.20097317134299003, 0.1094178491016572, 0.07284265710146927]\n",
    "PQS = [0.958956609, 0.945401282, 0.942058001, 0.837212911, 0.581182795, 0.20097317134299003, 0.1094178491016572, 0.072842657]\n",
    "plt.plot(FracLSH, PQLSH, label='LSH', marker='o');\n",
    "plt.plot(FracS, PQS, label='LSH+')\n",
    "plt.title('Pair Quality'); plt.xlabel('Fraction of Comparisons'); plt.ylabel('Pair Quality'); plt.legend();\n",
    "plt.grid(); plt.show()\n",
    "\n",
    "##-- Pair Completeness\n",
    "plt.figure()\n",
    "PCLSH = [0.7015918958031838, 0.722720695, 0.757163531, 0.735166425, 1.02, 5.224891461649784, 16.311143270622285, 33.62083936]\n",
    "PCS = [0.701591896, 0.722720695, 0.757163531, 0.735166425, 1.02, 5.224891461649784, 16.311143270622285, 33.62083936]\n",
    "plt.plot(FracLSH, PCLSH, label='LSH', marker='o');\n",
    "plt.plot(FracS, PCS, label='LSH+')\n",
    "plt.title('Pair Completely'); \n",
    "plt.xlabel('Fraction of Comparisons'); plt.ylabel('Pair Completeness'); plt.legend(); plt.grid(); plt.show()\n",
    "\n",
    "##-- F1 LSH\n",
    "plt.figure()\n",
    "F1 = [0.810228669, 0.818671072, 0.839119351, 0.782758649, 0.738717108, 0.3867398614584083, 0.21736995522811448, 0.145370356]\n",
    "plt.plot(FracLSH, F1, label='LSH', marker='o')\n",
    "plt.title('F1* LSH')\n",
    "plt.xlabel('Fraction of Comparisons'); plt.ylabel('F1*'); plt.legend(); plt.grid(); plt.show()\n",
    "\n",
    "plt.figure()\n",
    "F1S = [0.810228669, 0.818671072, 0.839119351, 0.782758649, 0.738717108, 0.3867398614584083, 0.21736995522811448, 0.145370356]\n",
    "plt.plot(FracS, F1S, label='LSH+')\n",
    "plt.title('F1 LSH+')\n",
    "plt.xlabel('Fraction of Comparisons'); plt.ylabel('F1'); plt.legend(); plt.grid(); plt.show()\n"
   ]
  }
 ],
 "metadata": {
  "kernelspec": {
   "display_name": "Python 3",
   "language": "python",
   "name": "python3"
  },
  "language_info": {
   "codemirror_mode": {
    "name": "ipython",
    "version": 3
   },
   "file_extension": ".py",
   "mimetype": "text/x-python",
   "name": "python",
   "nbconvert_exporter": "python",
   "pygments_lexer": "ipython3",
   "version": "3.8.8"
  }
 },
 "nbformat": 4,
 "nbformat_minor": 5
}
